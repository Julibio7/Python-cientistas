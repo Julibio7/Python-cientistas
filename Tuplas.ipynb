{
  "nbformat": 4,
  "nbformat_minor": 0,
  "metadata": {
    "colab": {
      "name": "Tuplas.ipynb",
      "provenance": [],
      "authorship_tag": "ABX9TyOE0RwhnJNFRlLVn6i5VdNI",
      "include_colab_link": true
    },
    "kernelspec": {
      "name": "python3",
      "display_name": "Python 3"
    },
    "language_info": {
      "name": "python"
    }
  },
  "cells": [
    {
      "cell_type": "markdown",
      "metadata": {
        "id": "view-in-github",
        "colab_type": "text"
      },
      "source": [
        "<a href=\"https://colab.research.google.com/github/Julibio7/Python-cientistas/blob/main/Tuplas.ipynb\" target=\"_parent\"><img src=\"https://colab.research.google.com/assets/colab-badge.svg\" alt=\"Open In Colab\"/></a>"
      ]
    },
    {
      "cell_type": "markdown",
      "source": [
        "\n",
        "# <center> **Noções básicas de Python**\n",
        "\n",
        "### <center> TUPLAS\n",
        "\n",
        "___\n",
        "\n",
        "Tuplas são usadas para armazenar vários itens em uma única variável.\n",
        "\n",
        "Tuple é um dos 4 tipos de dados internos do Python usados ​​para armazenar coleções de dados, os outros 3 são List , Set e Dictionary , todos com qualidades e usos diferentes.\n",
        "\n",
        "Uma tupla é uma coleção ordenada e imutável .\n",
        "\n",
        "Tuplas são escritas com colchetes.\n",
        "\n",
        "\n",
        "` tupla = (1, 2, 3, 4, 5)`\n",
        "\n",
        "\n",
        "\n",
        "\n",
        "\n",
        "\n"
      ],
      "metadata": {
        "id": "77NKJ7y6ZHde"
      }
    },
    {
      "cell_type": "code",
      "source": [
        "# Exemplo de Tupla\n",
        "\n",
        "tupla = ( 6, 8, 4, 6, 7, 5, 4, 6, 2, 9, 1)"
      ],
      "metadata": {
        "id": "9w0YMMc9Wj4u"
      },
      "execution_count": null,
      "outputs": []
    },
    {
      "cell_type": "markdown",
      "source": [
        "## Itens de uma Tupla\n",
        "\n",
        "- Os itens de tupla são ordenados, imutáveis ​​e permitem valores duplicados.\n",
        "\n",
        "- Os itens de tupla são indexados, o primeiro item possui índice [0], o segundo item possui índice [1] etc.\n",
        "\n",
        "Através do Index podemos encontrar uma posição de determinada informação dentro da tupla."
      ],
      "metadata": {
        "id": "Y3F524YHFNO8"
      }
    },
    {
      "cell_type": "code",
      "source": [
        "# Você pode acessar os itens da tupla consultando o número do índice, entre colchetes:\n",
        "print(tupla[0])"
      ],
      "metadata": {
        "id": "OysSRSFlXHBy"
      },
      "execution_count": null,
      "outputs": []
    },
    {
      "cell_type": "markdown",
      "source": [
        "\n",
        "Indexação negativa -->  significa começar do fim. -1 refere-se ao último item, -2 refere-se ao penúltimo item e"
      ],
      "metadata": {
        "id": "u0Dxu6tcbJt3"
      }
    },
    {
      "cell_type": "code",
      "source": [
        "print(tupla[-1])"
      ],
      "metadata": {
        "id": "MWI6qvLrblXA"
      },
      "execution_count": null,
      "outputs": []
    },
    {
      "cell_type": "markdown",
      "source": [
        "**Faixa de índices**\n",
        "\n",
        "Você pode especificar um intervalo de índices especificando onde começar e onde terminar o intervalo. \n",
        "\n",
        "Ao especificar um intervalo, o valor de retorno será uma nova tupla com os itens especificados."
      ],
      "metadata": {
        "id": "m-kdDhS-bvbI"
      }
    },
    {
      "cell_type": "code",
      "source": [
        "classes = ('Agaricomycetes', 'Eurotiomycetes', 'Mortierellomycetes', 'Leotiomycetes', 'Dothideomycetes')\n",
        "print(classes[1:3])"
      ],
      "metadata": {
        "id": "jL-hmi-Sb4IN"
      },
      "execution_count": null,
      "outputs": []
    },
    {
      "cell_type": "markdown",
      "source": [
        "Também é possível retornae os itens do índice negativos"
      ],
      "metadata": {
        "id": "1tel0b0DciVi"
      }
    },
    {
      "cell_type": "code",
      "source": [
        "classes = ('Agaricomycetes', 'Eurotiomycetes', 'Mortierellomycetes', 'Leotiomycetes', 'Dothideomycetes')\n",
        "print(classes[-3:-1])"
      ],
      "metadata": {
        "colab": {
          "base_uri": "https://localhost:8080/"
        },
        "id": "AkiiIgR0crvu",
        "outputId": "b44a398f-0f3f-40a2-f749-c309c620752e"
      },
      "execution_count": null,
      "outputs": [
        {
          "output_type": "stream",
          "name": "stdout",
          "text": [
            "('Mortierellomycetes', 'Leotiomycetes')\n"
          ]
        }
      ]
    },
    {
      "cell_type": "markdown",
      "source": [
        "## Comprimento da Tupla\n",
        "\n",
        "Para determinar quantos itens uma tupla possui, use a função`len() `:"
      ],
      "metadata": {
        "id": "FG7_CmxiGCkk"
      }
    },
    {
      "cell_type": "code",
      "source": [
        "#vamos criar uma tupla para armazenar classes de fungos\n",
        "\n",
        "classes = ('Agaricomycetes', 'Eurotiomycetes', 'Mortierellomycetes', 'Leotiomycetes', 'Dothideomycetes')\n",
        "print(len(classes))"
      ],
      "metadata": {
        "id": "L_349RE6GcHH"
      },
      "execution_count": null,
      "outputs": []
    },
    {
      "cell_type": "markdown",
      "source": [
        "## Contar itens\n",
        "Temos também o Count que é para contar quantas vezes determinada informação aparece dentro da nossa tupla."
      ],
      "metadata": {
        "id": "855Tt1nPfsLW"
      }
    },
    {
      "cell_type": "code",
      "source": [
        "#count\n",
        "genero = ('Peniophora', 'Thelebolus', 'Verrucaria', 'Leohumicola', 'Glarea', 'Peniophora', 'Mycoacia', 'Pezoloma', 'Peniophora')\n",
        "print(genero.count('Peniophora'))"
      ],
      "metadata": {
        "id": "N1_SuBcEfs19"
      },
      "execution_count": null,
      "outputs": []
    },
    {
      "cell_type": "markdown",
      "source": [
        "## Criar Tupla com um Item\n",
        "\n",
        "Para criar uma tupla com apenas um item, você deve adicionar uma vírgula após o item, caso contrário, o Python não o reconhecerá como uma tupla."
      ],
      "metadata": {
        "id": "KSSzD6r7H-gU"
      }
    },
    {
      "cell_type": "code",
      "source": [
        "#Tupla com apenas um item\n",
        "filo = ('Basidiomycota',)\n",
        "print(filo)\n",
        "print(type(filo))"
      ],
      "metadata": {
        "colab": {
          "base_uri": "https://localhost:8080/"
        },
        "id": "Yfo03tRQIDcy",
        "outputId": "b7ce194d-0b86-4681-de33-98dad445dfc5"
      },
      "execution_count": null,
      "outputs": [
        {
          "output_type": "stream",
          "name": "stdout",
          "text": [
            "('Basidiomycota',)\n",
            "<class 'tuple'>\n"
          ]
        }
      ]
    },
    {
      "cell_type": "code",
      "source": [
        "# isso não é uma tupla\n",
        "filo = ('Basidiomycota')\n",
        "print(filo)\n",
        "print(type(filo))"
      ],
      "metadata": {
        "id": "e2RzzzNxIYqT"
      },
      "execution_count": null,
      "outputs": []
    },
    {
      "cell_type": "markdown",
      "source": [
        "## Itens de Tupla - Tipos de Dados\n",
        "Os itens de tupla podem ser de qualquer tipo de dados:"
      ],
      "metadata": {
        "id": "pasqrSZ9IhWS"
      }
    },
    {
      "cell_type": "code",
      "source": [
        "# Tipos de dados String, int e boolean:\n",
        "genero = ('Peniophora', 'Thelebolus', 'Verrucaria')\n",
        "numero = (34, 21, 56)\n",
        "boolean = (True, False, True)\n"
      ],
      "metadata": {
        "id": "ilZIE24FIpIa"
      },
      "execution_count": null,
      "outputs": []
    },
    {
      "cell_type": "markdown",
      "source": [
        "Uma tupla pode conter diferentes tipos de dados:\n",
        "\n"
      ],
      "metadata": {
        "id": "tXmiTn_IJFeP"
      }
    },
    {
      "cell_type": "code",
      "source": [
        "microrganismo = ('Penicillium sp', 28, 'MA', True)"
      ],
      "metadata": {
        "id": "mjDTkNwGJK0m"
      },
      "execution_count": null,
      "outputs": []
    },
    {
      "cell_type": "markdown",
      "source": [
        "## O construtor tupla()\n",
        "\n",
        "Também é possível usar o construtor tuple() para fazer uma tupla."
      ],
      "metadata": {
        "id": "0p131pTiaSOo"
      }
    },
    {
      "cell_type": "code",
      "source": [
        "# Usando o método tuple() para fazer uma tupla:\n",
        "\n",
        "dados = tuple(('Penicillium sp', 28, 'MA', True))\n",
        "print(dados)"
      ],
      "metadata": {
        "id": "7tBhmlrdacZZ"
      },
      "execution_count": null,
      "outputs": []
    },
    {
      "cell_type": "markdown",
      "source": [
        "## Imutável\n",
        "\n",
        "As tuplas são imutáveis, o que significa que não podemos alterar, adicionar ou remover itens após a criação da tupla."
      ],
      "metadata": {
        "id": "ARhtt-KfFteV"
      }
    },
    {
      "cell_type": "code",
      "source": [
        "# Será que é possível alterar uma valor\n",
        "tupla [0] = 30"
      ],
      "metadata": {
        "id": "tdOXzvB4XRBd"
      },
      "execution_count": null,
      "outputs": []
    },
    {
      "cell_type": "markdown",
      "source": [
        "Observe a mensagem do erro \" o objeto 'tupla' não suporta atribuição de item\"\n",
        "\n",
        "Isto quer dizer que uma Tupla não suporta alterações"
      ],
      "metadata": {
        "id": "4-Ibez8oXePe"
      }
    },
    {
      "cell_type": "code",
      "source": [
        "# E será que é possível deletar item\n",
        "del tupla [1]"
      ],
      "metadata": {
        "id": "hbWDO5p-XrML"
      },
      "execution_count": null,
      "outputs": []
    },
    {
      "cell_type": "code",
      "source": [
        "# e adicionar item\n",
        "tupla.append(10)"
      ],
      "metadata": {
        "id": "4lXtfEX3X1ce"
      },
      "execution_count": null,
      "outputs": []
    },
    {
      "cell_type": "markdown",
      "source": [
        "Existem alguns métodos que podem ser utilizados em Tuplas"
      ],
      "metadata": {
        "id": "RwS50W4ibG4s"
      }
    },
    {
      "cell_type": "code",
      "source": [
        "dir(tuple)"
      ],
      "metadata": {
        "id": "Yx3ZNYAnbKQB"
      },
      "execution_count": null,
      "outputs": []
    },
    {
      "cell_type": "markdown",
      "source": [
        "## Alterar valores da tupla\n",
        "\n",
        "Depois que uma tupla é criada, você não pode alterar seus valores. Tuplas são **imutáveis**.\n",
        "\n",
        "Mas há uma solução alternativa. Você pode converter a tupla em uma lista, alterar a lista e convertê-la novamente em uma tupla."
      ],
      "metadata": {
        "id": "SKUXxksGY2Gw"
      }
    },
    {
      "cell_type": "code",
      "source": [
        "fungos = ('Penicillium', 'Cladosporium', 'Trichoderma')\n",
        "fungos_list = list(fungos)\n",
        "fungos_list[1] = 'Thelebolus'\n",
        "fungos = tuple(fungos_list)\n",
        "\n",
        "print(fungos)"
      ],
      "metadata": {
        "id": "oMFnsbK0ZDbR"
      },
      "execution_count": null,
      "outputs": []
    },
    {
      "cell_type": "markdown",
      "source": [
        "## Adicionar itens em uma Tupla\n",
        "\n",
        "Como as tuplas são imutáveis, elas não possuem o método `append(), mas existem outras maneiras de adicionar itens a uma tupla.\n",
        "\n",
        "1. Converter em uma lista : Assim como a solução alternativa para alterar uma tupla, você pode convertê-la em uma lista, adicionar tens e convertê-la novamente em uma tupla."
      ],
      "metadata": {
        "id": "ynM4pwyDaDj7"
      }
    },
    {
      "cell_type": "code",
      "source": [
        "# Converta a tupla em uma lista, adicione o fungo \"Peniophora\" e converta novamente em uma tupla:\n",
        "\n",
        "fungos = ('Penicillium', 'Cladosporium', 'Trichoderma')\n",
        "fungos_list = list(fungos)\n",
        "fungos_list.append('Peniophora')\n",
        "fungos = tuple(fungos_list)\n",
        "\n",
        "print(fungos)\n"
      ],
      "metadata": {
        "id": "iJbuxBTVacVh"
      },
      "execution_count": null,
      "outputs": []
    },
    {
      "cell_type": "markdown",
      "source": [
        "2. Adicionar tupla a uma tupla . Você tem permissão para adicionar tuplas a tuplas, portanto, se você quiser adicionar um item (ou muitos), crie uma nova tupla com os itebs e adicione-a à tupla existente:"
      ],
      "metadata": {
        "id": "qZPas_XVbEwZ"
      }
    },
    {
      "cell_type": "code",
      "source": [
        "fungos = ('Penicillium', 'Cladosporium', 'Trichoderma')\n",
        "isolados = ('Verrucaria', 'Gibberella', 'Cortinarius')\n",
        "\n",
        "fungos += isolados\n",
        "\n",
        "print(fungos)"
      ],
      "metadata": {
        "id": "JkeH7KuAbMmK"
      },
      "execution_count": null,
      "outputs": []
    },
    {
      "cell_type": "markdown",
      "source": [
        "## Junte Tuplas\n",
        "\n",
        "Junte duas tuplas\n",
        "\n",
        "Para juntar duas ou mais tuplas você pode usar o operador `+`"
      ],
      "metadata": {
        "id": "lmCWd1tBcOOZ"
      }
    },
    {
      "cell_type": "code",
      "source": [
        "# vamos juntar as tuplas colecao com a tupla isolados para atualizar nossa coleção com os novos fungos\n",
        "colecao = ('Penicillium', 'Cladosporium', 'Trichoderma')\n",
        "isolados = ('Verrucaria', 'Gibberella', 'Cortinarius')\n",
        "\n",
        "colecao_atualizada = colecao + isolados\n",
        "print(colecao_atualizada)"
      ],
      "metadata": {
        "id": "couapcN6catC"
      },
      "execution_count": null,
      "outputs": []
    },
    {
      "cell_type": "markdown",
      "source": [
        "Multiplicar Tuplas\n",
        "\n",
        "Se você quiser multiplicar o conteúdo de uma tupla um determinado número de vezes, você pode usar o operados `*`."
      ],
      "metadata": {
        "id": "uGSOZ-k4c1AC"
      }
    },
    {
      "cell_type": "code",
      "source": [
        "colecao = ('Penicillium', 'Cladosporium', 'Trichoderma')\n",
        "multi_colecao = colecao * 2\n",
        "print(multi_colecao)"
      ],
      "metadata": {
        "colab": {
          "base_uri": "https://localhost:8080/"
        },
        "id": "i5qgSAOMc8lt",
        "outputId": "bbb86127-5117-43f6-8746-938a12486e62"
      },
      "execution_count": null,
      "outputs": [
        {
          "output_type": "stream",
          "name": "stdout",
          "text": [
            "('Penicillium', 'Cladosporium', 'Trichoderma', 'Penicillium', 'Cladosporium', 'Trichoderma')\n"
          ]
        }
      ]
    },
    {
      "cell_type": "markdown",
      "source": [
        "## Verifique se existe um item\n",
        "\n",
        "Para determinar se um item especifico está presente em uma tupla, use a palavra-chave `in`:"
      ],
      "metadata": {
        "id": "06tivBaoXNyS"
      }
    },
    {
      "cell_type": "code",
      "source": [
        "# vamos verificar se o fungo do gênero Penicillium está presente na tupla\n",
        "\n",
        "colecao = ('Peniophora', 'Thelebolus', 'Verrucaria', 'Gibberella', 'Cortinarius', 'Penicillium', 'Cladosporium', 'Trichoderma')\n",
        "if 'Penicillium' in colecao:\n",
        "  print('O fungo pertencente ao genêro Penicillium está presente na coleção')"
      ],
      "metadata": {
        "id": "9LX9MOoLXaYK"
      },
      "execution_count": null,
      "outputs": []
    },
    {
      "cell_type": "markdown",
      "source": [
        "## Listas de Tuplas\n",
        "\n",
        "Podemos fazer uma lista de tuplas, ou seja, criar uma lista com informações que não podem ser alteradas\n",
        "\n"
      ],
      "metadata": {
        "id": "QrSeixLdbYzN"
      }
    },
    {
      "cell_type": "code",
      "source": [
        "microrganismo = ('Aspergillus sp', '15°C', 'PDA', 'solo')\n",
        "#vamos criar uma lista que irá permitir guardar todos os microrganismos\n",
        "#em uma única coleção\n",
        "colecao = [] # vou adicionar os microrganismos na lista, utilizando os métodos de lista\n",
        "colecao.append(microrganismo)\n",
        "print(colecao)"
      ],
      "metadata": {
        "id": "X0O5VzaibgrP"
      },
      "execution_count": null,
      "outputs": []
    },
    {
      "cell_type": "markdown",
      "source": [
        "Perceba que agora temos uma tupla dentro de uma lista.\n",
        "\n",
        "Agora vamos alimentar nossa colação com mais microrganismos"
      ],
      "metadata": {
        "id": "ha5lRS2idH8W"
      }
    },
    {
      "cell_type": "code",
      "source": [
        "microrganismo = ('Penicillium sp', '28°C', 'MA', 'água')\n",
        "colecao.append(microrganismo)\n",
        "print(colecao)"
      ],
      "metadata": {
        "id": "vPK2NgoNdTKb"
      },
      "execution_count": null,
      "outputs": []
    },
    {
      "cell_type": "markdown",
      "source": [
        "Agora vamos acessar os microrganismos da nossa coleção"
      ],
      "metadata": {
        "id": "jMFzg_DeeCHP"
      }
    },
    {
      "cell_type": "code",
      "source": [
        "#acessando o primeiro microrganismo\n",
        "print(colecao[0])"
      ],
      "metadata": {
        "id": "dGGUn2qheGgb"
      },
      "execution_count": null,
      "outputs": []
    },
    {
      "cell_type": "markdown",
      "source": [
        "\n",
        "\n",
        "Podemos transformar uma lista em uma tupla\n",
        "\n",
        "\n"
      ],
      "metadata": {
        "id": "0d9aqiDlX8bS"
      }
    },
    {
      "cell_type": "code",
      "source": [
        "#transforme uma lista em uma tupla\n",
        "lista = ['fungos','bactérias', 'vírus']\n",
        "nova_tupla = tuple(lista)"
      ],
      "metadata": {
        "id": "YigQPg-bYBQs"
      },
      "execution_count": null,
      "outputs": []
    },
    {
      "cell_type": "markdown",
      "source": [
        "---\n",
        "##Qual vantagem de usar uma Tupla?\n",
        "\n",
        "Pode ser que em algum momento você tenha um dado que não pode ser alterado. A tupla nos traz essa segurança, não é possível altera-la \n",
        "\n",
        "A Tupla:\n",
        "\n",
        "- ocupa menos mémoria que a lista\n",
        "- protege os dados de possíveis alterações\n",
        "\n",
        "---\n"
      ],
      "metadata": {
        "id": "haCuhImbYT3b"
      }
    },
    {
      "cell_type": "markdown",
      "source": [
        "## Dicas de Estudo\n",
        "\n",
        "* [w3schools](https://www.w3schools.com/python/python_tuples.asp)"
      ],
      "metadata": {
        "id": "B0KY7rv9diec"
      }
    }
  ]
}