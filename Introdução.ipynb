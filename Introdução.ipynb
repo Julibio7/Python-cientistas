{
  "nbformat": 4,
  "nbformat_minor": 0,
  "metadata": {
    "colab": {
      "name": "Introdução.ipynb",
      "provenance": [],
      "include_colab_link": true
    },
    "kernelspec": {
      "name": "python3",
      "display_name": "Python 3"
    },
    "language_info": {
      "name": "python"
    }
  },
  "cells": [
    {
      "cell_type": "markdown",
      "metadata": {
        "id": "view-in-github",
        "colab_type": "text"
      },
      "source": [
        "<a href=\"https://colab.research.google.com/github/Julibio7/PythonCientistas/blob/main/Introdu%C3%A7%C3%A3o.ipynb\" target=\"_parent\"><img src=\"https://colab.research.google.com/assets/colab-badge.svg\" alt=\"Open In Colab\"/></a>"
      ]
    },
    {
      "cell_type": "markdown",
      "source": [
        "#<center>Introdução ao Curso de Python para Cientistas 🐍 \n",
        "\n",
        "____\n",
        "\n",
        "##Primeiros Elementos no uso de Python e Notebook Google Colab\n",
        "\n",
        "__\n"
      ],
      "metadata": {
        "id": "Wvr5a2nb_eb3"
      }
    },
    {
      "cell_type": "markdown",
      "source": [
        "##Objetivos 🎯\n",
        "\n",
        "* ser apresentado ao Python\n",
        "* ser capaz de utilizar a ferramenta Google Colab\n",
        "* compreender algumas operações matemáticas\n",
        "* entender o que são variáveis ​​e como elas são usadas\n",
        "* utilizar variáveis ​​para armazenar informações\n",
        "* conhecer algumas estruturas de dados\n",
        "* conhecer e manipular Strings\n"
      ],
      "metadata": {
        "id": "mF_odCaYlVrW"
      }
    },
    {
      "cell_type": "markdown",
      "source": [
        "## O que é Python?\n",
        "\n",
        "Uma ferramenta poderosa\n",
        "\n",
        "✅ uma linguagem de programação popular. Foi criado por Guido van Rossum e lançado em 1991.\n",
        "\n",
        "✅ alto nível \n",
        "\n",
        "✅  funciona em diferentes plataformas\n",
        "\n",
        "✅ Python tem uma sintaxe simples semelhante ao idioma inglês.\n",
        "\n",
        "\n",
        "✅ Python tem sintaxe que permite aos desenvolvedores escrever programas com menos linhas do que algumas outras linguagens de programação.\n",
        "\n",
        "**É usado para:**\n",
        "\n",
        "desenvolvimento web (lado do servidor),\n",
        "desenvolvimento de software,\n",
        "matemática,\n",
        "script do sistema,\n",
        "Bioinformática,\n",
        "Analise de Dados.\n"
      ],
      "metadata": {
        "id": "zcJWvdLQYPVT"
      }
    },
    {
      "cell_type": "markdown",
      "source": [
        "##Como usar o Colab?\n",
        "\n",
        "Para usar o Google Colab, você precisamos acessar o seguinte endereço:\n",
        "\n",
        "https://colab.research.google.com/notebooks/intro.ipynb\n",
        "\n",
        "Note que você foi direcionado para um notebook chamado Welcome to Colaboratory, onde é possível obter várias informações de como tudo funciona. \n",
        "\n",
        "Para criar seu notebook acesse:\n",
        "\n",
        "**File** (na parte superior esquerda) \n",
        "**New Notebook**\n",
        "\n",
        "Caso não esteja logado na sua conta Google, irá apacer um _pop-up_, só dar OK e logar. \n",
        "\n",
        "Dica de leitura: [Google Colab: O que é, Tutorial de Como Usar e Criar Códigos](https://www.alura.com.br/artigos/google-colab-o-que-e-e-como-usar)"
      ],
      "metadata": {
        "id": "tQG5H2kZ733a"
      }
    },
    {
      "cell_type": "markdown",
      "source": [
        "##O que é Lógica de Programação? 💻 \n",
        "\n",
        "- Qual a sequência de ações necessárias para resolver um problema?\n",
        "- Aprender lógica de programação junto de Python pode ser vantajoso\n",
        "- A programação nada mais é do que saber quais comandos escrever e em qual ordem\n",
        "\n",
        "\n",
        "[Dica de video](https://www.youtube.com/watch?v=grcIjJ6bx8k)"
      ],
      "metadata": {
        "id": "hhYMoZon8LVX"
      }
    },
    {
      "cell_type": "markdown",
      "source": [
        "##Por onde começo? ▶\n",
        "\n",
        "Você tem um objetivo (o que deseja calcular) e a programação é a maneira de chegar lá.\n",
        "\n",
        "### Programação está mais relacionados a culinária no que você imagina. \n",
        "\n",
        "Pense nas etapas que você precisa para fritar um ovo.\n",
        "\n",
        "Algoritmo para fritar um ovo 🥚\n",
        "\n",
        "1. Retirar um ovo da geladeira\n",
        "2. Colocar a frigideira no fogo\n",
        "3. Colocar óleo\n",
        "4. Esperar até o óleo ficar quente\n",
        "5. Quebrar o ovo separando a casca\n",
        "6. Colocar o conteúdo do ovo na frigideira\n",
        "7. Esperar um minuto\n",
        "8. Retirar o ovo da frigideira\n",
        "9. Apagar o fogo\n",
        "\n",
        "Um algoritmo nada mais é do que uma receita que mostra passo a passo os procedimentos necessários para a resolução de uma tarefa. \n",
        "\n",
        "\n",
        "\n",
        "\n"
      ],
      "metadata": {
        "id": "EuyQwBD0mHZU"
      }
    },
    {
      "cell_type": "markdown",
      "source": [
        "___________________\n",
        "\n",
        "Nós programamos para otimizar as tarefas. \n",
        "\n",
        "Diferente de nós, o computador precisa de uma receita muito bem escrita do que ele precisa fazer.  \n",
        "\n",
        "Além de otimizar tarefas, programar melhora nossa linha de raciocínio. Ninguém nunca nos ensinou passo a passo de como  cumprir um objetivo.\n",
        "\n",
        "Quando programamos precisamos dizer com poucas palavras **passo a passo** de como cumprir um objetivo\n",
        "\n",
        "\n",
        " > _Programar é reaprender a pensar._\n",
        "\n",
        "____\n",
        "\n",
        "\n"
      ],
      "metadata": {
        "id": "7epXmypxrWl1"
      }
    },
    {
      "cell_type": "markdown",
      "source": [
        "## Comentários 📔\n",
        "\n",
        " `#`Linhas iniciadas com # são comentários.\n",
        "`#` Comentários são ignorados pelo Python e servem para explicar o código.\n",
        "\n",
        "`'''\n",
        "O símbolo # é um comentário de apenas 1 linha.\n",
        "Usando 3 aspas simples consecutivas é possível abrir um bloco de comentário\n",
        "de múltiplas linhas. O bloco se encerra com outras 3 aspas simples.\n",
        "'''`\n",
        "\n"
      ],
      "metadata": {
        "id": "upXQX7hwuWoB"
      }
    },
    {
      "cell_type": "code",
      "source": [
        "''' \n",
        "comentário de múltiplas linhas\n",
        "\n",
        "'''"
      ],
      "metadata": {
        "id": "Aqt8_TJlKrVv"
      },
      "execution_count": null,
      "outputs": []
    },
    {
      "cell_type": "code",
      "source": [
        "#comentário de apenas uma linha"
      ],
      "metadata": {
        "id": "bghaa8j3K4Wj"
      },
      "execution_count": null,
      "outputs": []
    },
    {
      "cell_type": "code",
      "source": [
        "#agora vamos realizar uma soma com dois valores\n",
        "2 + 7"
      ],
      "metadata": {
        "colab": {
          "base_uri": "https://localhost:8080/"
        },
        "id": "k2retEcZukxn",
        "outputId": "5838ed5a-2d55-4d05-cfe2-071d2df96ea0"
      },
      "execution_count": null,
      "outputs": [
        {
          "output_type": "execute_result",
          "data": {
            "text/plain": [
              "9"
            ]
          },
          "metadata": {},
          "execution_count": 21
        }
      ]
    },
    {
      "cell_type": "markdown",
      "source": [
        "## Tudo é um objeto \n",
        "\n",
        "Uma característica importante da linguagem Python é a consistência de seu _modelo de objetos_. Todo número, string, estrutura de dados, função, classe, módulo e assim por dianre  existe no interpretador Python em sua própria \"caixa\" que é referenciada como um _objeto Python_. \n",
        "\n",
        "Todo objeto tem um _tipo_ associado (por exemplo, _string_ ou _função_)e dado internos. \n",
        "\n",
        "Na prática, isso deixa a linguagem muito flexível, pois até mesmo as funções podem ser tratadas como qualquer outro objeto. \n",
        "\n",
        "> _Um objeto no Python possue métodos e atributos especifíco para aquele objeto.\n",
        "\n",
        "Para entender mais assista o [vídeo](https://www.youtube.com/watch?v=tS9LETaEomI)"
      ],
      "metadata": {
        "id": "q28-IUn6a8z0"
      }
    },
    {
      "cell_type": "code",
      "source": [
        "#string são um objeto\n",
        "texto = \"sou um objeto\""
      ],
      "metadata": {
        "id": "PbWY-Tax6hpn"
      },
      "execution_count": null,
      "outputs": []
    },
    {
      "cell_type": "code",
      "source": [
        "#visualizar \n",
        "texto"
      ],
      "metadata": {
        "id": "KJU0NB-08uJH"
      },
      "execution_count": null,
      "outputs": []
    },
    {
      "cell_type": "code",
      "source": [
        "#substituindo um valor da string\n",
        "texto.replace('sou', 'tudo é')"
      ],
      "metadata": {
        "id": "fFYwc-Jt8ViZ"
      },
      "execution_count": null,
      "outputs": []
    },
    {
      "cell_type": "code",
      "source": [
        "#visualizar\n",
        "texto"
      ],
      "metadata": {
        "id": "ain2CXp58nlv"
      },
      "execution_count": null,
      "outputs": []
    },
    {
      "cell_type": "code",
      "source": [
        "#número é outro tipo de objeto\n",
        "numero = 344"
      ],
      "metadata": {
        "id": "7JvfDyAn6sWH"
      },
      "execution_count": null,
      "outputs": []
    },
    {
      "cell_type": "code",
      "source": [
        "numero"
      ],
      "metadata": {
        "id": "pj3diyEw9BXo"
      },
      "execution_count": null,
      "outputs": []
    },
    {
      "cell_type": "code",
      "source": [
        "numero.relace(3,7)"
      ],
      "metadata": {
        "id": "VIn9Ptrf822P"
      },
      "execution_count": null,
      "outputs": []
    },
    {
      "cell_type": "markdown",
      "source": [
        "veja que o método `relace()`funciona no objeto string e não funciona no objeto número. "
      ],
      "metadata": {
        "id": "8Bd3UHm09DxZ"
      }
    },
    {
      "cell_type": "markdown",
      "source": [
        "## Vamos começar nossa aventura\n",
        "\n",
        "No notebook, basta criar uma nova célula do tipo código, escrever os comandos na célula e digitar, para executar CTRL+ENTER. "
      ],
      "metadata": {
        "id": "IZyGPWA1_9R2"
      }
    },
    {
      "cell_type": "code",
      "execution_count": null,
      "metadata": {
        "id": "W-yX5Y-t_agr"
      },
      "outputs": [],
      "source": [
        "1 + 2 + 3"
      ]
    },
    {
      "cell_type": "markdown",
      "source": [
        "Para ter \"Sorte\", vamos começar com um Hello, Word!\n",
        "\n",
        "\n"
      ],
      "metadata": {
        "id": "riFHBLJyA52T"
      }
    },
    {
      "cell_type": "code",
      "source": [
        "print('Hello, Word!') #print é igual a imprimir"
      ],
      "metadata": {
        "id": "Y3mSCNrk_tXi"
      },
      "execution_count": null,
      "outputs": []
    },
    {
      "cell_type": "markdown",
      "source": [
        "Acabamos de executar uma função, que já faz todo o \"trabalho sujo\" para nós. Esta função, que se chama print, recebe um texto como argumento, entre parênteses, e o imprime no console. No caso, o texto que passamos é \"Hello World\". As aspas envolvendo o texto servem para dizer ao interpretador que estamos construindo uma string (o tipo de dado que usamos para representar texto)."
      ],
      "metadata": {
        "id": "Bti4HyL6DN7a"
      }
    },
    {
      "cell_type": "markdown",
      "source": [
        "Quando algo sai errado, a resposta do Python é um erro. A mensagem de erro indica um contexto de onde ele ocorreu"
      ],
      "metadata": {
        "id": "yvaOPxtjhND7"
      }
    },
    {
      "cell_type": "code",
      "source": [
        "1/0"
      ],
      "metadata": {
        "id": "gJsggPqBhduQ"
      },
      "execution_count": null,
      "outputs": []
    },
    {
      "cell_type": "markdown",
      "source": [
        "## Números 🔢\n",
        "\n",
        "Vamos começar falando sobre números em Python. A linguagem conhece três tipos de números:\n",
        "\n",
        "* Inteiros (int)\n",
        "* Ponto flutuante, que são números decimais (float)\n",
        "* Complexos \n"
      ],
      "metadata": {
        "id": "h9RYba2BhzJn"
      }
    },
    {
      "cell_type": "code",
      "source": [
        "10"
      ],
      "metadata": {
        "id": "ylDTnRJPipzc"
      },
      "execution_count": null,
      "outputs": []
    },
    {
      "cell_type": "code",
      "source": [
        "100"
      ],
      "metadata": {
        "id": "Kn2n-RUyirw3"
      },
      "execution_count": null,
      "outputs": []
    },
    {
      "cell_type": "code",
      "source": [
        "-2"
      ],
      "metadata": {
        "id": "cFDBxx5xisvG"
      },
      "execution_count": null,
      "outputs": []
    },
    {
      "cell_type": "code",
      "source": [
        "10000000"
      ],
      "metadata": {
        "id": "djnMZVZIittl"
      },
      "execution_count": null,
      "outputs": []
    },
    {
      "cell_type": "markdown",
      "source": [
        "\\## Números de ponto flutuante (float) \n"
      ],
      "metadata": {
        "id": "pcNHlVY9ixwF"
      }
    },
    {
      "cell_type": "code",
      "source": [
        "2.0"
      ],
      "metadata": {
        "id": "ixgLkcPyi2Br"
      },
      "execution_count": null,
      "outputs": []
    },
    {
      "cell_type": "markdown",
      "source": [
        "## Operadores com número\n",
        "\n",
        "* Soma +\n",
        "* Substração -\n",
        "* Multiplicação *\n",
        "* Divisão /\n",
        "* Divisão - retornar parte inteira //\n",
        "* exponenciação **"
      ],
      "metadata": {
        "id": "QvyWRD6njCf5"
      }
    },
    {
      "cell_type": "code",
      "source": [
        "#divisão \n",
        "3 / 2"
      ],
      "metadata": {
        "id": "iOxHrG-ujHBn"
      },
      "execution_count": null,
      "outputs": []
    },
    {
      "cell_type": "code",
      "source": [
        "#divisão com resultado de número inteiro\n",
        "3//2"
      ],
      "metadata": {
        "colab": {
          "base_uri": "https://localhost:8080/"
        },
        "id": "nJ5miCrZ0eC5",
        "outputId": "07f1519d-2cb5-43e4-f717-cd34deb73d04"
      },
      "execution_count": null,
      "outputs": [
        {
          "output_type": "execute_result",
          "data": {
            "text/plain": [
              "1"
            ]
          },
          "metadata": {},
          "execution_count": 51
        }
      ]
    },
    {
      "cell_type": "code",
      "source": [
        "#adição\n",
        "4 + 2"
      ],
      "metadata": {
        "id": "RVAqOt9njKEe"
      },
      "execution_count": null,
      "outputs": []
    },
    {
      "cell_type": "code",
      "source": [
        "#subtração\n",
        "4 - 2"
      ],
      "metadata": {
        "id": "lJkGIX9tjOGY"
      },
      "execution_count": null,
      "outputs": []
    },
    {
      "cell_type": "code",
      "source": [
        "#multiplicação \n",
        "4 * 2"
      ],
      "metadata": {
        "id": "EfWA_VM_jUWV"
      },
      "execution_count": null,
      "outputs": []
    },
    {
      "cell_type": "code",
      "source": [
        "# Exponenciação\n",
        " 4 ** 2"
      ],
      "metadata": {
        "id": "DOPvZfL0jg9g"
      },
      "execution_count": null,
      "outputs": []
    },
    {
      "cell_type": "markdown",
      "source": [
        "Quando uma expressão tem mais do que um operador, as operações são realizadas seguindo a ordem matemática convencional\n",
        "(exponenciação, depois produtos ou divisões, depois somas ou subtrações. Em caso de empate, executa-se da esquerda para direita."
      ],
      "metadata": {
        "id": "8dpd-gzqjmil"
      }
    },
    {
      "cell_type": "code",
      "source": [
        "12 + 3 * 25"
      ],
      "metadata": {
        "id": "BE3OivefjlCI"
      },
      "execution_count": null,
      "outputs": []
    },
    {
      "cell_type": "code",
      "source": [
        "1 + 2 * 3 ** 2"
      ],
      "metadata": {
        "id": "gmhLwFsKkFUe"
      },
      "execution_count": null,
      "outputs": []
    },
    {
      "cell_type": "markdown",
      "source": [
        "Também temos as operaçĩes de comparação "
      ],
      "metadata": {
        "id": "_lhStEBJkLGT"
      }
    },
    {
      "cell_type": "code",
      "source": [
        "1 < 2"
      ],
      "metadata": {
        "id": "O3o1-x_OkKVL"
      },
      "execution_count": null,
      "outputs": []
    },
    {
      "cell_type": "code",
      "source": [
        "2 < 1"
      ],
      "metadata": {
        "id": "pKlAVE33kRqs"
      },
      "execution_count": null,
      "outputs": []
    },
    {
      "cell_type": "markdown",
      "source": [
        "## Variáveis\n",
        "\n",
        "\n",
        "Quando estamos programando, muitas vezes precisamos armazenar valores obtidos em etapas anteriores em memória.\n",
        "\n",
        " Assim, podemos re-utilizar estes valores sem precisar repetir todo o código. \n",
        " \n",
        "Linguagens de programação oferecem uma maneira bastante intuitiva para isso, por meio de variáveis.\n",
        "\n",
        "O símbolo que usamos para atribuir valores a variáveis é o sinal de igual (=). Na linguagem Python, uma variável é criada assim que atribuimos algum valor a ela.\n",
        "\n",
        "> _O nome da variável sempre deve ser escrito à esquerda do símbolo =, e o valor a ser atribuído à variável, à direita._\n",
        "\n",
        "\n",
        "Variáveis são pedacinhos de memória onde armazenamos valores. Sempre que referenciamos o nome de uma variável, o valor é acessado. Definimos uma variável dando um nome a ela e usando o sinal de igual (=) para atribuir um valor.\n",
        "\n",
        "Uma variável é apenas um nome que se refere a um valor; você pode pensar em uma variável como uma caixa que armazena um dado.\n",
        "\n"
      ],
      "metadata": {
        "id": "tlI4TBzllsuE"
      }
    },
    {
      "cell_type": "markdown",
      "source": [
        "> _Atenção! \n",
        " O sinal de `=`não significa igualdade e sim atribuição_"
      ],
      "metadata": {
        "id": "tVa-UwsEwwog"
      }
    },
    {
      "cell_type": "markdown",
      "source": [
        "Pode ser útil pensar em uma variável como uma caixa que contém algumas informações (um único número, um vetor, uma string, etc).\n",
        "\n",
        "![](https://www.tomasbeuzen.com/python-programming-for-data-science/_images/box.png) \n",
        "[fonte](https://www.tomasbeuzen.com/python-programming-for-data-science/chapters/chapter1-basics.html)"
      ],
      "metadata": {
        "id": "FIVjM5MJNjtB"
      }
    },
    {
      "cell_type": "code",
      "source": [
        "x = 4"
      ],
      "metadata": {
        "id": "SIyT23oM7280"
      },
      "execution_count": null,
      "outputs": []
    },
    {
      "cell_type": "code",
      "source": [
        "y = 2.5 "
      ],
      "metadata": {
        "id": "hhGBlCFh7_Xr"
      },
      "execution_count": null,
      "outputs": []
    },
    {
      "cell_type": "code",
      "source": [
        "soma = x + y"
      ],
      "metadata": {
        "id": "j5VTXCye8EqU"
      },
      "execution_count": null,
      "outputs": []
    },
    {
      "cell_type": "code",
      "source": [
        "soma"
      ],
      "metadata": {
        "id": "5Mv2qvQU8JFB",
        "outputId": "04dca178-2af8-4972-c7ad-49b910b5d943",
        "colab": {
          "base_uri": "https://localhost:8080/"
        }
      },
      "execution_count": null,
      "outputs": [
        {
          "output_type": "execute_result",
          "data": {
            "text/plain": [
              "6.5"
            ]
          },
          "metadata": {},
          "execution_count": 4
        }
      ]
    },
    {
      "cell_type": "code",
      "source": [
        "a = 1"
      ],
      "metadata": {
        "id": "-WdjB90DmaRt"
      },
      "execution_count": null,
      "outputs": []
    },
    {
      "cell_type": "code",
      "source": [
        "a\n"
      ],
      "metadata": {
        "id": "0qvs35IKmb19",
        "colab": {
          "base_uri": "https://localhost:8080/"
        },
        "outputId": "2bd1ae5a-bb9f-440d-cc7b-8b64c8fa77c0"
      },
      "execution_count": null,
      "outputs": [
        {
          "output_type": "execute_result",
          "data": {
            "text/plain": [
              "1"
            ]
          },
          "metadata": {},
          "execution_count": 6
        }
      ]
    },
    {
      "cell_type": "code",
      "source": [
        "a = 3.2"
      ],
      "metadata": {
        "id": "bzDNoKhEwP4c"
      },
      "execution_count": null,
      "outputs": []
    },
    {
      "cell_type": "code",
      "source": [
        "a"
      ],
      "metadata": {
        "id": "jMmDoVvAwVkg",
        "colab": {
          "base_uri": "https://localhost:8080/"
        },
        "outputId": "886b1165-edf2-4db4-9d4f-8543e054d88f"
      },
      "execution_count": null,
      "outputs": [
        {
          "output_type": "execute_result",
          "data": {
            "text/plain": [
              "3.2"
            ]
          },
          "metadata": {},
          "execution_count": 8
        }
      ]
    },
    {
      "cell_type": "markdown",
      "source": [
        ""
      ],
      "metadata": {
        "id": "gmZp_H3sNLDE"
      }
    },
    {
      "cell_type": "markdown",
      "source": [
        "**Regras para variáveis ​​Python:**\n",
        "\n",
        "* Um nome de variável deve começar com uma letra ou o caractere sublinhado\n",
        "* Um nome de variável não pode começar com um número\n",
        "* Um nome de variável pode conter apenas caracteres alfanuméricos e sublinhados (Az, 0-9 e _ )\n",
        "* Os nomes das variáveis ​​diferenciam maiúsculas de minúsculas (idade, idade e IDADE são três variáveis ​​diferentes)"
      ],
      "metadata": {
        "id": "WUF5r-6ttWGL"
      }
    },
    {
      "cell_type": "code",
      "source": [
        "variavel = \"Cientistas\"\n",
        "var_var = \"Cientistas\"\n",
        "_var_var = \"Cientistas\"\n",
        "varVar = \"Cientistas\"\n",
        "VARVAR = \"Cientistas\"\n",
        "varvar2 = \"Cientistas\""
      ],
      "metadata": {
        "id": "y-mZ0nXUNRw9"
      },
      "execution_count": null,
      "outputs": []
    },
    {
      "cell_type": "markdown",
      "source": [
        "Os nomes de variáveis ​​diferenciam maiúsculas de minúsculas."
      ],
      "metadata": {
        "id": "lWz31yqnOmIG"
      }
    },
    {
      "cell_type": "code",
      "source": [
        "a = 4\n",
        "A = \"Ciência\"\n",
        "# \"a\" não substiturá o A"
      ],
      "metadata": {
        "id": "e4k3m4FJOm33"
      },
      "execution_count": null,
      "outputs": []
    },
    {
      "cell_type": "markdown",
      "source": [
        "Uma variável não pode ser uma palavra reservada em Python, como for, while, class, lambda, etc., pois essas palavras codificam funcionalidades especiais em Python que não queremos substituir!"
      ],
      "metadata": {
        "id": "F1P1b0cSNz58"
      }
    },
    {
      "cell_type": "code",
      "source": [
        "#alguns exemplos de palavras reservadas.\n",
        "print()\n",
        "while\n",
        "class\n",
        "lambda\n",
        "for\n"
      ],
      "metadata": {
        "id": "xRU_ws9QOGyu",
        "colab": {
          "base_uri": "https://localhost:8080/",
          "height": 131
        },
        "outputId": "5d5e6346-ab06-4d92-e9f4-252bd2a375a3"
      },
      "execution_count": null,
      "outputs": [
        {
          "output_type": "error",
          "ename": "SyntaxError",
          "evalue": "ignored",
          "traceback": [
            "\u001b[0;36m  File \u001b[0;32m\"<ipython-input-11-6004fe02c49e>\"\u001b[0;36m, line \u001b[0;32m3\u001b[0m\n\u001b[0;31m    while\u001b[0m\n\u001b[0m         ^\u001b[0m\n\u001b[0;31mSyntaxError\u001b[0m\u001b[0;31m:\u001b[0m invalid syntax\n"
          ]
        }
      ]
    },
    {
      "cell_type": "markdown",
      "source": [
        "Diversas variáveis podem se referir ao mesmo objeto."
      ],
      "metadata": {
        "id": "7jtYNezwwrLi"
      }
    },
    {
      "cell_type": "code",
      "source": [
        "a = 3.4"
      ],
      "metadata": {
        "id": "8Je9BAVk208o"
      },
      "execution_count": null,
      "outputs": []
    },
    {
      "cell_type": "code",
      "source": [
        "b = a # uma variável pode receber a outra"
      ],
      "metadata": {
        "id": "PzbiKzgO243f"
      },
      "execution_count": null,
      "outputs": []
    },
    {
      "cell_type": "code",
      "source": [
        "b"
      ],
      "metadata": {
        "id": "W0UBYoZG27KV"
      },
      "execution_count": null,
      "outputs": []
    },
    {
      "cell_type": "markdown",
      "source": [
        "\n",
        "\n",
        "Existe vários tipos de variáveis"
      ],
      "metadata": {
        "id": "C-u3-3-ntmc4"
      }
    },
    {
      "cell_type": "code",
      "source": [
        "x = -10 # uma variável do tipo inteiro (int)\n",
        "y = 3.14 # uma variável do tipo real (float)\n",
        "aula = \"curso de python\" # uma variável literal (string)\n",
        "aula_legal = True # uma variável lógica (booleana)"
      ],
      "metadata": {
        "id": "EGWIOjmEtp60"
      },
      "execution_count": null,
      "outputs": []
    },
    {
      "cell_type": "markdown",
      "source": [
        "Vamos verificar os tipos de objetos atribuídos as variáveis utilizando a função `type()`.\n"
      ],
      "metadata": {
        "id": "VabqaXYkwomt"
      }
    },
    {
      "cell_type": "code",
      "source": [
        "type(x)"
      ],
      "metadata": {
        "id": "qtjXBb-uwvZf"
      },
      "execution_count": null,
      "outputs": []
    },
    {
      "cell_type": "code",
      "source": [
        "type(y)"
      ],
      "metadata": {
        "id": "A5U0lyUdxH8w"
      },
      "execution_count": null,
      "outputs": []
    },
    {
      "cell_type": "code",
      "source": [
        "type (aula)"
      ],
      "metadata": {
        "id": "WjpvbhMDw4b0"
      },
      "execution_count": null,
      "outputs": []
    },
    {
      "cell_type": "code",
      "source": [
        "type(aula_legal)"
      ],
      "metadata": {
        "id": "JXHbfpVHw6o1"
      },
      "execution_count": null,
      "outputs": []
    },
    {
      "cell_type": "markdown",
      "source": [
        "Também podemos fazer operações utilizando uma variável "
      ],
      "metadata": {
        "id": "k0jSoRG-c6EQ"
      }
    },
    {
      "cell_type": "code",
      "source": [
        "numero_1 = 1456\n",
        "numero_2 = 2346\n",
        "\n",
        "soma = numero_1 + numero_2\n",
        "print(soma)"
      ],
      "metadata": {
        "id": "kVtlq2OUdI8U"
      },
      "execution_count": null,
      "outputs": []
    },
    {
      "cell_type": "code",
      "source": [
        "letra_1 = 'a'\n",
        "letra_2 = 'b'\n",
        "\n",
        "soma = letra_1 + letra_2\n",
        "print(soma)"
      ],
      "metadata": {
        "id": "gD5clfcydmIW"
      },
      "execution_count": null,
      "outputs": []
    },
    {
      "cell_type": "markdown",
      "source": [
        "Lembre-se que só podemos realizar operações aritméticas entre dados no mesmo tipo\n",
        "\n"
      ],
      "metadata": {
        "id": "usENRZjUd34U"
      }
    },
    {
      "cell_type": "code",
      "source": [
        "letra_1 + numero_1"
      ],
      "metadata": {
        "id": "99CzAqrVeFWU"
      },
      "execution_count": null,
      "outputs": []
    },
    {
      "cell_type": "markdown",
      "source": [
        "O exemplo acima apontou um erro, sendo impossível somar (concatenar) uma string com um número inteiro "
      ],
      "metadata": {
        "id": "zphRTPQ_eK_O"
      }
    },
    {
      "cell_type": "markdown",
      "source": [
        "Podemos *substituir* o valor de uma váriável por outra"
      ],
      "metadata": {
        "id": "sUjMq4GBDA5z"
      }
    },
    {
      "cell_type": "code",
      "source": [
        "x = 1000"
      ],
      "metadata": {
        "id": "ozYRMjOfd1aE"
      },
      "execution_count": null,
      "outputs": []
    },
    {
      "cell_type": "code",
      "source": [
        "y = x"
      ],
      "metadata": {
        "id": "puvBufTZDLUB"
      },
      "execution_count": null,
      "outputs": []
    },
    {
      "cell_type": "markdown",
      "source": [
        "Veja que nesse exemplo acima,  ambos **x** e **y** referem-se ao mesmo arquivo 1000.\n",
        "\n",
        "Pense assim. Em algum lugar na memória do computador está o valor 1000. E ambos **x** e **y** referem-se a esse único valor.\n",
        "\n",
        "Se você fizer isto:"
      ],
      "metadata": {
        "id": "0dVIoJjrDNqY"
      }
    },
    {
      "cell_type": "code",
      "source": [
        "x = 1000\n",
        "y = 1000 "
      ],
      "metadata": {
        "id": "7LXn-78QDvYC"
      },
      "execution_count": null,
      "outputs": []
    },
    {
      "cell_type": "markdown",
      "source": [
        "Agora existem dois valores de 1000.\n",
        "\n",
        "X aponta para um e y aponta para o outro.\n",
        "\n",
        "> Lembre-se: variáveis ​​são apenas nomes para itens na memória. Você pode atribuir  uma variável a outra e fazer com que ambas apontem para o mesmo item."
      ],
      "metadata": {
        "id": "zfbj1dmxDx2d"
      }
    },
    {
      "cell_type": "markdown",
      "source": [
        "Um valor para várias variáveis"
      ],
      "metadata": {
        "id": "FmrFy-fJO-2g"
      }
    },
    {
      "cell_type": "code",
      "source": [
        "x = y = z = \"Python\"\n",
        "print(x)\n",
        "print(y)\n",
        "print(z)\n"
      ],
      "metadata": {
        "id": "W7iPgHzzPBoD"
      },
      "execution_count": null,
      "outputs": []
    },
    {
      "cell_type": "markdown",
      "source": [
        "\n",
        "\n",
        "## Obtendo informações\n",
        "\n",
        "Ao usar o pornto de interrogação (?) antes ou depois de uma variável exibirá algumas informações gerais  sobre o objeto?"
      ],
      "metadata": {
        "id": "HXJ-zWTCV--N"
      }
    },
    {
      "cell_type": "code",
      "source": [
        "aula = 'curso de python'\n",
        "aula_legal = True"
      ],
      "metadata": {
        "id": "H2jc3QmOEYsk"
      },
      "execution_count": null,
      "outputs": []
    },
    {
      "cell_type": "code",
      "source": [
        "aula?"
      ],
      "metadata": {
        "id": "qYTqIWtHWU61"
      },
      "execution_count": null,
      "outputs": []
    },
    {
      "cell_type": "code",
      "source": [
        "aula_legal?"
      ],
      "metadata": {
        "id": "D9nT869gWgCV"
      },
      "execution_count": null,
      "outputs": []
    },
    {
      "cell_type": "markdown",
      "source": [
        "Isso é chamado de _introspecção de objeto_ (object introspection) e também pode ser utilizado para obter informações de funções e métodos. "
      ],
      "metadata": {
        "id": "cwH7yy_wWlKj"
      }
    },
    {
      "cell_type": "markdown",
      "source": [
        "## Index\n",
        "\n",
        "\n",
        "O `index()`método retorna a posição na primeira ocorrência do valor especificado."
      ],
      "metadata": {
        "id": "zWXteASXnUON"
      }
    },
    {
      "cell_type": "code",
      "source": [
        "numeros = [4, 55, 64, 32, 16, 32]\n",
        "\n",
        "x = numeros.index(32)\n",
        "\n",
        "print(x)"
      ],
      "metadata": {
        "id": "nkWdYkqqnS4O"
      },
      "execution_count": null,
      "outputs": []
    },
    {
      "cell_type": "code",
      "source": [
        "informações = ['DNA', 'RNA', 'proteina', 'sequencia', 'bioinformática']\n",
        "\n",
        "x = informações.index('proteina')\n",
        "\n",
        "print(x)"
      ],
      "metadata": {
        "id": "X3mOCDpkn7Yw"
      },
      "execution_count": null,
      "outputs": []
    },
    {
      "cell_type": "markdown",
      "source": [
        "também podemos acessar um item da nossa lista pelo index"
      ],
      "metadata": {
        "id": "cM78u_ZDoawU"
      }
    },
    {
      "cell_type": "code",
      "source": [
        "base_nitrogenada = ['Adenina', 'Timina', 'Guanina', 'Citosina']\n",
        "print(base_nitrogenada[2])"
      ],
      "metadata": {
        "id": "z9MAxGOBof10"
      },
      "execution_count": null,
      "outputs": []
    },
    {
      "cell_type": "code",
      "source": [
        "base_nitrogenada = ['Adenina', 'Timina', 'Guanina', 'Citosina']\n",
        "print(base_nitrogenada[-1])"
      ],
      "metadata": {
        "id": "951pb99zoo5J"
      },
      "execution_count": null,
      "outputs": []
    },
    {
      "cell_type": "markdown",
      "source": [
        "## String (Cadeias de caracter) </center>\n",
        "\n",
        "\n"
      ],
      "metadata": {
        "id": "kP3mtF643Icx"
      }
    },
    {
      "cell_type": "code",
      "source": [
        "#Aspas simples\n",
        "'Curso python'"
      ],
      "metadata": {
        "id": "djZBhSdW3Nnu",
        "colab": {
          "base_uri": "https://localhost:8080/",
          "height": 35
        },
        "outputId": "9c8f1a22-47c5-4263-f9ee-9d3f8a69268e"
      },
      "execution_count": null,
      "outputs": [
        {
          "output_type": "execute_result",
          "data": {
            "text/plain": [
              "'Curso python'"
            ],
            "application/vnd.google.colaboratory.intrinsic+json": {
              "type": "string"
            }
          },
          "metadata": {},
          "execution_count": 11
        }
      ]
    },
    {
      "cell_type": "code",
      "source": [
        "#Aspas Duplas\n",
        "\"Curso python\""
      ],
      "metadata": {
        "id": "rg_6qwZc3UXV",
        "colab": {
          "base_uri": "https://localhost:8080/",
          "height": 35
        },
        "outputId": "37a84ea0-34e6-4e9f-b9fc-2a74cee634b6"
      },
      "execution_count": null,
      "outputs": [
        {
          "output_type": "execute_result",
          "data": {
            "text/plain": [
              "'Curso python'"
            ],
            "application/vnd.google.colaboratory.intrinsic+json": {
              "type": "string"
            }
          },
          "metadata": {},
          "execution_count": 12
        }
      ]
    },
    {
      "cell_type": "markdown",
      "source": [
        "Strings são representadas em UTF-8, portanto podemos utilizar caracteres acentuados e não-latinos"
      ],
      "metadata": {
        "id": "7-ddznX13gcb"
      }
    },
    {
      "cell_type": "code",
      "source": [
        "\n",
        "cor = 'Coração'"
      ],
      "metadata": {
        "id": "Yq4yStNB3rQ8"
      },
      "execution_count": null,
      "outputs": []
    },
    {
      "cell_type": "markdown",
      "source": [
        "Verificar o tipo de dado"
      ],
      "metadata": {
        "id": "mW5yv_l1pb_Z"
      }
    },
    {
      "cell_type": "code",
      "source": [
        "type(cor)"
      ],
      "metadata": {
        "id": "GMTl2B3DpfK1",
        "colab": {
          "base_uri": "https://localhost:8080/"
        },
        "outputId": "bc73cae8-2142-491b-f6ce-1095aceadfd3"
      },
      "execution_count": null,
      "outputs": [
        {
          "output_type": "execute_result",
          "data": {
            "text/plain": [
              "str"
            ]
          },
          "metadata": {},
          "execution_count": 14
        }
      ]
    },
    {
      "cell_type": "code",
      "source": [
        "sequencia = ('ATCGGT')"
      ],
      "metadata": {
        "id": "PxPDbzU-pkaz"
      },
      "execution_count": null,
      "outputs": []
    },
    {
      "cell_type": "code",
      "source": [
        "type(sequencia)"
      ],
      "metadata": {
        "id": "C0iboXgppoAj",
        "colab": {
          "base_uri": "https://localhost:8080/"
        },
        "outputId": "3f8f743d-d48a-48c8-d9eb-ba750534471c"
      },
      "execution_count": null,
      "outputs": [
        {
          "output_type": "execute_result",
          "data": {
            "text/plain": [
              "str"
            ]
          },
          "metadata": {},
          "execution_count": 16
        }
      ]
    },
    {
      "cell_type": "code",
      "source": [
        "dia = '4'\n",
        "type(dia)"
      ],
      "metadata": {
        "id": "lRcdf9qviUCo",
        "colab": {
          "base_uri": "https://localhost:8080/"
        },
        "outputId": "f4b2be6f-b683-4e62-eaef-cf65e9a59cf1"
      },
      "execution_count": null,
      "outputs": [
        {
          "output_type": "execute_result",
          "data": {
            "text/plain": [
              "str"
            ]
          },
          "metadata": {},
          "execution_count": 1
        }
      ]
    },
    {
      "cell_type": "code",
      "source": [
        "valor = '1.4'\n",
        "type(valor)"
      ],
      "metadata": {
        "id": "-U3Ae_HyiceW"
      },
      "execution_count": null,
      "outputs": []
    },
    {
      "cell_type": "code",
      "source": [
        "vazio = ''\n",
        "type(vazio)"
      ],
      "metadata": {
        "id": "KaH7UvkAwQZG"
      },
      "execution_count": null,
      "outputs": []
    },
    {
      "cell_type": "markdown",
      "source": [
        "Para saber o número de caracteres na string temos a função `len()`"
      ],
      "metadata": {
        "id": "uQnoEuTa3vKy"
      }
    },
    {
      "cell_type": "code",
      "source": [
        "len(cor)"
      ],
      "metadata": {
        "id": "xSqPbIw_32Bs",
        "colab": {
          "base_uri": "https://localhost:8080/"
        },
        "outputId": "f65c48c1-6211-4447-9aa2-46b53b3451a5"
      },
      "execution_count": null,
      "outputs": [
        {
          "output_type": "execute_result",
          "data": {
            "text/plain": [
              "7"
            ]
          },
          "metadata": {},
          "execution_count": 19
        }
      ]
    },
    {
      "cell_type": "markdown",
      "source": [
        ""
      ],
      "metadata": {
        "id": "Zgto7IUIQAOU"
      }
    },
    {
      "cell_type": "markdown",
      "source": [
        "Uma string funciona como um array(na verdade lista, veja abaixo) de caracteres, e pode ser indexada para pegar caracteres individuais\n",
        "\n",
        "Os caracteres usados ​​em strings  são indexados em números, onde cada caractere ocupa 1 byte de memória e possui um endereço em termos de indexação. Por exemplo, se eu tiver uma string consistindo da palavra 'python', cada caráter de 'python' terá um índice e memória separados. Digamos que eu queira acessar **p** da string '**python**', então eu simplesmente escreveria:\n",
        "```python\n",
        "string = 'python' \n",
        "print (string [ 0 ])\n",
        "```\n",
        "Como a indexação sempre começa em 0, a primeira letra será 'p' neste caso, que é armazenada no índice 0. A saída do código acima será:\n",
        "\n",
        "```\n",
        "p\n",
        "\n",
        "```\n",
        "<img src= \"https://python-tricks.com/wp-content/uploads/2019/08/Positive-and-Negative-Indexing-450x192.jpg\" width=\"300\" height=\"150\">\n"
      ],
      "metadata": {
        "id": "IKnxVcqa35qy"
      }
    },
    {
      "cell_type": "code",
      "source": [
        "cor[0]"
      ],
      "metadata": {
        "id": "eGbK0wNJ4J8m",
        "colab": {
          "base_uri": "https://localhost:8080/",
          "height": 35
        },
        "outputId": "9f0ed0d9-b2a5-4807-9355-aa581c74a341"
      },
      "execution_count": null,
      "outputs": [
        {
          "output_type": "execute_result",
          "data": {
            "text/plain": [
              "'C'"
            ],
            "application/vnd.google.colaboratory.intrinsic+json": {
              "type": "string"
            }
          },
          "metadata": {},
          "execution_count": 20
        }
      ]
    },
    {
      "cell_type": "code",
      "source": [
        "cor[-1]"
      ],
      "metadata": {
        "id": "2STuVMdq4MmA",
        "colab": {
          "base_uri": "https://localhost:8080/",
          "height": 35
        },
        "outputId": "feda0739-8212-4e67-d117-73a39ff2f5c7"
      },
      "execution_count": null,
      "outputs": [
        {
          "output_type": "execute_result",
          "data": {
            "text/plain": [
              "'o'"
            ],
            "application/vnd.google.colaboratory.intrinsic+json": {
              "type": "string"
            }
          },
          "metadata": {},
          "execution_count": 21
        }
      ]
    },
    {
      "cell_type": "code",
      "source": [
        "cor[-3]"
      ],
      "metadata": {
        "id": "ZjwLaiW54g_e",
        "colab": {
          "base_uri": "https://localhost:8080/",
          "height": 35
        },
        "outputId": "69565cfa-0587-4228-ffb3-511dd981c0c4"
      },
      "execution_count": null,
      "outputs": [
        {
          "output_type": "execute_result",
          "data": {
            "text/plain": [
              "'ç'"
            ],
            "application/vnd.google.colaboratory.intrinsic+json": {
              "type": "string"
            }
          },
          "metadata": {},
          "execution_count": 22
        }
      ]
    },
    {
      "cell_type": "code",
      "source": [
        "cor[::]"
      ],
      "metadata": {
        "id": "vVjc-lJ44POL",
        "colab": {
          "base_uri": "https://localhost:8080/",
          "height": 35
        },
        "outputId": "3c12b6f3-02de-4fb9-a4db-24b18045a649"
      },
      "execution_count": null,
      "outputs": [
        {
          "output_type": "execute_result",
          "data": {
            "text/plain": [
              "'Coração'"
            ],
            "application/vnd.google.colaboratory.intrinsic+json": {
              "type": "string"
            }
          },
          "metadata": {},
          "execution_count": 23
        }
      ]
    },
    {
      "cell_type": "code",
      "source": [
        "cor[1:]"
      ],
      "metadata": {
        "id": "VSkEa0p14Qwz",
        "colab": {
          "base_uri": "https://localhost:8080/",
          "height": 35
        },
        "outputId": "48164f6c-4b2c-4f5c-9c95-ceaf18fc6984"
      },
      "execution_count": null,
      "outputs": [
        {
          "output_type": "execute_result",
          "data": {
            "text/plain": [
              "'oração'"
            ],
            "application/vnd.google.colaboratory.intrinsic+json": {
              "type": "string"
            }
          },
          "metadata": {},
          "execution_count": 24
        }
      ]
    },
    {
      "cell_type": "code",
      "source": [
        "cor[:4]"
      ],
      "metadata": {
        "id": "X7OkIxOB4ScV",
        "colab": {
          "base_uri": "https://localhost:8080/",
          "height": 35
        },
        "outputId": "8640bc7a-563e-4963-ecab-1bbbe47e826a"
      },
      "execution_count": null,
      "outputs": [
        {
          "output_type": "execute_result",
          "data": {
            "text/plain": [
              "'Cora'"
            ],
            "application/vnd.google.colaboratory.intrinsic+json": {
              "type": "string"
            }
          },
          "metadata": {},
          "execution_count": 25
        }
      ]
    },
    {
      "cell_type": "code",
      "source": [
        "cor[4:7]"
      ],
      "metadata": {
        "id": "J6RRGx5I4VLE",
        "colab": {
          "base_uri": "https://localhost:8080/",
          "height": 35
        },
        "outputId": "34484ba3-bf8b-454a-fb82-966b03bc933f"
      },
      "execution_count": null,
      "outputs": [
        {
          "output_type": "execute_result",
          "data": {
            "text/plain": [
              "'ção'"
            ],
            "application/vnd.google.colaboratory.intrinsic+json": {
              "type": "string"
            }
          },
          "metadata": {},
          "execution_count": 26
        }
      ]
    },
    {
      "cell_type": "markdown",
      "source": [
        " Também podemos fazer operações com Strings"
      ],
      "metadata": {
        "id": "k4eEdIFikXZ_"
      }
    },
    {
      "cell_type": "code",
      "source": [
        "'AC' + 'TG'"
      ],
      "metadata": {
        "colab": {
          "base_uri": "https://localhost:8080/",
          "height": 35
        },
        "id": "LQn_krtWkW8p",
        "outputId": "52068410-569e-4085-b3ef-61e63d2c67d4"
      },
      "execution_count": null,
      "outputs": [
        {
          "output_type": "execute_result",
          "data": {
            "text/plain": [
              "'ACTG'"
            ],
            "application/vnd.google.colaboratory.intrinsic+json": {
              "type": "string"
            }
          },
          "metadata": {},
          "execution_count": 27
        }
      ]
    },
    {
      "cell_type": "markdown",
      "source": [
        "Uma string pode ser repetida um certo número de vezes multiplicando-a por um número inteiro:"
      ],
      "metadata": {
        "id": "b1Uh6SUClZqh"
      }
    },
    {
      "cell_type": "code",
      "source": [
        "'TA' * 12"
      ],
      "metadata": {
        "id": "vzh9XuWSkqvY",
        "colab": {
          "base_uri": "https://localhost:8080/",
          "height": 35
        },
        "outputId": "8a4550bf-89fa-4b3c-fa0c-4b758d3cbc7f"
      },
      "execution_count": null,
      "outputs": [
        {
          "output_type": "execute_result",
          "data": {
            "text/plain": [
              "'TATATATATATATATATATATATA'"
            ],
            "application/vnd.google.colaboratory.intrinsic+json": {
              "type": "string"
            }
          },
          "metadata": {},
          "execution_count": 28
        }
      ]
    },
    {
      "cell_type": "code",
      "source": [
        "6 * 'TA'\n"
      ],
      "metadata": {
        "id": "d7zGcvwVlilO",
        "colab": {
          "base_uri": "https://localhost:8080/",
          "height": 35
        },
        "outputId": "38268769-2ee4-4f0e-9d45-b9c6423e704d"
      },
      "execution_count": null,
      "outputs": [
        {
          "output_type": "execute_result",
          "data": {
            "text/plain": [
              "'TATATATATATA'"
            ],
            "application/vnd.google.colaboratory.intrinsic+json": {
              "type": "string"
            }
          },
          "metadata": {},
          "execution_count": 29
        }
      ]
    },
    {
      "cell_type": "markdown",
      "source": [
        "Localizando pelo index"
      ],
      "metadata": {
        "id": "e52o0RopmHm5"
      }
    },
    {
      "cell_type": "code",
      "source": [
        "'GTAACCTCAGACCT'[0]"
      ],
      "metadata": {
        "id": "CN72z-gsl7-e",
        "colab": {
          "base_uri": "https://localhost:8080/",
          "height": 35
        },
        "outputId": "4ebb316b-b8f2-4c4d-c5f4-005fdf9e2e87"
      },
      "execution_count": null,
      "outputs": [
        {
          "output_type": "execute_result",
          "data": {
            "text/plain": [
              "'G'"
            ],
            "application/vnd.google.colaboratory.intrinsic+json": {
              "type": "string"
            }
          },
          "metadata": {},
          "execution_count": 30
        }
      ]
    },
    {
      "cell_type": "markdown",
      "source": [
        "Os operadores **in** e **not** in testam se a primeira string é uma substring da segunda (começando em qualquer posição). O resultado é Verdadeiro ou Falso:"
      ],
      "metadata": {
        "id": "5FdmSIJWk2VZ"
      }
    },
    {
      "cell_type": "code",
      "source": [
        "'TATA' in 'TAGCTAACCTTATACCGGGT'"
      ],
      "metadata": {
        "id": "FcSGWU8fk75i",
        "colab": {
          "base_uri": "https://localhost:8080/"
        },
        "outputId": "8fce596a-7079-4df3-900a-a2a807f96374"
      },
      "execution_count": null,
      "outputs": [
        {
          "output_type": "execute_result",
          "data": {
            "text/plain": [
              "True"
            ]
          },
          "metadata": {},
          "execution_count": 31
        }
      ]
    },
    {
      "cell_type": "code",
      "source": [
        "'AA' in 'TAGCTACCTTATACCGGGTA'"
      ],
      "metadata": {
        "id": "F7rY3jiylAMw",
        "colab": {
          "base_uri": "https://localhost:8080/"
        },
        "outputId": "16b9984c-c440-4038-87a1-5fdc73d710a9"
      },
      "execution_count": null,
      "outputs": [
        {
          "output_type": "execute_result",
          "data": {
            "text/plain": [
              "False"
            ]
          },
          "metadata": {},
          "execution_count": 32
        }
      ]
    },
    {
      "cell_type": "code",
      "source": [
        "'AA' not in 'TATATATATATATATATATATATA'"
      ],
      "metadata": {
        "id": "SrReeka1lFmj",
        "colab": {
          "base_uri": "https://localhost:8080/"
        },
        "outputId": "d70a4620-4cba-4638-a5bf-5bb6eb3bf27d"
      },
      "execution_count": null,
      "outputs": [
        {
          "output_type": "execute_result",
          "data": {
            "text/plain": [
              "True"
            ]
          },
          "metadata": {},
          "execution_count": 33
        }
      ]
    },
    {
      "cell_type": "markdown",
      "source": [
        "Outro exemplo de manipulação de String"
      ],
      "metadata": {
        "id": "fCMbbqHNQ1N-"
      }
    },
    {
      "cell_type": "code",
      "source": [
        "seq = ('CAGTAGTCGCCCGGGTTGCCGCAAGGCCTCCCGGGTAACCTACCACCCTTTGTTTATTACACTTTGTTGCTTTGGCAAGCCTGCCCTCGGGCTGCTGGCTCCGGCCGGCGAGCGCTTGCCAGAGGACCTAAACTCTGTTTGTCTATACTGTCTGAGTACTATATAATAGTTAAAACTTTCAACAACGGATCTCTTGGTTCTGGCATCGATGAAGAACGCAGCGAAATGCGATAAGTAATGTGAATTGCAGAATTCAGTGAATCATCGAATCTTTGAACGCACATTGCGCCCCCTGGTATTCCGGGGGGCATGCCTGTCCGAGCGTCATTACAACCCTCAAGCTCAGCTTGGTGTTGGGCCCCGCCGCCCCGGCGGGCCCTAAAGTCAGTGGCGGTGCCGTCCGGCTCCGAGCGTAGTAATTCTTCTCGCTCTGGAGGTCCGGTCGTGTGCTCGCCAGCAACCCCCAATTTTTTTCAGGTTGACCTCGGATCAGGTAGGGATACCCGCTGAACTTAA')"
      ],
      "metadata": {
        "id": "mg-8qhWhQ4mV"
      },
      "execution_count": null,
      "outputs": []
    },
    {
      "cell_type": "code",
      "source": [
        "len(seq)"
      ],
      "metadata": {
        "colab": {
          "base_uri": "https://localhost:8080/"
        },
        "id": "U6RczQr4iZJC",
        "outputId": "596b0ae9-c690-466b-e226-c325f94a46b4"
      },
      "execution_count": null,
      "outputs": [
        {
          "output_type": "execute_result",
          "data": {
            "text/plain": [
              "516"
            ]
          },
          "metadata": {},
          "execution_count": 3
        }
      ]
    },
    {
      "cell_type": "code",
      "source": [
        "seq[0:10]"
      ],
      "metadata": {
        "id": "Uv2TBezORkeL",
        "colab": {
          "base_uri": "https://localhost:8080/",
          "height": 35
        },
        "outputId": "97e5c2ad-3d54-4fb9-9602-99152a4d9780"
      },
      "execution_count": null,
      "outputs": [
        {
          "output_type": "execute_result",
          "data": {
            "text/plain": [
              "'MDNEVEKNIE'"
            ],
            "application/vnd.google.colaboratory.intrinsic+json": {
              "type": "string"
            }
          },
          "metadata": {},
          "execution_count": 7
        }
      ]
    },
    {
      "cell_type": "code",
      "source": [
        "seq[480:516]"
      ],
      "metadata": {
        "colab": {
          "base_uri": "https://localhost:8080/",
          "height": 35
        },
        "id": "HkAHBwXfidL8",
        "outputId": "360d33e7-53ad-4ace-b9e1-b2c53d73cbf3"
      },
      "execution_count": null,
      "outputs": [
        {
          "output_type": "execute_result",
          "data": {
            "text/plain": [
              "'GACCTCGGATCAGGTAGGGATACCCGCTGAACTTAA'"
            ],
            "application/vnd.google.colaboratory.intrinsic+json": {
              "type": "string"
            }
          },
          "metadata": {},
          "execution_count": 8
        }
      ]
    },
    {
      "cell_type": "code",
      "source": [
        "#usando a função len como parametro para estimar o final da sequencia\n",
        "seq[400:len(seq)]"
      ],
      "metadata": {
        "id": "oTBTbOF1imkI"
      },
      "execution_count": null,
      "outputs": []
    },
    {
      "cell_type": "code",
      "source": [
        "#divide gene pela metade e arredonda para numero inteiro \n",
        "seq[(len(seq)%2):len(seq)]"
      ],
      "metadata": {
        "colab": {
          "base_uri": "https://localhost:8080/",
          "height": 87
        },
        "id": "Z7z1TmvOkUA8",
        "outputId": "156d2d9e-a72c-49af-8b66-2f70674b5b6f"
      },
      "execution_count": null,
      "outputs": [
        {
          "output_type": "execute_result",
          "data": {
            "text/plain": [
              "'DNEVEKNIEIWKVKKLVQSLEKARGNGTSMISLVIPPKGQIPLYQKMLTDEYGTASNIKSRVNRLSVLSAITSTQQKLKLYNTLPKNGLVLYCGDIITEDGKEKKVTFDIEPYKPINTSLYLCDNKFHTEVLSELLQADDKFGFIVMDGQGTLFGSVSGNTRTVLHKFTVDLPKKHGRGGQSALRFARLREEKRHNYVRKVAEVAVQNFITNDKVNVKGLILAGSADFKTDLAKSELFDPRLACKVISIVDVSYGGENGFNQAIELSAEALANVKYVQEKKLLEAYFDEISQDTGKFCYGIDDTLKALDLGAVEKLIVFENLETIRYTFKDAEDNEVIKFAEPEAKDKSFAIDKATGQEMDVVSEEPLIEWLAANYKNFGATLEFITDKSSEGAQFVTGFGGIGAMLRYKVNFEQLVDESEDEYYDEDEGSDYDFI'"
            ],
            "application/vnd.google.colaboratory.intrinsic+json": {
              "type": "string"
            }
          },
          "metadata": {},
          "execution_count": 9
        }
      ]
    },
    {
      "cell_type": "code",
      "source": [
        "seq[::]"
      ],
      "metadata": {
        "id": "QaXsCDJHRuE7",
        "colab": {
          "base_uri": "https://localhost:8080/",
          "height": 87
        },
        "outputId": "6c3ad856-2e11-4330-b598-568e2d8b42d5"
      },
      "execution_count": null,
      "outputs": [
        {
          "output_type": "execute_result",
          "data": {
            "text/plain": [
              "'MDNEVEKNIEIWKVKKLVQSLEKARGNGTSMISLVIPPKGQIPLYQKMLTDEYGTASNIKSRVNRLSVLSAITSTQQKLKLYNTLPKNGLVLYCGDIITEDGKEKKVTFDIEPYKPINTSLYLCDNKFHTEVLSELLQADDKFGFIVMDGQGTLFGSVSGNTRTVLHKFTVDLPKKHGRGGQSALRFARLREEKRHNYVRKVAEVAVQNFITNDKVNVKGLILAGSADFKTDLAKSELFDPRLACKVISIVDVSYGGENGFNQAIELSAEALANVKYVQEKKLLEAYFDEISQDTGKFCYGIDDTLKALDLGAVEKLIVFENLETIRYTFKDAEDNEVIKFAEPEAKDKSFAIDKATGQEMDVVSEEPLIEWLAANYKNFGATLEFITDKSSEGAQFVTGFGGIGAMLRYKVNFEQLVDESEDEYYDEDEGSDYDFI'"
            ],
            "application/vnd.google.colaboratory.intrinsic+json": {
              "type": "string"
            }
          },
          "metadata": {},
          "execution_count": 36
        }
      ]
    },
    {
      "cell_type": "code",
      "source": [
        "seq [100:115]"
      ],
      "metadata": {
        "id": "EhkZTj9HRw9N",
        "colab": {
          "base_uri": "https://localhost:8080/",
          "height": 35
        },
        "outputId": "3ce77aae-3afe-4470-98cf-db1fd9f27c30"
      },
      "execution_count": null,
      "outputs": [
        {
          "output_type": "execute_result",
          "data": {
            "text/plain": [
              "'DGKEKKVTFDIEPYK'"
            ],
            "application/vnd.google.colaboratory.intrinsic+json": {
              "type": "string"
            }
          },
          "metadata": {},
          "execution_count": 37
        }
      ]
    },
    {
      "cell_type": "code",
      "source": [
        "seq[:9]"
      ],
      "metadata": {
        "id": "H1gjUxgvU0mK",
        "colab": {
          "base_uri": "https://localhost:8080/",
          "height": 35
        },
        "outputId": "2196f0c6-6b31-44bb-f0b5-8dcb75b3a526"
      },
      "execution_count": null,
      "outputs": [
        {
          "output_type": "execute_result",
          "data": {
            "text/plain": [
              "'MDNEVEKNI'"
            ],
            "application/vnd.google.colaboratory.intrinsic+json": {
              "type": "string"
            }
          },
          "metadata": {},
          "execution_count": 38
        }
      ]
    },
    {
      "cell_type": "code",
      "source": [
        "seq[150:]"
      ],
      "metadata": {
        "id": "bFb5fA0MU4b1",
        "colab": {
          "base_uri": "https://localhost:8080/",
          "height": 70
        },
        "outputId": "c1972e86-2a30-4a67-db35-f2e46d5ee930"
      },
      "execution_count": null,
      "outputs": [
        {
          "output_type": "execute_result",
          "data": {
            "text/plain": [
              "'TCTGAGTACTATATAATAGTTAAAACTTTCAACAACGGATCTCTTGGTTCTGGCATCGATGAAGAACGCAGCGAAATGCGATAAGTAATGTGAATTGCAGAATTCAGTGAATCATCGAATCTTTGAACGCACATTGCGCCCCCTGGTATTCCGGGGGGCATGCCTGTCCGAGCGTCATTACAACCCTCAAGCTCAGCTTGGTGTTGGGCCCCGCCGCCCCGGCGGGCCCTAAAGTCAGTGGCGGTGCCGTCCGGCTCCGAGCGTAGTAATTCTTCTCGCTCTGGAGGTCCGGTCGTGTGCTCGCCAGCAACCCCCAATTTTTTTCAGGTTGACCTCGGATCAGGTAGGGATACCCGCTGAACTTAA'"
            ],
            "application/vnd.google.colaboratory.intrinsic+json": {
              "type": "string"
            }
          },
          "metadata": {},
          "execution_count": 12
        }
      ]
    },
    {
      "cell_type": "code",
      "source": [
        ""
      ],
      "metadata": {
        "id": "XSb4zg6BiUyX"
      },
      "execution_count": null,
      "outputs": []
    },
    {
      "cell_type": "markdown",
      "source": [
        "Agora vamos descobrir quantos pares de base tem nossa sequência de genes"
      ],
      "metadata": {
        "id": "sMp-x4NLVWf3"
      }
    },
    {
      "cell_type": "markdown",
      "source": [
        "Também podemos saber quantas vezes determinada base aparece"
      ],
      "metadata": {
        "id": "L9ndWLHwVsfm"
      }
    },
    {
      "cell_type": "code",
      "source": [
        "seq.count('A')"
      ],
      "metadata": {
        "id": "tovCcgn_VzPZ",
        "colab": {
          "base_uri": "https://localhost:8080/"
        },
        "outputId": "9998c072-818c-4946-ce15-ae863c889c77"
      },
      "execution_count": null,
      "outputs": [
        {
          "output_type": "execute_result",
          "data": {
            "text/plain": [
              "29"
            ]
          },
          "metadata": {},
          "execution_count": 41
        }
      ]
    },
    {
      "cell_type": "code",
      "source": [
        "seq.count('GC')"
      ],
      "metadata": {
        "colab": {
          "base_uri": "https://localhost:8080/"
        },
        "id": "U0XKdS3UuEqW",
        "outputId": "f9116949-2691-4b94-8967-a164603058be"
      },
      "execution_count": null,
      "outputs": [
        {
          "output_type": "execute_result",
          "data": {
            "text/plain": [
              "43"
            ]
          },
          "metadata": {},
          "execution_count": 11
        }
      ]
    },
    {
      "cell_type": "code",
      "source": [
        "seq.count('C')"
      ],
      "metadata": {
        "colab": {
          "base_uri": "https://localhost:8080/"
        },
        "id": "cDorxwheuIPI",
        "outputId": "a9ceeb05-4124-4c7b-9e87-6a2856e82e17"
      },
      "execution_count": null,
      "outputs": [
        {
          "output_type": "execute_result",
          "data": {
            "text/plain": [
              "146"
            ]
          },
          "metadata": {},
          "execution_count": 10
        }
      ]
    },
    {
      "cell_type": "code",
      "source": [
        "seq.count('TCTGA')"
      ],
      "metadata": {
        "id": "vwHUwxWYuctE"
      },
      "execution_count": null,
      "outputs": []
    },
    {
      "cell_type": "markdown",
      "source": [
        "Agora vamos utilizar o operador logico =="
      ],
      "metadata": {
        "id": "cwBMNc3pXXD9"
      }
    },
    {
      "cell_type": "code",
      "source": [
        "seq1 = ('AAAAATCCCGAGGCGGCTATATAGGGCTCCGGAGGCGTAATATAAAA')\n",
        "seq2 = ('AAAAATCCCGAGGCGGCTATATAGGGCTCCGGAGGCGTAATATAAAA')"
      ],
      "metadata": {
        "id": "goDeI-qXa5WV"
      },
      "execution_count": null,
      "outputs": []
    },
    {
      "cell_type": "code",
      "source": [
        "seq1 == seq2"
      ],
      "metadata": {
        "id": "BZ1UbAeya_pF"
      },
      "execution_count": null,
      "outputs": []
    },
    {
      "cell_type": "markdown",
      "source": [
        "Podemos realizar algumas operações utilizando strings "
      ],
      "metadata": {
        "id": "Mx_b8Rkj_maL"
      }
    },
    {
      "cell_type": "code",
      "source": [
        "a = 'Curso'\n",
        "b = 'Python'\n",
        "c = '!'\n",
        "print(a + ' ' + b + c * 3)"
      ],
      "metadata": {
        "colab": {
          "base_uri": "https://localhost:8080/"
        },
        "id": "G9buMgJi_ybn",
        "outputId": "4b60bffb-336a-4562-fde6-0e7d7f985251"
      },
      "execution_count": null,
      "outputs": [
        {
          "output_type": "stream",
          "name": "stdout",
          "text": [
            "Curso Python!!!\n"
          ]
        }
      ]
    },
    {
      "cell_type": "markdown",
      "source": [
        "- Conhecemos algumas estruturas de dados - strings, int, float\n",
        "- criamos e manipulamos variáveis\n"
      ],
      "metadata": {
        "id": "2WmEuO2yCowZ"
      }
    }
  ]
}