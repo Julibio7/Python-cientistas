{
  "nbformat": 4,
  "nbformat_minor": 0,
  "metadata": {
    "colab": {
      "name": "entrada_saída.ipynb",
      "provenance": [],
      "authorship_tag": "ABX9TyOprKB4v0GlQQQoKv3mHPF9",
      "include_colab_link": true
    },
    "kernelspec": {
      "name": "python3",
      "display_name": "Python 3"
    },
    "language_info": {
      "name": "python"
    }
  },
  "cells": [
    {
      "cell_type": "markdown",
      "metadata": {
        "id": "view-in-github",
        "colab_type": "text"
      },
      "source": [
        "<a href=\"https://colab.research.google.com/github/Julibio7/Python-cientistas/blob/main/entrada_sa%C3%ADda.ipynb\" target=\"_parent\"><img src=\"https://colab.research.google.com/assets/colab-badge.svg\" alt=\"Open In Colab\"/></a>"
      ]
    },
    {
      "cell_type": "markdown",
      "source": [
        "# <center> **Noções básicas de Python**\n",
        "\n",
        "### <center> COMANDOS DE ENTRADA E SAÍDA EM PYTHON\n",
        "\n",
        "_____________\n",
        "\n",
        "Os comandos de entrada e saída de um programa disponíveis nas linguagens de programação possuem a função de comunicação com o mundo exterior. Isto é, o comando de entrada permite que o usuário envie dados do mundo exterior (por exemplo: teclado) para uma variável do programa (variável associada ao comando) e o comando de saída permite exibir ( na tela do computador) mensagens, expressões e/ou valores armazenados em variáveis do programa.\n",
        "\n"
      ],
      "metadata": {
        "id": "7-sNXHXacOUm"
      }
    },
    {
      "cell_type": "markdown",
      "source": [
        "##Comando de Entrada em Python\n",
        "\n",
        "Esse comando permite receber o valor digitado no teclado pelo usuário e atribuir esse valor a variável associadas ao comando. Comando (função) de entrada do python: `input`\n",
        "\n",
        "Este comando interrompe a execução do programa para esperar que o usuário digite o valor solicitado no teclado e, ao final da digitação, pressione a tecla \"Enter\". Após isso, o valor digitado será movido para variável associada ao `input`.\n",
        "\n",
        "Forma Geral:\n",
        "`variável = input('Mensagem para o usuário')`"
      ],
      "metadata": {
        "id": "8iFOFK5II6Oy"
      }
    },
    {
      "cell_type": "code",
      "source": [
        "#O que quer que o usuário digite é então retornado como resultado da execução da função input()\n",
        "# Nesse caso, esse resultado é armazenado na variável usuário.\n",
        "usuario = input('Digite seu nome: ')"
      ],
      "metadata": {
        "id": "Ug14Zm5sJVdS"
      },
      "execution_count": null,
      "outputs": []
    },
    {
      "cell_type": "code",
      "source": [
        "print(usuario)"
      ],
      "metadata": {
        "id": "cKu5f-VoMnPl"
      },
      "execution_count": null,
      "outputs": []
    },
    {
      "cell_type": "code",
      "source": [
        "print('Oi', usuario)"
      ],
      "metadata": {
        "id": "1mwGgpieJfm0"
      },
      "execution_count": null,
      "outputs": []
    },
    {
      "cell_type": "markdown",
      "source": [
        "Esta função `input()`, é novamente uma função embutidas que faz parte da linguagem Python.\n",
        "\n",
        "Conheça mais sobre funções embutidas [aqui](https://docs.python.org/pt-br/3/library/functions.html#:~:text=As%20fun%C3%A7%C3%B5es%20embutidas%20globals(),terceiro%20argumento%20para%20exec()%20.)"
      ],
      "metadata": {
        "id": "sRyDC9kZKjec"
      }
    },
    {
      "cell_type": "markdown",
      "source": [
        "A função `input() pode ser associada a função de saída `print()`"
      ],
      "metadata": {
        "id": "u_YkokHzLhWA"
      }
    },
    {
      "cell_type": "markdown",
      "source": [
        "## Comando de saída em Python\n",
        "\n",
        "A função Python `print()` recebe dados python, como int e strings, e imprime esses valores para o padrão.\n",
        "\n",
        "Embora não seja necessário passar argumentos na função print(), ela requer um parêntese vazio no final que diz ao python para executar a função em vez de chamá-la pelo nome."
      ],
      "metadata": {
        "id": "eKk4iNnqYpTu"
      }
    },
    {
      "cell_type": "code",
      "source": [
        "print()"
      ],
      "metadata": {
        "colab": {
          "base_uri": "https://localhost:8080/"
        },
        "id": "IVwHUQKhZg7O",
        "outputId": "b94e33c1-5e49-492e-c34a-b7382ca87795"
      },
      "execution_count": null,
      "outputs": [
        {
          "output_type": "stream",
          "name": "stdout",
          "text": [
            "\n"
          ]
        }
      ]
    },
    {
      "cell_type": "markdown",
      "source": [
        "Por padrão, print() separa os itens por espaços. "
      ],
      "metadata": {
        "id": "8YX5v4h4bvYT"
      }
    },
    {
      "cell_type": "code",
      "source": [
        "print('microrganismos', 'plantas', 'animais')"
      ],
      "metadata": {
        "colab": {
          "base_uri": "https://localhost:8080/"
        },
        "id": "xHp0Gph_Zy0h",
        "outputId": "70bfc7be-ed67-4852-97bd-806dbb22deb2"
      },
      "execution_count": null,
      "outputs": [
        {
          "output_type": "stream",
          "name": "stdout",
          "text": [
            "microrganismos plantas animais\n"
          ]
        }
      ]
    },
    {
      "cell_type": "code",
      "source": [
        "print('O microbioma é a comunidade de microrganismos como fungos, bactérias e vírus que existe em um determinado ambiente')"
      ],
      "metadata": {
        "colab": {
          "base_uri": "https://localhost:8080/"
        },
        "id": "RxrZ-UrScPNk",
        "outputId": "47a26f49-3040-4a7f-fd56-00525aad6eef"
      },
      "execution_count": null,
      "outputs": [
        {
          "output_type": "stream",
          "name": "stdout",
          "text": [
            "O microbioma é a comunidade de microrganismos como fungos, bactérias e vírus que existe em um determinado ambiente\n"
          ]
        }
      ]
    },
    {
      "cell_type": "code",
      "source": [
        "#para criar uma nova linha utiliza barra invertina e a letra n\n",
        "#  /n\n",
        "print('O microbioma é a comunidade de microrganismos como  \\n fungos, bactérias e vírus \\n que existe em um determinado ambiente')"
      ],
      "metadata": {
        "colab": {
          "base_uri": "https://localhost:8080/"
        },
        "id": "yo6YrwdhcYQV",
        "outputId": "bdfb503b-4ecd-4b3e-ed1d-b244b0d18e94"
      },
      "execution_count": null,
      "outputs": [
        {
          "output_type": "stream",
          "name": "stdout",
          "text": [
            "O microbioma é a comunidade de microrganismos como  \n",
            " fungos, bactérias e vírus \n",
            " que existe em um determinado ambiente\n"
          ]
        }
      ]
    },
    {
      "cell_type": "markdown",
      "source": [
        " Agora, vamos explorar os argumentos opcionais que podem ser usados ​​com a função `print()`."
      ],
      "metadata": {
        "id": "1h2DCDrEbrRU"
      }
    },
    {
      "cell_type": "markdown",
      "source": [
        "Com o parâmetro opcional `sep = ` podemos separar o texto de maniera diferente."
      ],
      "metadata": {
        "id": "LtzzbshwaGIh"
      }
    },
    {
      "cell_type": "code",
      "source": [
        "print('microrganismos', 'plantas', 'animais', sep ='**')"
      ],
      "metadata": {
        "id": "wlQCUSusar1e"
      },
      "execution_count": null,
      "outputs": []
    },
    {
      "cell_type": "code",
      "source": [
        "print('microrganismos', 'plantas', 'animais', sep =' ') #string vazia"
      ],
      "metadata": {
        "colab": {
          "base_uri": "https://localhost:8080/"
        },
        "id": "ZzjMdmnea8lm",
        "outputId": "8362c2c8-5855-4538-928d-1b3a4b83add3"
      },
      "execution_count": null,
      "outputs": [
        {
          "output_type": "stream",
          "name": "stdout",
          "text": [
            "microrganismos plantas animais\n"
          ]
        }
      ]
    },
    {
      "cell_type": "code",
      "source": [
        ""
      ],
      "metadata": {
        "id": "mr3oyUqMbCOx"
      },
      "execution_count": null,
      "outputs": []
    },
    {
      "cell_type": "markdown",
      "source": [
        ""
      ],
      "metadata": {
        "id": "bM1SmMwvaopP"
      }
    },
    {
      "cell_type": "code",
      "source": [
        "nome = input('Por favor, digite o seu nome: ')\n",
        "print(\"Seu nome todo em maiúsculas é\", nome.upper(),\n",
        "      \"e tem comprimento\", len(nome), 'letras')\n"
      ],
      "metadata": {
        "colab": {
          "base_uri": "https://localhost:8080/"
        },
        "id": "3kVRlpSqNSih",
        "outputId": "07cecaf2-973c-460d-a8d9-914903a6295f"
      },
      "execution_count": null,
      "outputs": [
        {
          "output_type": "stream",
          "name": "stdout",
          "text": [
            "Por favor, digite o seu nome: Ju\n",
            "Seu nome todo em maiúsculas é JU e tem comprimento 2 letras\n"
          ]
        }
      ]
    },
    {
      "cell_type": "markdown",
      "source": [
        "Vamos praticar!"
      ],
      "metadata": {
        "id": "jgjBfgq_NCXK"
      }
    },
    {
      "cell_type": "code",
      "source": [
        "resultado = input('digite o microrganismo identificado: ')\n",
        "print ('microrganismo identicado é:', resultado)"
      ],
      "metadata": {
        "colab": {
          "base_uri": "https://localhost:8080/"
        },
        "id": "Q5IDRVuJNBm8",
        "outputId": "164954f0-fa33-4869-fcad-951d4b5befcc"
      },
      "execution_count": null,
      "outputs": [
        {
          "output_type": "stream",
          "name": "stdout",
          "text": [
            "digite o microrganismo identificado: Aspergillus\n",
            "microrganismo identicado é: Aspergillus\n"
          ]
        }
      ]
    },
    {
      "cell_type": "markdown",
      "source": [
        "Agora vamos salvar os dados de entrada em um arquivo .txt"
      ],
      "metadata": {
        "id": "pcQa70fCN_iQ"
      }
    },
    {
      "cell_type": "code",
      "source": [
        "resultado = input('digite o genero do microrganismo identificado: ')\n",
        "\n",
        "with open('arquivo.txt', 'w') as arquivo:\n",
        "\n",
        "    print('microrganismo identificado pertence ao gênero:', resultado, file=arquivo)"
      ],
      "metadata": {
        "colab": {
          "base_uri": "https://localhost:8080/"
        },
        "id": "HUSBXfQeOGt4",
        "outputId": "da84cbfa-f710-471a-c949-0ee5959e0653"
      },
      "execution_count": null,
      "outputs": [
        {
          "name": "stdout",
          "output_type": "stream",
          "text": [
            "digite o microrganismo identificado: Aspergillus\n"
          ]
        }
      ]
    },
    {
      "cell_type": "markdown",
      "source": [
        "Podemos inserir várias entradas"
      ],
      "metadata": {
        "id": "JQD0w01kO9XF"
      }
    },
    {
      "cell_type": "code",
      "source": [
        "resultado_1 = input('digite o genero do primeiro microrganismo identificado: ')\n",
        "resultado_2 = input('digite o genero do segundo  microrganismo identificado: ')\n",
        "resultado_3 = input('digite o genero do terceiro microrganismo identificado: ')\n",
        "\n",
        "\n",
        "with open('arquivo.txt', 'w') as arquivo:\n",
        "\n",
        "    print('o primeiro microrganismo identificado pertence ao gênero:', resultado_1, file=arquivo)\n",
        "    print('o segundo microrganismo identificado pertence ao gênero:', resultado_2, file=arquivo)\n",
        "    print('o terceiro microrganismo identificado pertence ao gênero:', resultado_3, file=arquivo)\n"
      ],
      "metadata": {
        "colab": {
          "base_uri": "https://localhost:8080/"
        },
        "id": "VWuNC1QkPaf0",
        "outputId": "a261c7cc-fab9-4fa5-fd5e-4d6d030be9ad"
      },
      "execution_count": null,
      "outputs": [
        {
          "name": "stdout",
          "output_type": "stream",
          "text": [
            "digite o genero do primeiro microrganismo identificado: a\n",
            "digite o genero do segundo  microrganismo identificado: b\n",
            "digite o genero do terceiro microrganismo identificado: b\n"
          ]
        }
      ]
    }
  ]
}