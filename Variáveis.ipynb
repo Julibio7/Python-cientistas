{
  "nbformat": 4,
  "nbformat_minor": 0,
  "metadata": {
    "colab": {
      "name": "Variáveis.ipynb",
      "provenance": [],
      "authorship_tag": "ABX9TyPQVnA5l+tyzdsR04KSZmGf",
      "include_colab_link": true
    },
    "kernelspec": {
      "name": "python3",
      "display_name": "Python 3"
    },
    "language_info": {
      "name": "python"
    }
  },
  "cells": [
    {
      "cell_type": "markdown",
      "metadata": {
        "id": "view-in-github",
        "colab_type": "text"
      },
      "source": [
        "<a href=\"https://colab.research.google.com/github/Julibio7/PythonCientistas/blob/main/Vari%C3%A1veis.ipynb\" target=\"_parent\"><img src=\"https://colab.research.google.com/assets/colab-badge.svg\" alt=\"Open In Colab\"/></a>"
      ]
    },
    {
      "cell_type": "markdown",
      "source": [
        "\n",
        "# <center> **Noções básicas de Python**\n",
        "\n",
        "### <center> TIPOS DE VARIÁVEIS DISPONÍVEIS NO PYTHON\n",
        "\n",
        "Hoje, vamos aprender o básico de uma das linguagens mais populares para fazer isso: Python.\n",
        "_____________\n"
      ],
      "metadata": {
        "id": "U1HTv_PZqCb3"
      }
    },
    {
      "cell_type": "markdown",
      "source": [
        "## Olá Mundo!\n",
        "Como a instrução “print” em Python gera o que a segue para a linha de comando, você verá seu programa imprimir “Hello World”. "
      ],
      "metadata": {
        "id": "1miDPF5_q3UX"
      }
    },
    {
      "cell_type": "code",
      "source": [
        "print(\"Olá Mundo\")"
      ],
      "metadata": {
        "id": "Iw8HWem540b3",
        "colab": {
          "base_uri": "https://localhost:8080/"
        },
        "outputId": "911a7ec5-2665-4213-cd58-ceca6b28f5bc"
      },
      "execution_count": null,
      "outputs": [
        {
          "output_type": "stream",
          "name": "stdout",
          "text": [
            "Olá Mundo\n"
          ]
        }
      ]
    },
    {
      "cell_type": "code",
      "source": [
        " #verificar a versão do python disponivel no Google Colab\n",
        " !python -V"
      ],
      "metadata": {
        "id": "hszrLeM-43im",
        "colab": {
          "base_uri": "https://localhost:8080/"
        },
        "outputId": "1a07b85e-f677-46b8-c6b5-3b487eedba02"
      },
      "execution_count": null,
      "outputs": [
        {
          "output_type": "stream",
          "name": "stdout",
          "text": [
            "Python 3.7.12\n"
          ]
        }
      ]
    },
    {
      "cell_type": "markdown",
      "source": [
        "# <center> Variáveis em Python"
      ],
      "metadata": {
        "id": "BTZjXXyOpm3K"
      }
    },
    {
      "cell_type": "markdown",
      "source": [
        "Quando iniciamos a programação temos de nos preocupar onde vamos armazenar as informações.\n",
        "\n",
        "Para isso, temos as variáveis.\n",
        "\n",
        "\n",
        "Variável é um recurso na programação para armazenar e recuperar dados, ou seja, é um espaço que reservamos na memória atribuindo um nome e organizando os dados manipulados no programa.\n",
        "\n",
        "Por exemplo, podemos criar uma variável chamada \"nome\", que armazenará o nome de uma pessoa. Fazendo uma analogia, seria como se você criasse uma gaveta em seu escritório com várias divisórias. A gaveta em si, seria a memória e cada divisão, uma variável para armazenar algum objeto.\n",
        "\n",
        "Chamamos o espaço alocado na memória de variável, porque o valor armazenado neste espao pode ser alterado ao longo do tempo, ou seja, o valor ali alocado é \"variável\" ao longo da execução do programa."
      ],
      "metadata": {
        "id": "gwbjlI9PpnZ8"
      }
    },
    {
      "cell_type": "markdown",
      "source": [
        "\n",
        "\n",
        "Um valor é um dado com o qual um programa de computador trabalha, como um número ou texto. \n",
        "\n",
        "Existem diferentes tipos de valores: 42 é um inteiro e \"Hello!\"é uma string. \n",
        "\n",
        "Uma variável é um nome que se refere a um valor.\n",
        "\n",
        "Em Python, podemos usar qualquer palavra como nome de variável, desde que comece com uma letra ou sublinhado.\n",
        "\n",
        " No entanto, não deve ser uma palavra reservada em Python, como for, while, class, lambda, etc., pois essas palavras codificam funcionalidades especiais em Python que não queremos substituir!\n",
        "\n",
        "Pode ser útil pensar em uma variável como uma caixa que contém algumas informações (um único número, um vetor, uma string, etc). Usamos o operador de atribuição = para atribuir um valor a uma variável.\n",
        "\n",
        "\n"
      ],
      "metadata": {
        "id": "nM-HeTbq5Pvj"
      }
    },
    {
      "cell_type": "markdown",
      "source": [
        "![](https://www.tomasbeuzen.com/python-programming-for-data-science/_images/box.png) \n",
        "[fonte](https://www.tomasbeuzen.com/python-programming-for-data-science/chapters/chapter1-basics.html)"
      ],
      "metadata": {
        "id": "_lSWGew97zsA"
      }
    },
    {
      "cell_type": "code",
      "source": [
        "#Exemplos de váriáveis:\n",
        "nome = \"Juliana Santos\""
      ],
      "metadata": {
        "id": "38DEgEQMqGaY"
      },
      "execution_count": null,
      "outputs": []
    },
    {
      "cell_type": "markdown",
      "source": [
        "Existe vários tipos de variáveis"
      ],
      "metadata": {
        "id": "Nx3uz4CamjRV"
      }
    },
    {
      "cell_type": "code",
      "source": [
        "x = -10 # uma variável do tipo inteiro (int)\n",
        "y = 3.14 # uma variável do tipo real (float)\n",
        "aula = \"curso de python\" # uma variável literal (string)\n",
        "aula_legal = True # uma variável lógica (booleana)"
      ],
      "metadata": {
        "id": "jTUeA9A7mkaf"
      },
      "execution_count": 9,
      "outputs": []
    },
    {
      "cell_type": "code",
      "source": [
        "x = 4"
      ],
      "metadata": {
        "id": "Qv7a--fKhdnN"
      },
      "execution_count": null,
      "outputs": []
    },
    {
      "cell_type": "code",
      "source": [
        "idade = 22"
      ],
      "metadata": {
        "id": "98EbpEIfh6WZ"
      },
      "execution_count": null,
      "outputs": []
    },
    {
      "cell_type": "code",
      "source": [
        "idade"
      ],
      "metadata": {
        "id": "2UlZ8EmIiHWh"
      },
      "execution_count": null,
      "outputs": []
    },
    {
      "cell_type": "code",
      "source": [
        "idade_lorane = 22"
      ],
      "metadata": {
        "id": "ksyELh__iLHc"
      },
      "execution_count": null,
      "outputs": []
    },
    {
      "cell_type": "code",
      "source": [
        "idade_lorane"
      ],
      "metadata": {
        "id": "X99OJvz6iQs1"
      },
      "execution_count": null,
      "outputs": []
    },
    {
      "cell_type": "code",
      "source": [
        "altura = 1.58"
      ],
      "metadata": {
        "id": "fLqQEuhTiZkJ"
      },
      "execution_count": null,
      "outputs": []
    },
    {
      "cell_type": "code",
      "source": [
        "altura"
      ],
      "metadata": {
        "id": "g2uHZuCxie1B"
      },
      "execution_count": null,
      "outputs": []
    },
    {
      "cell_type": "code",
      "source": [
        "aula_genetica = \"alunos da Biologia\""
      ],
      "metadata": {
        "id": "JefSJYEDiiIx"
      },
      "execution_count": null,
      "outputs": []
    },
    {
      "cell_type": "code",
      "source": [
        "# podemos acessar uma váriável utilizando a função print()\n",
        "print(nome)"
      ],
      "metadata": {
        "id": "Bs6pK3f8qcpI"
      },
      "execution_count": null,
      "outputs": []
    },
    {
      "cell_type": "markdown",
      "source": [
        ">As variáveis ​​não precisam ser declaradas com um tipo específico de dado e podem até mudar de tipo depois de terem sido definidas"
      ],
      "metadata": {
        "id": "3akn1qhOqxoQ"
      }
    },
    {
      "cell_type": "code",
      "source": [
        "x = 4       # número inteiro \"int\"\n",
        "x = \"Cientistas\" # String  \"str\"\n",
        "print(x)"
      ],
      "metadata": {
        "id": "I4aKtOJuqjuY"
      },
      "execution_count": null,
      "outputs": []
    },
    {
      "cell_type": "markdown",
      "source": [
        "Os nomes de variáveis ​​diferenciam maiúsculas de minúsculas.\n",
        "\n"
      ],
      "metadata": {
        "id": "D7RBWAm6swTl"
      }
    },
    {
      "cell_type": "code",
      "source": [
        "a = 4\n",
        "A = \"Ciência\"\n",
        "# \"a\" não substiturá o A"
      ],
      "metadata": {
        "id": "6dgm9e2Xs0dL"
      },
      "execution_count": null,
      "outputs": []
    },
    {
      "cell_type": "markdown",
      "source": [
        "Se você deseja especificar o tipo de dados de uma variável, isso pode ser feito com conversão.\n",
        "\n"
      ],
      "metadata": {
        "id": "4akG9NXlree0"
      }
    },
    {
      "cell_type": "code",
      "source": [
        "x = str(3)\n",
        "y = int(3)\n",
        "z = float(3)\n",
        "\n",
        "print(x)\n",
        "print(y)\n",
        "print(z)"
      ],
      "metadata": {
        "id": "lwwQFuGkrTzI"
      },
      "execution_count": null,
      "outputs": []
    },
    {
      "cell_type": "markdown",
      "source": [
        "Você pode obter o tipo de dados de uma variável com a `type()`função."
      ],
      "metadata": {
        "id": "bc8XS6akr7rF"
      }
    },
    {
      "cell_type": "code",
      "source": [
        "x = 5\n",
        "y = \"Cientistas\"\n",
        "print(type(x))\n",
        "print(type(y))"
      ],
      "metadata": {
        "id": "vRElTikBr8pR"
      },
      "execution_count": null,
      "outputs": []
    },
    {
      "cell_type": "markdown",
      "source": [
        "**Regras para variáveis ​​Python:**\n",
        "\n",
        "* Um nome de variável deve começar com uma letra ou o caractere sublinhado\n",
        "* Um nome de variável não pode começar com um número\n",
        "* Um nome de variável pode conter apenas caracteres alfanuméricos e sublinhados (Az, 0-9 e _ )\n",
        "* Os nomes das variáveis ​​diferenciam maiúsculas de minúsculas (idade, idade e IDADE são três variáveis ​​diferentes)"
      ],
      "metadata": {
        "id": "WUF5r-6ttWGL"
      }
    },
    {
      "cell_type": "code",
      "source": [
        "variavel = \"Cientistas\"\n",
        "var_var = \"Cientistas\"\n",
        "_var_var = \"Cientistas\"\n",
        "varVar = \"Cientistas\"\n",
        "VARVAR = \"Cientistas\"\n",
        "varvar2 = \"Cientistas\""
      ],
      "metadata": {
        "id": "fCJoCXxItrUp"
      },
      "execution_count": null,
      "outputs": []
    },
    {
      "cell_type": "code",
      "source": [
        "NOME = \"Juliana\""
      ],
      "metadata": {
        "id": "lp8V6BxBj7DK"
      },
      "execution_count": null,
      "outputs": []
    },
    {
      "cell_type": "code",
      "source": [
        "nome = \"Santos\""
      ],
      "metadata": {
        "id": "TS_vkjivkAtA"
      },
      "execution_count": null,
      "outputs": []
    },
    {
      "cell_type": "code",
      "source": [
        "nome"
      ],
      "metadata": {
        "colab": {
          "base_uri": "https://localhost:8080/",
          "height": 35
        },
        "id": "i2g-FnADkEnA",
        "outputId": "81de9002-28da-4525-d5c2-fa3cfdb7aa7d"
      },
      "execution_count": null,
      "outputs": [
        {
          "output_type": "execute_result",
          "data": {
            "application/vnd.google.colaboratory.intrinsic+json": {
              "type": "string"
            },
            "text/plain": [
              "'Santos'"
            ]
          },
          "metadata": {},
          "execution_count": 13
        }
      ]
    },
    {
      "cell_type": "code",
      "source": [
        "NOME"
      ],
      "metadata": {
        "colab": {
          "base_uri": "https://localhost:8080/",
          "height": 35
        },
        "id": "IOhp2IDKkGZ4",
        "outputId": "06396b03-a7ef-4c7e-be89-ce20d70950a5"
      },
      "execution_count": null,
      "outputs": [
        {
          "output_type": "execute_result",
          "data": {
            "application/vnd.google.colaboratory.intrinsic+json": {
              "type": "string"
            },
            "text/plain": [
              "'Juliana'"
            ]
          },
          "metadata": {},
          "execution_count": 14
        }
      ]
    },
    {
      "cell_type": "markdown",
      "source": [
        "Nomes de variáveis ​​ilegais:"
      ],
      "metadata": {
        "id": "3LZVc8UR3LaM"
      }
    },
    {
      "cell_type": "code",
      "source": [
        "2varvar = \"Cientistas\"\n",
        "var-var =\"Cientistas\"\n",
        "var var = \"Cientistas\""
      ],
      "metadata": {
        "id": "WkwSwf143MLY"
      },
      "execution_count": null,
      "outputs": []
    },
    {
      "cell_type": "code",
      "source": [
        "idade = 22"
      ],
      "metadata": {
        "id": "JfqHzSYvk-eo"
      },
      "execution_count": null,
      "outputs": []
    },
    {
      "cell_type": "code",
      "source": [
        "idade"
      ],
      "metadata": {
        "colab": {
          "base_uri": "https://localhost:8080/"
        },
        "id": "v0nzCTs8lBfH",
        "outputId": "b04603a8-96a4-4659-e12d-0756de2cfcd4"
      },
      "execution_count": null,
      "outputs": [
        {
          "output_type": "execute_result",
          "data": {
            "text/plain": [
              "22"
            ]
          },
          "metadata": {},
          "execution_count": 16
        }
      ]
    },
    {
      "cell_type": "code",
      "source": [
        "idade = 89"
      ],
      "metadata": {
        "id": "t-2lDneRlDBG"
      },
      "execution_count": null,
      "outputs": []
    },
    {
      "cell_type": "code",
      "source": [
        "idade"
      ],
      "metadata": {
        "colab": {
          "base_uri": "https://localhost:8080/"
        },
        "id": "NAE7K68-lFSe",
        "outputId": "fdef46cf-e941-4058-9061-3007a314ffa3"
      },
      "execution_count": null,
      "outputs": [
        {
          "output_type": "execute_result",
          "data": {
            "text/plain": [
              "89"
            ]
          },
          "metadata": {},
          "execution_count": 18
        }
      ]
    },
    {
      "cell_type": "markdown",
      "source": [
        "**Muitos valores para múltiplas variáveis**\n",
        "\n",
        "Python permite atribuir valores a várias variáveis ​​em uma linha:"
      ],
      "metadata": {
        "id": "frmFACog36Fa"
      }
    },
    {
      "cell_type": "code",
      "source": [
        "x, y, z = \"Fungos\", \"Bactérias\", \"Virus\"\n",
        "print(x)\n",
        "print(y)\n",
        "print(z)"
      ],
      "metadata": {
        "id": "U3x38yzB3nHN",
        "colab": {
          "base_uri": "https://localhost:8080/"
        },
        "outputId": "421db9db-4920-4d94-d4d2-9a9a0729746f"
      },
      "execution_count": 4,
      "outputs": [
        {
          "output_type": "stream",
          "name": "stdout",
          "text": [
            "Fungos\n",
            "Bactérias\n",
            "Virus\n"
          ]
        }
      ]
    },
    {
      "cell_type": "code",
      "source": [
        "print(x, y, z)"
      ],
      "metadata": {
        "colab": {
          "base_uri": "https://localhost:8080/"
        },
        "id": "C6X49Gg0iJx3",
        "outputId": "7a1299b4-dc7c-48e6-fbad-af9f660ff538"
      },
      "execution_count": 5,
      "outputs": [
        {
          "output_type": "stream",
          "name": "stdout",
          "text": [
            "Fungos Bactérias Virus\n"
          ]
        }
      ]
    },
    {
      "cell_type": "markdown",
      "source": [
        "**Um valor para várias variáveis**\n",
        "\n"
      ],
      "metadata": {
        "id": "ldWzzBpK4MRg"
      }
    },
    {
      "cell_type": "code",
      "source": [
        "x = y = z = \"Laranja\"\n",
        "print(x)\n",
        "print(y)\n",
        "print(z)\n"
      ],
      "metadata": {
        "id": "qUDcLgE24TBF"
      },
      "execution_count": null,
      "outputs": []
    },
    {
      "cell_type": "markdown",
      "source": [
        "**Variáveis ​​de saída**\n",
        "\n",
        "A função `print()` frequentemente usada para gerar variáveis.\n",
        "\n",
        "Para combinar texto e uma variável, o Python usa o `+`caractere:"
      ],
      "metadata": {
        "id": "pcgvomCw42Mk"
      }
    },
    {
      "cell_type": "code",
      "source": [
        "x = \"legal\"\n",
        "print(\"Python é \" + x)"
      ],
      "metadata": {
        "id": "SiqzJ3XU7YFc"
      },
      "execution_count": null,
      "outputs": []
    },
    {
      "cell_type": "markdown",
      "source": [
        "Você também pode usar o `+` caractere para adicionar uma variável a outra variável:\n",
        "\n"
      ],
      "metadata": {
        "id": "osZX1ILO7iCo"
      }
    },
    {
      "cell_type": "code",
      "source": [
        "x = \"Python é \"\n",
        "y = \"impressionante\"\n",
        "z =  x + y\n",
        "print(z)"
      ],
      "metadata": {
        "id": "VUYCYcrr7jF9",
        "outputId": "3cd881b3-c332-44e4-bdfd-a256d91e45ce",
        "colab": {
          "base_uri": "https://localhost:8080/"
        }
      },
      "execution_count": null,
      "outputs": [
        {
          "output_type": "stream",
          "name": "stdout",
          "text": [
            "Python é impressionante\n"
          ]
        }
      ]
    },
    {
      "cell_type": "markdown",
      "source": [
        "Para números, o `+` funciona como um operador matemático:"
      ],
      "metadata": {
        "id": "a234927r7uA7"
      }
    },
    {
      "cell_type": "code",
      "source": [
        "x = 5\n",
        "y = 10\n",
        "print(x + y)"
      ],
      "metadata": {
        "id": "MhDQffkr71jZ"
      },
      "execution_count": null,
      "outputs": []
    },
    {
      "cell_type": "markdown",
      "source": [
        "E para string o `+` pode ser utilizado para concatenar valores"
      ],
      "metadata": {
        "id": "oGe4ONHgg6qE"
      }
    },
    {
      "cell_type": "code",
      "source": [
        "seq1 = 'ATCCGAGGT'\n",
        "seq2 = 'CCTGAAAATT'\n",
        "\n",
        "nova_seq = seq1 + seq2\n",
        "print(nova_seq)"
      ],
      "metadata": {
        "id": "rhYDjyaWhIjL"
      },
      "execution_count": null,
      "outputs": []
    },
    {
      "cell_type": "markdown",
      "source": [
        "Atenção!!!\n",
        "Se você tentar combinar uma string e um número, o Python lhe dará um erro:\n",
        "\n"
      ],
      "metadata": {
        "id": "KipX1wx676wG"
      }
    },
    {
      "cell_type": "code",
      "source": [
        "x = 5\n",
        "y = \"Juliana\"\n",
        "print(x + y)"
      ],
      "metadata": {
        "id": "63Rc-ReT8AQM"
      },
      "execution_count": null,
      "outputs": []
    }
  ]
}