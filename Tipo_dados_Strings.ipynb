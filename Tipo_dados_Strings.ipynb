{
  "nbformat": 4,
  "nbformat_minor": 0,
  "metadata": {
    "colab": {
      "name": "Tipo_dados_Strings.ipynb",
      "provenance": [],
      "authorship_tag": "ABX9TyPO6mMe8pMH2qc1Z9EwjjU9",
      "include_colab_link": true
    },
    "kernelspec": {
      "name": "python3",
      "display_name": "Python 3"
    },
    "language_info": {
      "name": "python"
    }
  },
  "cells": [
    {
      "cell_type": "markdown",
      "metadata": {
        "id": "view-in-github",
        "colab_type": "text"
      },
      "source": [
        "<a href=\"https://colab.research.google.com/github/Julibio7/PythonCientistas/blob/main/Tipo_dados_Strings.ipynb\" target=\"_parent\"><img src=\"https://colab.research.google.com/assets/colab-badge.svg\" alt=\"Open In Colab\"/></a>"
      ]
    },
    {
      "cell_type": "markdown",
      "source": [
        "# <center> **Python Básico**\n",
        "### <center> STRINGS (Str) 🔤 🔢\n",
        "____________\n",
        "\n",
        "\n",
        "* Uma string é uma sequência de caracteres.\n",
        "* É usado principalmente para gravar informações de texto\n",
        "* As strings Python são \"imutáveis\", o que significa que não podem ser alteradas depois de criadas.\n",
        "\n",
        "\n",
        "> Strings em python são cercadas por aspas simples ou aspas duplas.\n",
        "\n",
        " 'olá' é o mesmo que \"olá\"\n",
        "\n",
        "\n"
      ],
      "metadata": {
        "id": "7C-nOnwORkvZ"
      }
    },
    {
      "cell_type": "markdown",
      "source": [
        "> Você pode exibir  uma string com a função `print()`\n",
        "\n",
        "___"
      ],
      "metadata": {
        "id": "Etp-kkhATB8H"
      }
    },
    {
      "cell_type": "markdown",
      "source": [
        "## **Tipos de  Strings**"
      ],
      "metadata": {
        "id": "M1TwKb_FzPIK"
      }
    },
    {
      "cell_type": "code",
      "source": [
        "#visualizar as funções que podem ser utilizadas com as strings\n",
        "dir(str)"
      ],
      "metadata": {
        "id": "mSkXhFR7zSmQ"
      },
      "execution_count": null,
      "outputs": []
    },
    {
      "cell_type": "markdown",
      "source": [
        "As strings podem ser delimitadas por aspas simples ou duplas(mas elas devem combinar):"
      ],
      "metadata": {
        "id": "9RmH3-utU-uW"
      }
    },
    {
      "cell_type": "code",
      "source": [
        "string = 'aspas simples'\n",
        "string1 = \"aspas duplas\""
      ],
      "metadata": {
        "id": "pQ_7WuMXVLpW"
      },
      "execution_count": null,
      "outputs": []
    },
    {
      "cell_type": "code",
      "source": [
        "#Criando uma váriável com String\n",
        "bacteria = 'e.coli'\n",
        "fungos = 'Ascomycota, Basydiomicota'\n",
        "letras = 'A, B, C, D'\n",
        "numeros = '1,3,4,5'"
      ],
      "metadata": {
        "id": "mKp5NvAszgTB"
      },
      "execution_count": null,
      "outputs": []
    },
    {
      "cell_type": "code",
      "source": [
        "## Tipo de uma string.\n",
        "type(fungos)"
      ],
      "metadata": {
        "id": "Pf5ugHl3hWtl"
      },
      "execution_count": null,
      "outputs": []
    },
    {
      "cell_type": "code",
      "source": [
        "#uma sring também pode conter números\n",
        "numeros= '1, 3, 4'\n",
        "numero = '1'\n",
        "\n",
        "#imprimir e visualizar o valor atribuído as variáveis\n",
        "print(type (numero))"
      ],
      "metadata": {
        "id": "SGWfVGG8TuD3"
      },
      "execution_count": null,
      "outputs": []
    },
    {
      "cell_type": "code",
      "source": [
        "#acessando uma váriavel com a função print()\n",
        "\n",
        "print(bacteria)\n",
        "print(fungos)\n",
        "print(letras)\n",
        "\n",
        "print(bacteria,fungos)"
      ],
      "metadata": {
        "id": "U7F8GBKczwh7"
      },
      "execution_count": null,
      "outputs": []
    },
    {
      "cell_type": "code",
      "source": [
        "#String não suporta atribuição, sendo imutável.\n",
        "bacteria = 'e.coli'\n",
        "bacteria[0] = 'fungos' # resultado será um erro, não sendo possível incluir fungoos na variável bactéria"
      ],
      "metadata": {
        "id": "Wxc7hG9e0Gt3"
      },
      "execution_count": null,
      "outputs": []
    },
    {
      "cell_type": "code",
      "source": [
        "#É possível mudar o conteúdo da váriavel, não a string\n",
        "bacteria = \"pseudomonas\""
      ],
      "metadata": {
        "id": "5pDEgRSA4okC"
      },
      "execution_count": null,
      "outputs": []
    },
    {
      "cell_type": "code",
      "source": [
        "# Aspas dentro da string\n",
        "\n",
        "var = \"marca d' água\"\n",
        "var1 = 'variável com \"aspas dublas\"'\n",
        "var2 = \"váriável com \\\"aspas dublas\\\"delimita por escape\"\n",
        "\n",
        "#visualizar as variáveis\n",
        "print(var)\n",
        "print(var1)\n",
        "print(var2)"
      ],
      "metadata": {
        "id": "SrK2gacW5BVq"
      },
      "execution_count": null,
      "outputs": []
    },
    {
      "cell_type": "markdown",
      "source": [
        "##Strings de várias linhas\n",
        "Para um string longa de várias linhas:\n",
        "\n",
        "* Você pode atribuir uma string de várias linhas a uma variável usando três aspas `\"\"\"`ou `'''`\n",
        "\n",
        "* Para quebrar linhas `\\n`"
      ],
      "metadata": {
        "id": "C0WifgMa7Cah"
      }
    },
    {
      "cell_type": "code",
      "source": [
        "resumo = \"\"\"\n",
        "Para strings multilinhas com quebras de linha,\n",
        "podemos usar aspas triplas,\n",
        "que podem ser simples ou duplas.\n",
        "\"\"\"\n",
        "print(resumo)\n"
      ],
      "metadata": {
        "id": "u5SJXQet7MgD",
        "colab": {
          "base_uri": "https://localhost:8080/"
        },
        "outputId": "b1c4fe9b-fccb-448b-e46c-5f0cf2eec278"
      },
      "execution_count": null,
      "outputs": [
        {
          "output_type": "stream",
          "name": "stdout",
          "text": [
            "\n",
            "Para strings multilinhas com quebras de linha,\n",
            "podemos usar aspas triplas,\n",
            "que podem ser simples ou duplas.\n",
            "\n"
          ]
        }
      ]
    },
    {
      "cell_type": "markdown",
      "source": [
        "##**Como as strings são indexadas?**\n",
        "Os caracteres usados ​​em strings  são indexados em números, onde cada caractere ocupa 1 byte de memória e possui um endereço em termos de indexação. Por exemplo, se eu tiver uma string consistindo da palavra 'python', cada caráter de 'python' terá um índice e memória separados. Digamos que eu queira acessar **p** da string '**python**', então eu simplesmente escreveria:\n",
        "```python\n",
        "string = 'python' \n",
        "print (string [ 0 ])\n",
        "```\n",
        "Como a indexação sempre começa em 0, a primeira letra será 'p' neste caso, que é armazenada no índice 0. A saída do código acima será:\n",
        "\n",
        "```\n",
        "p\n",
        "\n",
        "```"
      ],
      "metadata": {
        "id": "yBmY8Q5wUyEK"
      }
    },
    {
      "cell_type": "markdown",
      "source": [
        "<img src=\"https://cs.stanford.edu/people/nick/py/img/python-str-index.png\" width=\"300\" height=\"150\">\n",
        "\n",
        "\n",
        "\n",
        "\n",
        "Python nos dá a flexibilidade de usar indexação negativa, ao contrário de outras linguagens.\n",
        "\n",
        "\n",
        "\n",
        "<img src= \"https://python-tricks.com/wp-content/uploads/2019/08/Positive-and-Negative-Indexing-450x192.jpg\" width=\"300\" height=\"150\">\n"
      ],
      "metadata": {
        "id": "bNiIpupdSrI5"
      }
    },
    {
      "cell_type": "markdown",
      "source": [
        "##Acessando uma String\n",
        "\n",
        "Os caracteres podem ser acessados por sua posição ou valor do índice"
      ],
      "metadata": {
        "id": "I8jPG52jcJqa"
      }
    },
    {
      "cell_type": "code",
      "source": [
        "bacteria = 'Pseudomonas aeruginosa'"
      ],
      "metadata": {
        "id": "zoSK6iC3PkC2"
      },
      "execution_count": null,
      "outputs": []
    },
    {
      "cell_type": "code",
      "source": [
        "bacteria[0] #posição 0\n",
        "bacteria[6] # posição 6\n",
        "bacteria[-3] #posição 3 de trás para frente\n",
        "bacteria[4:] #acessar um conjunto de elementos a partir do 4 \n",
        "bacteria[:4]#acessar da posição 0 até a 4\n",
        "bacteria[::] #acessar todas as posição\n",
        "bacteria[::3] #acessar todas as posições pulando de 3 em 3\n",
        "bacteria[::-1] #acessar todas as posições de trás para frente \n",
        "bacteria[1:8:2] #acessar a partir da posição 1 até a 8 pulando de 2 em 2"
      ],
      "metadata": {
        "id": "dNMai9z-PpLm"
      },
      "execution_count": null,
      "outputs": []
    },
    {
      "cell_type": "code",
      "source": [
        "# também podemos usar o print para acessar uma posição na string\n",
        "print(bacteria[3])"
      ],
      "metadata": {
        "id": "inaGaAXQAbav"
      },
      "execution_count": null,
      "outputs": []
    },
    {
      "cell_type": "markdown",
      "source": [
        "##Função len()\n",
        "A função `len()` retorna o comprimento de uma string, o número de caracteres.\n",
        "\n",
        "Existem string de zero caracteres, escrita apenas como '', chamada de \"string vazia\". O comprimento da string vazia é 0. \n",
        "\n"
      ],
      "metadata": {
        "id": "E-eopLBp80ZV"
      }
    },
    {
      "cell_type": "code",
      "source": [
        "bacteria = 'pseudomonas'\n",
        "len(bacteria)\n"
      ],
      "metadata": {
        "id": "yOh-HUqX9ZlD"
      },
      "execution_count": null,
      "outputs": []
    },
    {
      "cell_type": "code",
      "source": [
        "fungos = ''\n",
        "len(fungos)"
      ],
      "metadata": {
        "id": "6vqjAVqh999t"
      },
      "execution_count": null,
      "outputs": []
    },
    {
      "cell_type": "markdown",
      "source": [
        "##função `count()`\n",
        "O `count()`método retorna o número de vezes que um valor especificado aparece na string.\n",
        "\n",
        "*Sintaxe*\n",
        "\n",
        "`string.count(value, start, end)`"
      ],
      "metadata": {
        "id": "HnCtCowAUDmo"
      }
    },
    {
      "cell_type": "code",
      "source": [
        "\n",
        "\n",
        "#Retorna o número de vezes que o valor \"pseudomonas\" aparece na string:\n",
        "txt = 'Pseudomonas é um gênero de bactérias gram-negativas. A espécie mais patógena é a Pseudomonas aeruginosas'\n",
        "txt.count(\"e\")\n"
      ],
      "metadata": {
        "colab": {
          "base_uri": "https://localhost:8080/"
        },
        "id": "VJpKHLVZ9vuh",
        "outputId": "856ea8da-ad48-4b47-edb7-e53310c1e92e"
      },
      "execution_count": null,
      "outputs": [
        {
          "output_type": "execute_result",
          "data": {
            "text/plain": [
              "9"
            ]
          },
          "metadata": {},
          "execution_count": 3
        }
      ]
    },
    {
      "cell_type": "markdown",
      "source": [
        "##Apagando uma string\n",
        "Você também pode excluir uma string, mas lembre-se de que não é possível excluir um caractere de uma string, mas você pode excluir uma string inteira usando `del` a função:\n"
      ],
      "metadata": {
        "id": "Q-bwHAxxQsv-"
      }
    },
    {
      "cell_type": "code",
      "source": [
        "bacteria = 'Pseudomonas aeruginosa'\n",
        "del bacteria\n",
        "print(bacteria)"
      ],
      "metadata": {
        "id": "xQtQTOskQ8eX"
      },
      "execution_count": null,
      "outputs": []
    },
    {
      "cell_type": "markdown",
      "source": [
        "##Operações de string\n",
        "### A Operação Concatenar\n",
        "Quando você junta ou 'adiciona' a strings para formar uma nova string, esse processo é chamado de concatenação. O símbolo plus(+) é usado para concatenar ou unir duas strings, por exemplo:"
      ],
      "metadata": {
        "id": "6Tqhxy2mRvS0"
      }
    },
    {
      "cell_type": "code",
      "source": [
        "bacteria = 'Pseudomonas aeruginosa'\n",
        "fungo = 'Pseudogymnoascus destructans'\n",
        "\n",
        "microrganismos = bacteria + fungo\n",
        "\n",
        "print (microrganismos)\n",
        "\n"
      ],
      "metadata": {
        "id": "XtL8291gRWwI",
        "colab": {
          "base_uri": "https://localhost:8080/"
        },
        "outputId": "5d35ca55-19c3-4bbc-8492-3c938b429946"
      },
      "execution_count": null,
      "outputs": [
        {
          "output_type": "stream",
          "name": "stdout",
          "text": [
            "Pseudomonas aeruginosaPseudogymnoascus destructans\n"
          ]
        }
      ]
    },
    {
      "cell_type": "markdown",
      "source": [
        "Você também pode concatenar uma string usando o sinal *, ou seja, se você quiser imprimir uma mesma string várias vezes, então você precisa multiplicar a string por esse número específico. Por exemplo:"
      ],
      "metadata": {
        "id": "rn-R3K1oSS0B"
      }
    },
    {
      "cell_type": "code",
      "source": [
        "bacteria = 'Pseudomonas aeruginosa;'\n",
        "fungo = 'Pseudogymnoascus destructans;'\n",
        "\n",
        "microrganismos = bacteria + fungo\n",
        "\n",
        "multiplicado = microrganismos * 5\n",
        "\n",
        "print (multiplicado)"
      ],
      "metadata": {
        "colab": {
          "base_uri": "https://localhost:8080/"
        },
        "id": "YD-6-KZGSTtd",
        "outputId": "ae9dcdbe-4c4e-4156-b933-0895ad12acb8"
      },
      "execution_count": null,
      "outputs": [
        {
          "output_type": "stream",
          "name": "stdout",
          "text": [
            "Pseudomonas aeruginosa;Pseudogymnoascus destructans;Pseudomonas aeruginosa;Pseudogymnoascus destructans;Pseudomonas aeruginosa;Pseudogymnoascus destructans;Pseudomonas aeruginosa;Pseudogymnoascus destructans;Pseudomonas aeruginosa;Pseudogymnoascus destructans;\n"
          ]
        }
      ]
    },
    {
      "cell_type": "markdown",
      "source": [
        "#**Funções embutidas em Strings**\n",
        "Python consiste em toneladas de funções internas para strings. \n",
        "\n",
        "Essas funções/método permitem que as strings produzam resultados diferentes para uma consulta específica. \n",
        "\n"
      ],
      "metadata": {
        "id": "eX7gOWEvTBpw"
      }
    },
    {
      "cell_type": "code",
      "source": [
        "string = 'Pseudogymnoascus é um gênero de fungos da família Pseudeurotiaceae'\n",
        "\n",
        "# Para letras minusculas\n",
        "print(string.lower())\n",
        "\n",
        "#Letras maiusculas \n",
        "print(\"Upper case letters:\")\n",
        "print(string.upper())\n",
        "\n",
        "#Primeira letra de cada palavra maiuscula\n",
        "print(\"Title case letters:\")\n",
        "print(string.title())\n",
        "\n",
        "#Primeira letra da frase maiuscula\n",
        "print(\"Capital case letters:\")\n",
        "print(string.capitalize())"
      ],
      "metadata": {
        "id": "O8o0sZYRTToJ"
      },
      "execution_count": null,
      "outputs": []
    },
    {
      "cell_type": "markdown",
      "source": [
        "#**Inserir informaçãoes na String com a função `format`()**\n",
        "\n",
        "O format( )  método formata o(s) valor(es) especificado(s) e os insere dentro do espaço reservado da string.\n",
        "\n",
        "O espaço reservado é definido usando colchetes: `{}`. \n",
        "\n",
        "O `format()` método retorna a string formatada.\n",
        "\n",
        "Sintaxe\n",
        "```\n",
        "string.format(value1, value2...)\n",
        "```"
      ],
      "metadata": {
        "id": "ykqDcBx4b3Z9"
      }
    },
    {
      "cell_type": "code",
      "source": [
        "string = 'espécie {}, filo {}'.format('Pseudomonas aeruginosa', 'Proteobacteria')"
      ],
      "metadata": {
        "id": "baEDlDBNck2P"
      },
      "execution_count": null,
      "outputs": []
    },
    {
      "cell_type": "code",
      "source": [
        "print(string)"
      ],
      "metadata": {
        "id": "BaE0p3s-eYhq"
      },
      "execution_count": null,
      "outputs": []
    },
    {
      "cell_type": "markdown",
      "source": [
        "# **Entrada de dados com a Função `input()`**\n",
        "\n",
        "---\n",
        "A **entrada de dados** é quando precisamos que o usuário passe ao programa algum tipo de dado\n",
        "\n",
        "Para a **Saída de dados** com a Função `print`\n"
      ],
      "metadata": {
        "id": "Eix6Kt_0SChR"
      }
    },
    {
      "cell_type": "code",
      "source": [
        "#entrada dos dados\n",
        "input(\"Escreva seu nome: \")\n"
      ],
      "metadata": {
        "id": "kLAR97G2XVzY"
      },
      "execution_count": null,
      "outputs": []
    },
    {
      "cell_type": "code",
      "source": [
        "#Juntando entrada e saída com input e print\n",
        "nome = input(\"Escreva seu nome: \")\n",
        "\n",
        "print('Seu nome é:', nome)"
      ],
      "metadata": {
        "id": "qJQBmCUfX4re"
      },
      "execution_count": null,
      "outputs": []
    },
    {
      "cell_type": "markdown",
      "source": [
        "A função `print()` também funciona para gravar dados em arquivos.\n",
        "\n",
        "Para isso, utilizamos o parâmetro `file=` da função `print`.\n",
        "\n",
        "Também precisamos de um arquivo aberto, o que é feito utilizando-se a função open."
      ],
      "metadata": {
        "id": "fiOrQuTwazDS"
      }
    },
    {
      "cell_type": "code",
      "source": [
        "# podemos salvar \n",
        "\n",
        "with open('arquivo.txt', 'w') as arquivo:\n",
        "\n",
        "    print(\"Escreva isso dentro do arquivo,\", file=arquivo)"
      ],
      "metadata": {
        "id": "oATyFo92aIzX"
      },
      "execution_count": null,
      "outputs": []
    },
    {
      "cell_type": "code",
      "source": [
        "with open('arquivo.txt', 'w') as arquivo:\n",
        "    print(\"Escreva isso dentro do arquivo,\", file=arquivo)\n",
        "    print(\"Escreva outra linha dentro do arquivo.\", file=arquivo)\n"
      ],
      "metadata": {
        "id": "3Pw9bs4xbnJz"
      },
      "execution_count": null,
      "outputs": []
    },
    {
      "cell_type": "markdown",
      "source": [
        "##**Curiosidade**"
      ],
      "metadata": {
        "id": "vgZ9hbN3d_4N"
      }
    },
    {
      "cell_type": "code",
      "source": [
        "#o ponto de interrogação (?) antes ou depois de uma variável exibirá algumas informações gerais\n",
        "microrganismos?"
      ],
      "metadata": {
        "id": "24quzSf_QZxg"
      },
      "execution_count": null,
      "outputs": []
    },
    {
      "cell_type": "markdown",
      "source": [
        "##**Referências**\n",
        "\n",
        "* [w3schools](https://www.w3schools.com/python/python_strings.asp)\n",
        "\n",
        "* [Documentação Python](https://docs.python.org)\n",
        "\n",
        "* **Python para Análise de Dados**\n",
        "(MCKINNEY, Wes. Python para análise de dados: Tratamento de dados com Pandas, NumPy e IPython. Novatec Editora, 2019)"
      ],
      "metadata": {
        "id": "uxEYYKFQeTFI"
      }
    },
    {
      "cell_type": "markdown",
      "source": [
        "###**Dicas de Estudo**\n",
        "\n",
        "* [Aprenda programação e algoritmos em Python](https://algoritmosempython.com.br/cursos/programacao-python/strings/)\n",
        "\n",
        "* [Pense Python](https://panda.ime.usp.br/pensepy/static/pensepy/08-Strings/strings.html)\n",
        "\n",
        "* [Documentação Pythom](https://docs.python.org/pt-br/3/library/string.html?highlight=string#module-string)\n",
        "\n",
        "* [w3schools](https://www.w3schools.com/python/python_strings.asp)\n",
        "\n"
      ],
      "metadata": {
        "id": "hLevN9zUocvd"
      }
    }
  ]
}