{
  "nbformat": 4,
  "nbformat_minor": 0,
  "metadata": {
    "colab": {
      "name": "Estruturas_de_dados_listas.ipynb",
      "provenance": [],
      "collapsed_sections": [],
      "authorship_tag": "ABX9TyNXxUqKoY6rcQRI5blPXpQT",
      "include_colab_link": true
    },
    "kernelspec": {
      "name": "python3",
      "display_name": "Python 3"
    },
    "language_info": {
      "name": "python"
    }
  },
  "cells": [
    {
      "cell_type": "markdown",
      "metadata": {
        "id": "view-in-github",
        "colab_type": "text"
      },
      "source": [
        "<a href=\"https://colab.research.google.com/github/Julibio7/Python-cientistas/blob/main/Estruturas_de_dados_listas.ipynb\" target=\"_parent\"><img src=\"https://colab.research.google.com/assets/colab-badge.svg\" alt=\"Open In Colab\"/></a>"
      ]
    },
    {
      "cell_type": "markdown",
      "source": [
        "# <center> **Noções básicas de Python**\n",
        "\n",
        "### <center> ESTRUTURAS DE DADOS - LISTAS\n",
        "\n",
        "---"
      ],
      "metadata": {
        "id": "6wG5zx7vnLfs"
      }
    },
    {
      "cell_type": "markdown",
      "source": [
        "As estruturas de dados são as construções fundamentais em torno das quais você constrói seus programas. Cada estrutura de dados fornece uma maneira particular de organizar os dados para que possam ser acessados ​​com eficiência, dependendo do seu caso de uso. \n",
        "\n",
        "Python vem com um extenso conjunto de estruturas de dados, veja mais na [documentação](https://docs.python.org/3/library/index.html)"
      ],
      "metadata": {
        "id": "Urzlr4CznWZ2"
      }
    },
    {
      "cell_type": "markdown",
      "source": [
        "## Listas 🗒\n",
        "\n",
        "As listas são usadas para armazenar vários itens em uma única variável.\n",
        "\n",
        "Provavelmente, a estrutura de dados mais básica em Python é a `list`. Uma lista é apenas uma coleção ordenada.\n",
        "\n",
        "Em python, as listas fazem parte da linguagem padrão. Você vai encontrá-los em todos os lugares. Como quase tudo em Python, listas são objetos. Existem muitos métodos associados a eles. Alguns dos quais são apresentados aqui abaixo.\n",
        "\n",
        "Mais uma informação importante, as listas são **mutáveis**, com isso, é possível aumentar e diminuir uma lista.\n",
        "\n",
        "As listas estão entre colchetes `[]`\n",
        "\n",
        "\n",
        "Para criar listas no Python é necessário:\n",
        "\n",
        "* Utilizar o símbolo `[]` (colchetes) para as listas;\n",
        "* Armazenar a lista em uma VARIÁVEL;\n",
        "* Separa itens da lista pela vírgula;\n",
        "\n",
        "```\n",
        "lista  =  [ 1 ,  2 ,  \"a\" ]\n",
        "```"
      ],
      "metadata": {
        "id": "sFJtt9b5mM8-"
      }
    },
    {
      "cell_type": "code",
      "source": [
        "#Exemplo rápido\n",
        "fungos = ['Agaricus arvensis','Agaricus augustus', 'Leucoagaricus leucothites']\n",
        "print(fungos)"
      ],
      "metadata": {
        "id": "SggG1Mx2nVxl"
      },
      "execution_count": null,
      "outputs": []
    },
    {
      "cell_type": "markdown",
      "source": [
        "Os itens da lista podem ser de qualquer tipo de dados:"
      ],
      "metadata": {
        "id": "9Ny6lDJAsGHb"
      }
    },
    {
      "cell_type": "code",
      "source": [
        "list1 = ['Agaricus arvensis','Agaricus augustus', 'Leucoagaricus leucothites'] #strings\n",
        "list2 = [1, 5, 7, 9, 3] #int\n",
        "list3 = [True, False, False] #bool"
      ],
      "metadata": {
        "id": "FqL9xU7bsHJG"
      },
      "execution_count": null,
      "outputs": []
    },
    {
      "cell_type": "markdown",
      "source": [
        "Uma lista pode conter diferentes tipos de dados:"
      ],
      "metadata": {
        "id": "mlAp2aPpsc-q"
      }
    },
    {
      "cell_type": "code",
      "source": [
        "list1 = [\"abc\", 34, True, 40, \"microbiologia\"]"
      ],
      "metadata": {
        "id": "3KtH9xP0shox"
      },
      "execution_count": null,
      "outputs": []
    },
    {
      "cell_type": "markdown",
      "source": [
        "Para determinar quantos itens uma lista possui, use a função `len()`"
      ],
      "metadata": {
        "id": "2S1smeOAsuiQ"
      }
    },
    {
      "cell_type": "code",
      "source": [
        "fungos = ['Agaricus arvensis','Agaricus augustus', 'Leucoagaricus leucothites']\n",
        "len(fungos)"
      ],
      "metadata": {
        "id": "nlpQgj9Js0HA"
      },
      "execution_count": null,
      "outputs": []
    },
    {
      "cell_type": "markdown",
      "source": [
        "Da perspectiva do Python, as listas são definidas como objetos com o tipo de dados 'list':"
      ],
      "metadata": {
        "id": "spLE2KictFTh"
      }
    },
    {
      "cell_type": "code",
      "source": [
        "fungos = ['Agaricus arvensis','Agaricus augustus', 'Leucoagaricus leucothites']\n",
        "type(fungos)"
      ],
      "metadata": {
        "id": "NC9pk58htHbw"
      },
      "execution_count": null,
      "outputs": []
    },
    {
      "cell_type": "markdown",
      "source": [
        "Também é possível usar o construtor list() ao criar uma nova lista."
      ],
      "metadata": {
        "id": "WUzj2srft5Wh"
      }
    },
    {
      "cell_type": "code",
      "source": [
        "lista_fungos = list(('Auricularia mesenterica', 'Boletus aereus', 'Bulgaria inquinans')) # note the double round-brackets\n",
        "print(lista_fungos)"
      ],
      "metadata": {
        "colab": {
          "base_uri": "https://localhost:8080/"
        },
        "id": "VyOAMQGkt4Xf",
        "outputId": "18d720b9-051e-4451-ddd8-80b32fd66831"
      },
      "execution_count": null,
      "outputs": [
        {
          "output_type": "stream",
          "name": "stdout",
          "text": [
            "['Auricularia mesenterica', 'Boletus aereus', 'Bulgaria inquinans']\n"
          ]
        }
      ]
    },
    {
      "cell_type": "code",
      "source": [
        "print(type(lista_fungos))"
      ],
      "metadata": {
        "id": "O0OZ1I8VuYMH"
      },
      "execution_count": null,
      "outputs": []
    },
    {
      "cell_type": "markdown",
      "source": [
        "##**lista de itens**\n",
        "\n",
        "Os itens da lista são ordenados, alteráveis ​​e permitem valores duplicados.\n",
        "\n",
        "Os itens da lista são indexados, o primeiro item possui index [0], o segundo item possui index [1]etc."
      ],
      "metadata": {
        "id": "1eniDONNo30Z"
      }
    },
    {
      "cell_type": "code",
      "execution_count": null,
      "metadata": {
        "id": "2-gec01WnGzf"
      },
      "outputs": [],
      "source": [
        "fungos = ['Agaricus arvensis','Agaricus augustus', 'Leucoagaricus leucothites', 'Pluteus romellii', 'Tylopilus felleus']"
      ]
    },
    {
      "cell_type": "code",
      "source": [
        "fungos[2]"
      ],
      "metadata": {
        "id": "rO7hKrWAp8kz"
      },
      "execution_count": null,
      "outputs": []
    },
    {
      "cell_type": "code",
      "source": [
        "fungos[1:]"
      ],
      "metadata": {
        "colab": {
          "base_uri": "https://localhost:8080/"
        },
        "id": "2eK_MrrwqD0r",
        "outputId": "75428af4-aab0-46ac-a6ab-a3f56d6050ff"
      },
      "execution_count": null,
      "outputs": [
        {
          "output_type": "execute_result",
          "data": {
            "text/plain": [
              "['Agaricus augustus', 'Leucoagaricus leucothites']"
            ]
          },
          "metadata": {},
          "execution_count": 5
        }
      ]
    },
    {
      "cell_type": "markdown",
      "source": [
        "acessando os itens de uma lista pelo index"
      ],
      "metadata": {
        "id": "ywbcmKsJYNbe"
      }
    },
    {
      "cell_type": "code",
      "source": [
        "microrganismo = list('Agaricus')"
      ],
      "metadata": {
        "id": "rWNpavnPYp5y"
      },
      "execution_count": null,
      "outputs": []
    },
    {
      "cell_type": "code",
      "source": [
        "microrganismo"
      ],
      "metadata": {
        "id": "Ik5AmkcJY1wn"
      },
      "execution_count": null,
      "outputs": []
    },
    {
      "cell_type": "code",
      "source": [
        "#podemos acessar um index especifico\n",
        "microrganismo[1]"
      ],
      "metadata": {
        "id": "tFkPqSG-ZJGs"
      },
      "execution_count": null,
      "outputs": []
    },
    {
      "cell_type": "code",
      "source": [
        "#acessando o ultimo index da lista \n",
        "microrganismo[-1]"
      ],
      "metadata": {
        "id": "tqaIWyD_ZWBm"
      },
      "execution_count": null,
      "outputs": []
    },
    {
      "cell_type": "markdown",
      "source": [
        "Como os itens da lista são indexados, você pode acessá-los consultando o número do índice\n",
        "\n"
      ],
      "metadata": {
        "id": "a5prjPbquupS"
      }
    },
    {
      "cell_type": "code",
      "source": [
        "#Imprima o segundo item da lista:\n",
        "fungos = ['Agaricus arvensis','Agaricus augustus', 'Leucoagaricus leucothites', 'Pluteus romellii', 'Tylopilus felleus']\n",
        "print(fungos[2])"
      ],
      "metadata": {
        "id": "pM7wxyRSuwFh"
      },
      "execution_count": null,
      "outputs": []
    },
    {
      "cell_type": "markdown",
      "source": [
        "Indexação negativa significa começar do fim\n",
        "\n",
        "`-1` refere-se ao último item, `-2` refere-se ao penúltimo item etc.\n",
        "\n",
        "\n",
        "\n"
      ],
      "metadata": {
        "id": "4GKV8mzkvCjO"
      }
    },
    {
      "cell_type": "code",
      "source": [
        "#Imprima o último item da lista\n",
        "fungos = ['Agaricus arvensis','Agaricus augustus', 'Leucoagaricus leucothites', 'Pluteus romellii', 'Tylopilus felleus', 'Agaricus augustus']\n",
        "print(fungos[-1])"
      ],
      "metadata": {
        "id": "3gwjI9EYvIyi",
        "colab": {
          "base_uri": "https://localhost:8080/"
        },
        "outputId": "6a654287-2bc1-41fd-dc37-ed749aa4c9fd"
      },
      "execution_count": 24,
      "outputs": [
        {
          "output_type": "stream",
          "name": "stdout",
          "text": [
            "Agaricus augustus\n"
          ]
        }
      ]
    },
    {
      "cell_type": "markdown",
      "source": [
        "Já que as listas são indexadas, podemos acessar a cada um dos elementos, usando o índice.\n",
        "\n",
        "Vamos acessar as informações contidas na lista pelo index usando a função `print()`."
      ],
      "metadata": {
        "id": "UyYF4SOgUx45"
      }
    },
    {
      "cell_type": "code",
      "source": [
        "#lista contendo as informações taxonomicas dos fungos\n",
        "fungos = ['Agaricus arvensis','Agaricus augustus', 'Leucoagaricus leucothites', 'Pluteus romellii', 'Tylopilus felleus', 'Agaricus augustus']"
      ],
      "metadata": {
        "id": "2sVrrc1GUv3G"
      },
      "execution_count": 25,
      "outputs": []
    },
    {
      "cell_type": "code",
      "source": [
        "#lista com meios de cultivo utilizado no isolamento dos fungos\n",
        "meio_cultivo = ['PDA', 'MA', 'BDA']"
      ],
      "metadata": {
        "id": "dpIS8r7lVYdy"
      },
      "execution_count": 28,
      "outputs": []
    },
    {
      "cell_type": "code",
      "source": [
        "#lista com as temperaturas utilizadas para isolar os fungos\n",
        "temperatura = [28, 15, 5]"
      ],
      "metadata": {
        "id": "I6x63EYWV6KR"
      },
      "execution_count": 29,
      "outputs": []
    },
    {
      "cell_type": "code",
      "source": [
        "#Agora vamos imprimir as informações juntando os strings \"\", e acessando as informações contidas nas listas e armazenada nas variáveis\n",
        "print('O fungo', fungos[2], 'pertence a ordem Agaricales. Foi isolado em meio de cultivo',meio_cultivo[2], 'a', temperatura[0], '°C')"
      ],
      "metadata": {
        "id": "Cn7PHSE_U6OO"
      },
      "execution_count": null,
      "outputs": []
    },
    {
      "cell_type": "markdown",
      "source": [
        "Você pode especificar um intervalo de índices especificando onde começar e onde terminar o intervalo.\n",
        "\n",
        "Ao especificar um intervalo, o valor de retorno será uma nova lista com os itens especificados."
      ],
      "metadata": {
        "id": "u-1zNoPrqbEW"
      }
    },
    {
      "cell_type": "code",
      "source": [
        "#lista contendo as informações taxonomicas dos fungos\n",
        "fungos = ['Agaricus arvensis','Agaricus augustus', 'Leucoagaricus leucothites', 'Pluteus romellii', 'Tylopilus felleus', 'Agaricus augustus']"
      ],
      "metadata": {
        "id": "wBHFyfHjXDyD"
      },
      "execution_count": null,
      "outputs": []
    },
    {
      "cell_type": "code",
      "source": [
        "#Retorne o terceiro, quarto e quinto item:\n",
        "lista_1 = fungos[2:5]"
      ],
      "metadata": {
        "id": "cBV3ycleqc6w"
      },
      "execution_count": null,
      "outputs": []
    },
    {
      "cell_type": "code",
      "source": [
        "print(lista_1)"
      ],
      "metadata": {
        "id": "w2FgBDmjqnmy"
      },
      "execution_count": null,
      "outputs": []
    },
    {
      "cell_type": "code",
      "source": [
        "#Retorne os itens a partir do quarto item\n",
        "lista_2 = fungos[3:]"
      ],
      "metadata": {
        "id": "CdC7BxFdqogm"
      },
      "execution_count": null,
      "outputs": []
    },
    {
      "cell_type": "code",
      "source": [
        "print(lista_2)"
      ],
      "metadata": {
        "id": "1HPuqhZtq3LR"
      },
      "execution_count": null,
      "outputs": []
    },
    {
      "cell_type": "markdown",
      "source": [
        "O Python possui o operador `in` para verificar a associação à lista:"
      ],
      "metadata": {
        "id": "5uhWXa_XrakX"
      }
    },
    {
      "cell_type": "code",
      "source": [
        "fungos = ['Agaricus arvensis','Agaricus augustus', 'Leucoagaricus leucothites', 'Pluteus romellii', 'Tylopilus felleus']"
      ],
      "metadata": {
        "id": "C5OaBQFQrc61"
      },
      "execution_count": null,
      "outputs": []
    },
    {
      "cell_type": "code",
      "source": [
        "'Pluteus romellii' in fungos"
      ],
      "metadata": {
        "id": "kPRqMdMyrqlz"
      },
      "execution_count": null,
      "outputs": []
    },
    {
      "cell_type": "code",
      "source": [
        "'Agaricus xanthodermus' in fungos"
      ],
      "metadata": {
        "id": "9bc7zDMIr5tM"
      },
      "execution_count": null,
      "outputs": []
    },
    {
      "cell_type": "markdown",
      "source": [
        "##**Alterar valor do item**\n",
        "\n",
        "Para alterar o valor de um item específico, consulte o número do índice:\n",
        "\n",
        "\n"
      ],
      "metadata": {
        "id": "uXBRbgIH0IBi"
      }
    },
    {
      "cell_type": "code",
      "source": [
        "#Altere o segundo item:\n",
        "fungos = ['Agaricus arvensis','Agaricus augustus', 'Leucoagaricus leucothites', 'Pluteus romellii', 'Tylopilus felleus']\n",
        "fungos[1] = 'Lepista irina'\n",
        "print(fungos)"
      ],
      "metadata": {
        "id": "FCKH92aj0Q4q"
      },
      "execution_count": null,
      "outputs": []
    },
    {
      "cell_type": "markdown",
      "source": [
        "Alterar um intervalo de valores de itens\n",
        "\n",
        "Para alterar o valor dos itens dentro de um intervalo específico, defina uma lista com os novos valores e consulte o intervalo de números de índice onde deseja inserir os novos valores:"
      ],
      "metadata": {
        "id": "BFZAHW0o00bX"
      }
    },
    {
      "cell_type": "code",
      "source": [
        "# Altere os valores 'Agaricus arvensis e 'Agaricus augustus pelos valores 'Mollisia cinerea e 'Neobulgaria pura':\n",
        "\n",
        "fungos = ['Agaricus arvensis','Agaricus augustus', 'Leucoagaricus leucothites', 'Pluteus romellii', 'Tylopilus felleus']\n",
        "fungos[0:2] = ['Mollisia cinerea', 'Neobulgaria pura']\n",
        "print(fungos)"
      ],
      "metadata": {
        "colab": {
          "base_uri": "https://localhost:8080/"
        },
        "id": "-79QholY0vDC",
        "outputId": "f7a7b7d8-7aae-4aef-b663-04611fb0c9ba"
      },
      "execution_count": null,
      "outputs": [
        {
          "output_type": "stream",
          "name": "stdout",
          "text": [
            "['Mollisia cinerea', 'Neobulgaria pura', 'Leucoagaricus leucothites', 'Pluteus romellii', 'Tylopilus felleus']\n"
          ]
        }
      ]
    },
    {
      "cell_type": "markdown",
      "source": [
        "##**Adicionar itens de lista**\n",
        "\n",
        "Para adicionar um item ao final da lista, use o método `append()` :"
      ],
      "metadata": {
        "id": "RAPMy6db2okE"
      }
    },
    {
      "cell_type": "code",
      "source": [
        "#Usando o append() para adicionar o 'Agaricus bisporus' a lista\n",
        "familia_agaricaceae = ['Agaricus bitorquis', 'Agaricus moelleri']\n",
        "familia_agaricaceae.append('Agaricus bisporus')\n",
        "print(familia_agaricaceae)"
      ],
      "metadata": {
        "id": "nhJ8m8mv4jSI"
      },
      "execution_count": null,
      "outputs": []
    },
    {
      "cell_type": "markdown",
      "source": [
        "##**Inserir itens**\n",
        "\n",
        "Para inserir um item de lista em um índice especificado, use o método `insert().\n",
        "\n",
        "O método `insert()` insere um item no índice especificado:"
      ],
      "metadata": {
        "id": "Bp3X29Cc5XKU"
      }
    },
    {
      "cell_type": "code",
      "source": [
        "#Insira um item como a segunda posição:\n",
        "familia_agaricaceae = ['Agaricus bitorquis', 'Agaricus moelleri']\n",
        "familia_agaricaceae.insert(1, 'Agaricus bisporus')\n",
        "print(familia_agaricaceae)"
      ],
      "metadata": {
        "id": "jBLF5Lne52Jo"
      },
      "execution_count": null,
      "outputs": []
    },
    {
      "cell_type": "markdown",
      "source": [
        "##**Remover item especifico**\n",
        "O método `remove()` remove o item especificado."
      ],
      "metadata": {
        "id": "W9YGPwiUJBPX"
      }
    },
    {
      "cell_type": "code",
      "source": [
        "#Remover o fungo Tylopilus felleus da lista\n",
        "fungos = ['Agaricus arvensis','Agaricus augustus', 'Leucoagaricus leucothites', 'Pluteus romellii', 'Tylopilus felleus']\n",
        "fungos.remove('Tylopilus felleus')\n",
        "\n"
      ],
      "metadata": {
        "id": "lHo-vkbmI77m"
      },
      "execution_count": null,
      "outputs": []
    },
    {
      "cell_type": "markdown",
      "source": [
        "##**Remover índice especificado**\n",
        "O método `pop()` remove o índice especificado."
      ],
      "metadata": {
        "id": "pCGQ4Zl8JsYd"
      }
    },
    {
      "cell_type": "code",
      "source": [
        "#remova o segundo item da lista\n",
        "fungos = ['Agaricus arvensis','Agaricus augustus', 'Leucoagaricus leucothites', 'Pluteus romellii', 'Tylopilus felleus']\n",
        "fungos.pop(1)"
      ],
      "metadata": {
        "id": "owc2tMLWJi7a"
      },
      "execution_count": null,
      "outputs": []
    },
    {
      "cell_type": "markdown",
      "source": [
        "Se você não especificar o índice, o método `pop()` removerá o último item."
      ],
      "metadata": {
        "id": "luey7B6cKCuf"
      }
    },
    {
      "cell_type": "code",
      "source": [
        "#Remova o último item\n",
        "fungos = ['Agaricus arvensis','Agaricus augustus', 'Leucoagaricus leucothites', 'Pluteus romellii', 'Tylopilus felleus']\n",
        "fungos.pop()"
      ],
      "metadata": {
        "id": "LwEdxFP0KCD6"
      },
      "execution_count": null,
      "outputs": []
    },
    {
      "cell_type": "markdown",
      "source": [
        "Outra opção para remover um elemento de uma lista por índice é utilizar a instrução `del` incorporada. Ao contrário de `list.pop()` a instrução `del` não retorna um valor removido."
      ],
      "metadata": {
        "id": "fOY-MguuK3uF"
      }
    },
    {
      "cell_type": "code",
      "source": [
        "#Apague a lista inteira\n",
        "fungos = ['Agaricus arvensis','Agaricus augustus', 'Leucoagaricus leucothites', 'Pluteus romellii', 'Tylopilus felleus']\n",
        "del fungos "
      ],
      "metadata": {
        "id": "RqjROT6FK-NM"
      },
      "execution_count": null,
      "outputs": []
    },
    {
      "cell_type": "code",
      "source": [
        "#Apague itens de acordo com index\n",
        "fungos = ['Agaricus arvensis','Agaricus augustus', 'Leucoagaricus leucothites', 'Pluteus romellii', 'Tylopilus felleus']\n",
        "del fungos[0:3]\n",
        "fungos"
      ],
      "metadata": {
        "id": "ACqyM2gmLR7v"
      },
      "execution_count": null,
      "outputs": []
    },
    {
      "cell_type": "markdown",
      "source": [
        "##**Limpar a lista**\n",
        "\n",
        "O método `clear()` esvazia a lista.\n",
        "\n",
        "A lista ainda permanece, mas não tem conteúdo."
      ],
      "metadata": {
        "id": "0oZwKoooLjLj"
      }
    },
    {
      "cell_type": "code",
      "source": [
        "fungos = ['Agaricus arvensis','Agaricus augustus', 'Leucoagaricus leucothites', 'Pluteus romellii', 'Tylopilus felleus']\n",
        "fungos.clear()\n",
        "print(fungos)"
      ],
      "metadata": {
        "id": "nipi4DfgLqxs"
      },
      "execution_count": null,
      "outputs": []
    },
    {
      "cell_type": "markdown",
      "source": [
        "##**Copiar uma lista**\n",
        "\n",
        "Você não pode copiar uma lista simplesmente digitando `list2 = list1`, porque: `list2` será apenas uma referência a list1, e as alterações feitas `list1` automaticamente também serão feitas em list2.\n",
        "\n",
        "Existem maneiras de fazer uma cópia, uma delas é usar o método List interno `copy()`."
      ],
      "metadata": {
        "id": "kXsYCfUxMHIF"
      }
    },
    {
      "cell_type": "code",
      "source": [
        "fungos_lista1 = ['Agaricus arvensis','Agaricus augustus', 'Leucoagaricus leucothites', 'Pluteus romellii', 'Tylopilus felleus']"
      ],
      "metadata": {
        "id": "hQck033PMZjo"
      },
      "execution_count": null,
      "outputs": []
    },
    {
      "cell_type": "code",
      "source": [
        "#Faça uma cópia da lista1 com o copy()\n",
        "fungos_lista2 = fungos_lista1.copy()\n",
        "print(fungos_lista2)"
      ],
      "metadata": {
        "id": "0f8SX0YuMg5K"
      },
      "execution_count": null,
      "outputs": []
    },
    {
      "cell_type": "markdown",
      "source": [
        "##**Junte listas**\n",
        "\n",
        "Existem várias maneiras de unir ou concatenar duas ou mais listas em Python.\n",
        "\n",
        "Uma das maneiras mais fáceis é usando o operador `+` ."
      ],
      "metadata": {
        "id": "js6oqhE0NEXQ"
      }
    },
    {
      "cell_type": "code",
      "source": [
        "#Junte as duas listas\n",
        "\n",
        "list1 = [\"a\", \"b\", \"c\"]\n",
        "list2 = [1, 2, 3]\n",
        "\n",
        "list3 = list1 + list2\n",
        "print(list3)"
      ],
      "metadata": {
        "colab": {
          "base_uri": "https://localhost:8080/"
        },
        "id": "tYaQsVULNSg9",
        "outputId": "1cfddb01-c3f6-4089-a95a-a0d5882d2efd"
      },
      "execution_count": null,
      "outputs": [
        {
          "output_type": "stream",
          "name": "stdout",
          "text": [
            "['a', 'b', 'c', 1, 2, 3]\n"
          ]
        }
      ]
    },
    {
      "cell_type": "markdown",
      "source": [
        "##**Ordenando lista**\n",
        "\n",
        "No Python, quando precisamos ordenar listas, podemos utilizar a função `sorted`"
      ],
      "metadata": {
        "id": "h78Lq2IlT95e"
      }
    },
    {
      "cell_type": "code",
      "source": [
        "#ordenar uma lista de numeros\n",
        "\n",
        "numeros = [4,2,6,1,3,5,9] \n",
        "numeros_ordenados = sorted(numeros)\n",
        "\n",
        "print(numeros) \n",
        "print(numeros_ordenados)"
      ],
      "metadata": {
        "id": "8--qo02NULC7"
      },
      "execution_count": null,
      "outputs": []
    },
    {
      "cell_type": "code",
      "source": [
        "#ordenar uma lista de caracteres\n",
        "\n",
        "palavras = [\"fungos\",\"bactérias\", \"vírus\", \"DNA\", \"RNA\", \"proteínas\"] \n",
        "palavras_ordenadas = sorted(palavras)\n",
        "\n",
        "print(palavras) \n",
        "print(palavras_ordenadas)"
      ],
      "metadata": {
        "id": "gEth6AYcUR5M"
      },
      "execution_count": null,
      "outputs": []
    },
    {
      "cell_type": "markdown",
      "source": [
        "##**Descobrindo os valores mínimos, máximos e soma (operadores min(), max() e sum())**\n",
        "\n"
      ],
      "metadata": {
        "id": "3qxqC_U4YzRt"
      }
    },
    {
      "cell_type": "code",
      "source": [
        "#criando uma lista \n",
        "numeros = [1, 3, 5, 7, 9]"
      ],
      "metadata": {
        "id": "d9qChO6SZmC_"
      },
      "execution_count": null,
      "outputs": []
    },
    {
      "cell_type": "code",
      "source": [
        "#retorna o valor minimo contida na variável numeros\n",
        "print(min(numeros))"
      ],
      "metadata": {
        "id": "b_G7-b8zY87F"
      },
      "execution_count": null,
      "outputs": []
    },
    {
      "cell_type": "code",
      "source": [
        "#retorna o valor maximo contida na variável numeros\n",
        "print(max(numeros))\n",
        "\n"
      ],
      "metadata": {
        "id": "tQquqadTY9-B"
      },
      "execution_count": null,
      "outputs": []
    },
    {
      "cell_type": "code",
      "source": [
        "#retorne a soma dos numeros\n",
        "print(sum(numeros))"
      ],
      "metadata": {
        "id": "YB-EXacxZEWr"
      },
      "execution_count": null,
      "outputs": []
    },
    {
      "cell_type": "code",
      "source": [
        ""
      ],
      "metadata": {
        "id": "5WtDH6HrPXtS"
      },
      "execution_count": null,
      "outputs": []
    },
    {
      "cell_type": "markdown",
      "source": [
        "##**Funções que podem ser utilizadas em listas**"
      ],
      "metadata": {
        "id": "VsewxOnqXge_"
      }
    },
    {
      "cell_type": "code",
      "source": [
        "dir(list)"
      ],
      "metadata": {
        "id": "iyIhf3bAXptw"
      },
      "execution_count": null,
      "outputs": []
    },
    {
      "cell_type": "markdown",
      "source": [
        "##**Mãos à Obra!**\n",
        "\n",
        "Como criar uma lista do zero no Python?\n",
        "\n",
        "Podemos também criar uma lista do zero e trazer itens de outras listas para dentro dela com a utilização do pop que vai pegar essa informação e armazenar em outra variável.\n",
        "\n",
        "Outra opção para criar uma lista é utilizar a função input para que o próprio usuário possa inserir as informações de forma manual através de uma caixa!"
      ],
      "metadata": {
        "id": "OK2GrFrqWbH4"
      }
    },
    {
      "cell_type": "code",
      "source": [
        "#criando uma lista para organizar a coleção de cultura\n",
        "\n",
        "colecao = []"
      ],
      "metadata": {
        "id": "2OveYEjGWyug"
      },
      "execution_count": null,
      "outputs": []
    },
    {
      "cell_type": "code",
      "source": [
        "# Usando o Input() vamos coletar do usuário qual a tarefa a ser adicionada.\n",
        "\n",
        "microrganismos = input('Insira a identificação taxonomica dos microrganismos: ')\n"
      ],
      "metadata": {
        "colab": {
          "base_uri": "https://localhost:8080/"
        },
        "id": "a6ogdYrXXBth",
        "outputId": "e851c712-1a2f-457a-a0cb-9a39dff8c6f0"
      },
      "execution_count": null,
      "outputs": [
        {
          "name": "stdout",
          "output_type": "stream",
          "text": [
            "Insira a identificação taxonomica dos microrganismos: as\n"
          ]
        }
      ]
    },
    {
      "cell_type": "code",
      "source": [
        "#Adicionar a informação do microrganismo na coleção\n",
        "colecao.append(microrganismos)\n"
      ],
      "metadata": {
        "id": "xMxpAcnwXhp2"
      },
      "execution_count": null,
      "outputs": []
    },
    {
      "cell_type": "code",
      "source": [
        "print(colecao)"
      ],
      "metadata": {
        "id": "jqtrAoJOG9qQ"
      },
      "execution_count": null,
      "outputs": []
    },
    {
      "cell_type": "code",
      "source": [
        "# Vamos adicionar mais itens na lista coleção\n",
        "microrganismos = input('Insira a identificação taxonomica dos microrganismos: ')\n",
        "colecao.append(microrganismos)"
      ],
      "metadata": {
        "colab": {
          "base_uri": "https://localhost:8080/"
        },
        "id": "K7OzhhorGzBG",
        "outputId": "e5a9f44c-be14-46c8-e3ac-9fcbeac25f28"
      },
      "execution_count": null,
      "outputs": [
        {
          "name": "stdout",
          "output_type": "stream",
          "text": [
            "Insira a identificação taxonomica dos microrganismos: mmmmm\n"
          ]
        }
      ]
    },
    {
      "cell_type": "code",
      "source": [
        "print(colecao)"
      ],
      "metadata": {
        "id": "9qWfzh3sYbql"
      },
      "execution_count": null,
      "outputs": []
    },
    {
      "cell_type": "markdown",
      "source": [
        "___\n",
        "\n",
        "##Recomendações\n",
        "\n",
        "[w3schools](https://www.w3schools.com/python/python_lists.asp)\n",
        "\n",
        "[Data Science do zero](https://edisciplinas.usp.br/pluginfile.php/5742167/mod_resource/content/1/Data%20Science%20do%20zero%20-%20Primeiras%20regras.pdf)\n",
        "\n",
        "[Documentação Python](https://docs.python.org/3/tutorial/datastructures.html)"
      ],
      "metadata": {
        "id": "KA1PHdVBTR8I"
      }
    },
    {
      "cell_type": "code",
      "source": [
        " import antigravity"
      ],
      "metadata": {
        "id": "VpPsHheUJBW2"
      },
      "execution_count": null,
      "outputs": []
    }
  ]
}