{
  "nbformat": 4,
  "nbformat_minor": 0,
  "metadata": {
    "colab": {
      "name": "Dicionário.ipynb",
      "provenance": [],
      "authorship_tag": "ABX9TyMIRIvRzT/XGwsh2L+8EO32",
      "include_colab_link": true
    },
    "kernelspec": {
      "name": "python3",
      "display_name": "Python 3"
    },
    "language_info": {
      "name": "python"
    }
  },
  "cells": [
    {
      "cell_type": "markdown",
      "metadata": {
        "id": "view-in-github",
        "colab_type": "text"
      },
      "source": [
        "<a href=\"https://colab.research.google.com/github/Julibio7/Python-cientistas/blob/main/Dicion%C3%A1rio.ipynb\" target=\"_parent\"><img src=\"https://colab.research.google.com/assets/colab-badge.svg\" alt=\"Open In Colab\"/></a>"
      ]
    },
    {
      "cell_type": "markdown",
      "source": [
        "# <center> Dicionário\n",
        "\n",
        "Os dicionários são usados ​​para armazenar valores de dados em pares chave:valor.\n",
        "\n",
        "Um dicionário é uma coleção ordenada*, mutável e que não permite duplicatas.\n",
        "___\n",
        "Os dicionários são escritos com colchetes e possuem chaves e valores.\n",
        "\n",
        "A chave é um dado único e exclusivo do valor. E todo valor (objeto) deverá ter uma chave. Através dessa chave, podemos identificar quem é o objeto e, consequentemente, podemos visualizar os dados. \n",
        "\n",
        "___"
      ],
      "metadata": {
        "id": "Nak7q4hT9ASv"
      }
    },
    {
      "cell_type": "markdown",
      "source": [
        "> A partir da versão 3.7 do Python, os dicionários são ordenados . No Python 3.6 e anteriores, os dicionários não são ordenados .\n",
        "\n"
      ],
      "metadata": {
        "id": "spTcp6T5CTyU"
      }
    },
    {
      "cell_type": "markdown",
      "source": [
        "## Dicionários é uma lista com um \"rótulo\"\n",
        "\n",
        "Com os dicionários é possível armazenar informações que precisam de algum tipo de identificação."
      ],
      "metadata": {
        "id": "TTLnpDeeoGR2"
      }
    },
    {
      "cell_type": "code",
      "execution_count": null,
      "metadata": {
        "id": "9tGfWQOz6TcG"
      },
      "outputs": [],
      "source": [
        "#Crie e imprima um dicionário:\n",
        "\n",
        "dicionario = { 'Agaricus abruptibulbus':'KT951356',\n",
        "        'Agaricus bernardiformis':'KT951321',\n",
        "        'A. biberi':'KM657919'}\n",
        "\n",
        "print(dicionario)\n"
      ]
    },
    {
      "cell_type": "markdown",
      "source": [
        "Para descobrir qual código do fungo Agaricus bernardiformis:"
      ],
      "metadata": {
        "id": "4pPzNHmYoO5H"
      }
    },
    {
      "cell_type": "code",
      "source": [
        "A_bernardiformis = dicionario['Agaricus bernardiformis']"
      ],
      "metadata": {
        "id": "99GQjqNwofLn"
      },
      "execution_count": null,
      "outputs": []
    },
    {
      "cell_type": "markdown",
      "source": [
        "##**Itens do dicionário** 📖\n",
        "\n",
        "Os itens do dicionário são ordenados, alteráveis ​​e não permitem duplicatas.\n",
        "\n",
        "Os itens do dicionário são apresentados em pares chave:valor e podem ser referenciados usando o nome da chave."
      ],
      "metadata": {
        "id": "SvJcrtByD4ZJ"
      }
    },
    {
      "cell_type": "code",
      "source": [
        "#imprima o valor de A.biberi\n",
        "\n",
        "Dict = { 'Agaricus abruptibulbus':'KT951356',\n",
        "        'A. bernardiformis':'KT951321',\n",
        "        'A. biberi':'KM657919'}\n",
        "\n",
        "print(Dict['A. biberi'])\n"
      ],
      "metadata": {
        "id": "3tFnVOaEEK4b"
      },
      "execution_count": null,
      "outputs": []
    },
    {
      "cell_type": "markdown",
      "source": [
        "##**Ordenado ou Não Ordenado?**  😖\n",
        "\n",
        "_A partir da versão 3.7 do Python, os dicionários são ordenados. No Python 3.6 e anteriores, os dicionários não são ordenados._\n",
        "\n",
        "Quando dizemos que os dicionários estão ordenados, significa que os itens têm uma ordem definida, e essa ordem não será alterada.\n",
        "\n",
        "Não ordenado significa que os itens não têm uma ordem definida, você não pode fazer referência a um item usando um índice.\n",
        "\n",
        "##**Mutável** 🐛 \n",
        "\n",
        "Os dicionários são mutáveis, o que significa que podemos alterar, adicionar ou remover itens após a criação do dicionário.\n",
        "\n",
        "##**Duplicatas não permitidas** 🙅\n",
        "\n",
        "Os dicionários não podem ter dois itens com a mesma chave:"
      ],
      "metadata": {
        "id": "e3715m6ZEim0"
      }
    },
    {
      "cell_type": "code",
      "source": [
        "# Alterar o valor da chave data\n",
        "\n",
        "dic = {'Agaricus abruptibulbus':' KT951356',\n",
        "        'pais':'China',\n",
        "        'data': 2008,\n",
        "         'meio de cultivo':'PDA',\n",
        "          'publicação':True\n",
        "}\n",
        "\n",
        "dic['data'] = 2022\n",
        "dic"
      ],
      "metadata": {
        "id": "fZdplT1VPGym"
      },
      "execution_count": null,
      "outputs": []
    },
    {
      "cell_type": "code",
      "source": [
        "#Valores duplicados substituirão os valores existentes:\n",
        "dic = { 'Agaricus abruptibulbus':'KT951356',\n",
        "        'A. bernardiformis':'KT951321',\n",
        "        'A. biberi':'KM657919',\n",
        "        'A. biberi': 'Hungary'\n",
        "        }\n",
        "print(dic)"
      ],
      "metadata": {
        "colab": {
          "base_uri": "https://localhost:8080/"
        },
        "id": "R4r2hB48FEGi",
        "outputId": "937b303b-71d6-43f4-b540-eeaeccb58d5b"
      },
      "execution_count": null,
      "outputs": [
        {
          "output_type": "stream",
          "name": "stdout",
          "text": [
            "{'Agaricus abruptibulbus': 'KT951356', 'A. bernardiformis': 'KT951321', 'A. biberi': 'Hungary'}\n"
          ]
        }
      ]
    },
    {
      "cell_type": "markdown",
      "source": [
        "##**Tamanho do dicionário** 💻\n",
        "Para determinar quantos itens um dicionário possui, use a len()função:"
      ],
      "metadata": {
        "id": "rS1IyC46FuqO"
      }
    },
    {
      "cell_type": "code",
      "source": [
        "dic = { 'Agaricus abruptibulbus':'KT951356',\n",
        "        'A. bernardiformis':'KT951321',\n",
        "        'A. biberi':'KM657919',\n",
        "        'A. biberi': 'Hungary'\n",
        "        }\n",
        "\n",
        "print(len(dic))"
      ],
      "metadata": {
        "colab": {
          "base_uri": "https://localhost:8080/"
        },
        "id": "hGxlx-mGFuDn",
        "outputId": "bd411e3c-cfeb-4c89-bec6-6b3cc06ed3d1"
      },
      "execution_count": null,
      "outputs": [
        {
          "output_type": "stream",
          "name": "stdout",
          "text": [
            "3\n"
          ]
        }
      ]
    },
    {
      "cell_type": "markdown",
      "source": [
        "##**Itens do Dicionário - Tipos de Dados** 📘 📔\n",
        "\n",
        "Os valores nos itens do dicionário podem ser de qualquer tipo de dados:\n",
        "\n"
      ],
      "metadata": {
        "id": "TfbcRF6OGfso"
      }
    },
    {
      "cell_type": "code",
      "source": [
        "#Tipos de dados String, int, boolean e list:\n",
        "dic = { 'Agaricus biberi ':'KR006614',\n",
        "        'pais':'Hungria',\n",
        "        'data': 2008,\n",
        "        'publicação':True\n",
        "        }\n",
        "print(dic)"
      ],
      "metadata": {
        "id": "yxN54DCJGnzk",
        "colab": {
          "base_uri": "https://localhost:8080/"
        },
        "outputId": "80433a55-1a77-4897-aaab-200998796c69"
      },
      "execution_count": null,
      "outputs": [
        {
          "output_type": "stream",
          "name": "stdout",
          "text": [
            "{'Agaricus biberi ': 'KR006614', 'pais': 'Hungria', 'data': 2008, 'publicação': True}\n"
          ]
        }
      ]
    },
    {
      "cell_type": "markdown",
      "source": [
        "##**Type( )**\n",
        "Da perspectiva do Python, os dicionários são definidos como objetos com o tipo de dados `'dict'`:\n",
        "\n"
      ],
      "metadata": {
        "id": "YC_hjtwzINbN"
      }
    },
    {
      "cell_type": "code",
      "source": [
        "#Imprima o tipo de dados de um dicionário\n",
        "type(dic)"
      ],
      "metadata": {
        "id": "7RLtHOlMIWo5"
      },
      "execution_count": null,
      "outputs": []
    },
    {
      "cell_type": "markdown",
      "source": [
        "##**Acessando itens**  ✏  🔢 \n",
        "\n",
        "Você pode acessar os itens de um dicionário consultando o nome da chave, entre colchetes:"
      ],
      "metadata": {
        "id": "X20rJB-QIqRB"
      }
    },
    {
      "cell_type": "code",
      "source": [
        "dic = { 'Agaricus biberi ':'KR006614',\n",
        "        'pais':'Hungria',\n",
        "        'data': 2008,\n",
        "        'publicação':True\n",
        "        }\n",
        "print(dic['pais'])"
      ],
      "metadata": {
        "id": "-GFmS4GgIpQR",
        "colab": {
          "base_uri": "https://localhost:8080/"
        },
        "outputId": "904e3463-c9c0-4492-ee8a-7bf7a95cdcfc"
      },
      "execution_count": null,
      "outputs": [
        {
          "output_type": "stream",
          "name": "stdout",
          "text": [
            "Hungria\n"
          ]
        }
      ]
    },
    {
      "cell_type": "markdown",
      "source": [
        "Existe também um método chamado `get()`\n",
        "que lhe dará o mesmo resultado\n",
        "\n",
        "\n"
      ],
      "metadata": {
        "id": "HIg-ROuWI5ZM"
      }
    },
    {
      "cell_type": "code",
      "source": [
        "# Para descobrir o valor da chave data\n",
        "x = dic.get('data')"
      ],
      "metadata": {
        "id": "Jdoj2No2I-Te"
      },
      "execution_count": null,
      "outputs": []
    },
    {
      "cell_type": "code",
      "source": [
        "x"
      ],
      "metadata": {
        "id": "L4szK9KXJHY4"
      },
      "execution_count": null,
      "outputs": []
    },
    {
      "cell_type": "markdown",
      "source": [
        "##**Obter chaves** 🔐\n",
        "\n",
        "**Para descobrir todas as chaves que existente**\n",
        "\n",
        "O método `keys()` retornará uma lista de todas as chaves do dicionário."
      ],
      "metadata": {
        "id": "hPmWRcqWJMsZ"
      }
    },
    {
      "cell_type": "code",
      "source": [
        "x = dic.keys()\n",
        "x"
      ],
      "metadata": {
        "colab": {
          "base_uri": "https://localhost:8080/"
        },
        "id": "m1Vj9iysJXRr",
        "outputId": "e95dfb38-da2f-4185-9b2f-00933c44fa9f"
      },
      "execution_count": null,
      "outputs": [
        {
          "output_type": "execute_result",
          "data": {
            "text/plain": [
              "dict_keys(['Agaricus biberi ', 'pais', 'data', 'publicação'])"
            ]
          },
          "metadata": {},
          "execution_count": 19
        }
      ]
    },
    {
      "cell_type": "markdown",
      "source": [
        "A lista de chaves é uma visualização do dicionário, o que significa que quaisquer alterações feitas no dicionário serão refletidas na lista de chaves.\n",
        "\n"
      ],
      "metadata": {
        "id": "i52a5AIzJzdn"
      }
    },
    {
      "cell_type": "code",
      "source": [
        "#Adicione um novo item ao dicionário original e veja se a lista de chaves também é atualizada:\n",
        "dic = {'Agaricus abruptibulbus':' KT951356',\n",
        "        'pais':'China',\n",
        "        'data': 2008,\n",
        "        'publicação':True\n",
        "}\n",
        "\n",
        "x = dic.keys()\n",
        "\n",
        "print(x)\n",
        "\n",
        "dic['taxon']= 83509\n",
        "dic['pb'] = 662\n",
        "\n",
        "print(x)"
      ],
      "metadata": {
        "colab": {
          "base_uri": "https://localhost:8080/"
        },
        "id": "i4bkDxQbJ0Ql",
        "outputId": "63aa9ff2-7906-4419-f479-a91a00bf5f50"
      },
      "execution_count": null,
      "outputs": [
        {
          "output_type": "stream",
          "name": "stdout",
          "text": [
            "dict_keys(['Agaricus abruptibulbus', 'pais', 'data', 'publicação'])\n",
            "dict_keys(['Agaricus abruptibulbus', 'pais', 'data', 'publicação', 'taxon', 'pb'])\n"
          ]
        }
      ]
    },
    {
      "cell_type": "markdown",
      "source": [
        "##**Obter valores**\n",
        "\n",
        "O método  `values()`retornará uma lista de todos os valores do dicionário."
      ],
      "metadata": {
        "id": "_noFksrzLuie"
      }
    },
    {
      "cell_type": "code",
      "source": [
        "x = dic.values()\n",
        "print(x)"
      ],
      "metadata": {
        "colab": {
          "base_uri": "https://localhost:8080/"
        },
        "id": "sj8NC0nxLuAv",
        "outputId": "ddd6756a-b02e-48b4-8ba5-56f6ab3ee689"
      },
      "execution_count": null,
      "outputs": [
        {
          "output_type": "stream",
          "name": "stdout",
          "text": [
            "dict_values([' KT951356', 'China', 2008, True, 83509, 662])\n"
          ]
        }
      ]
    },
    {
      "cell_type": "markdown",
      "source": [
        "##**Obter itens**\n",
        "\n",
        "O método `items()`retornará cada item em um dicionário, como tuplas em uma lista."
      ],
      "metadata": {
        "id": "wH879DuIMRwo"
      }
    },
    {
      "cell_type": "code",
      "source": [
        "#Obter uma lista dos pares chave:valor\n",
        "\n",
        "x = dic.items()\n",
        "x"
      ],
      "metadata": {
        "colab": {
          "base_uri": "https://localhost:8080/"
        },
        "id": "LredAXvPMRbm",
        "outputId": "6ee6de0d-0e4f-4a77-b7b7-3964b4f23cd4"
      },
      "execution_count": null,
      "outputs": [
        {
          "output_type": "execute_result",
          "data": {
            "text/plain": [
              "dict_items([('Agaricus abruptibulbus', ' KT951356'), ('pais', 'China'), ('data', 2008), ('publicação', True), ('taxon', 83509), ('pb', 662)])"
            ]
          },
          "metadata": {},
          "execution_count": 55
        }
      ]
    },
    {
      "cell_type": "markdown",
      "source": [
        "##**Verifique se a chave existe**\n",
        "\n",
        "Para determinar se uma chave especificada está presente em um dicionário, use a palavra-chave: `in`\n",
        "\n"
      ],
      "metadata": {
        "id": "1bfqUTKuMsE2"
      }
    },
    {
      "cell_type": "code",
      "source": [
        "#Verifique se o 'pais' está presente no dicionário:\n",
        "\n",
        "dic = {'Agaricus abruptibulbus':' KT951356',\n",
        "        'pais':'China',\n",
        "        'data': 2008,\n",
        "        'publicação':True\n",
        "}\n",
        "if 'pais' in dic:\n",
        "  print(\"Sim, o 'pais' é uma chave do dicionário \")"
      ],
      "metadata": {
        "colab": {
          "base_uri": "https://localhost:8080/"
        },
        "id": "MsoJeoLUM6c-",
        "outputId": "35dc2c61-9e5f-48d4-c3bf-776429a9fc4c"
      },
      "execution_count": null,
      "outputs": [
        {
          "output_type": "stream",
          "name": "stdout",
          "text": [
            "Sim, o 'pais' é uma chave do dicionário \n"
          ]
        }
      ]
    },
    {
      "cell_type": "markdown",
      "source": [
        "##**Atualizar dicionário** 🔝\n",
        "O método ´update()´ atualizará o dicionário com os itens do argumento fornecido.\n",
        "\n",
        "O argumento deve ser um dicionário ou um objeto iterável com pares chave:valor."
      ],
      "metadata": {
        "id": "CxOWknKENpGn"
      }
    },
    {
      "cell_type": "code",
      "source": [
        "#Atualize a \"data\" usando o update()\n",
        "\n",
        "dic = {'Agaricus abruptibulbus':' KT951356',\n",
        "        'pais':'China',\n",
        "        'data': 2008,\n",
        "        'publicação':True\n",
        "}\n",
        "\n",
        "dic.update({'data': 2022})\n",
        "\n",
        "print(dic)\n"
      ],
      "metadata": {
        "id": "9i0pZ_RzN1Yf"
      },
      "execution_count": null,
      "outputs": []
    },
    {
      "cell_type": "markdown",
      "source": [
        "##**Alterar valores** 👥\n",
        "\n",
        "Você pode alterar o valor de um item específico consultando seu nome de chave:\n",
        "\n"
      ],
      "metadata": {
        "id": "MU18xcLIOYEK"
      }
    },
    {
      "cell_type": "code",
      "source": [
        "dic = {'Agaricus abruptibulbus':' KT951356',\n",
        "        'pais':'China',\n",
        "        'data': 2008,\n",
        "        'publicação':True\n",
        "}\n",
        "\n",
        "dic['pais'] = 'França'\n",
        "dic"
      ],
      "metadata": {
        "id": "hM4WkW49OeUT"
      },
      "execution_count": null,
      "outputs": []
    },
    {
      "cell_type": "markdown",
      "source": [
        "##**Removendo itens** 🚮\n",
        "\n",
        "Existem vários métodos para remover itens de um dicionário"
      ],
      "metadata": {
        "id": "sIW_yJ2_O0xh"
      }
    },
    {
      "cell_type": "code",
      "source": [
        "# O método pop() remove o item com o nome de chave especificado:\n",
        "\n",
        "dic = {'Agaricus abruptibulbus':' KT951356',\n",
        "        'pais':'China',\n",
        "        'data': 2008,\n",
        "        'publicação':True\n",
        "}\n",
        "\n",
        "dic.pop('data')\n",
        "\n",
        "print(dic)"
      ],
      "metadata": {
        "id": "2J2ZcF5aO8DB",
        "colab": {
          "base_uri": "https://localhost:8080/"
        },
        "outputId": "49ef4b1d-e1c7-4c05-f923-aaa870d25f6f"
      },
      "execution_count": null,
      "outputs": [
        {
          "output_type": "stream",
          "name": "stdout",
          "text": [
            "{'Agaricus abruptibulbus': ' KT951356', 'pais': 'China', 'publicação': True}\n"
          ]
        }
      ]
    },
    {
      "cell_type": "code",
      "source": [
        "#O método popitem() remove o último item inserido (nas versões anteriores à 3.7, um item aleatório é removido):\n",
        "\n",
        "dic = {'Agaricus abruptibulbus':' KT951356',\n",
        "        'pais':'China',\n",
        "        'data': 2008,\n",
        "        'publicação':True\n",
        "}\n",
        "\n",
        "dic.popitem()\n",
        "\n",
        "print(dic)"
      ],
      "metadata": {
        "id": "h9oB-VWDPad3"
      },
      "execution_count": null,
      "outputs": []
    },
    {
      "cell_type": "code",
      "source": [
        "# A palavra-chave del remove o item com o nome de chave especificado:\n",
        "\n",
        "dic = {'Agaricus abruptibulbus':' KT951356',\n",
        "        'pais':'China',\n",
        "        'data': 2008,\n",
        "        'publicação':True\n",
        "}\n",
        "\n",
        "del dic['pais']\n",
        "\n",
        "print(dic)"
      ],
      "metadata": {
        "id": "9mrjCsNvPqm4",
        "colab": {
          "base_uri": "https://localhost:8080/"
        },
        "outputId": "690def3a-e8a6-4b88-8dbc-4741acc4081e"
      },
      "execution_count": null,
      "outputs": [
        {
          "output_type": "stream",
          "name": "stdout",
          "text": [
            "{'Agaricus abruptibulbus': ' KT951356', 'data': 2008, 'publicação': True}\n"
          ]
        }
      ]
    },
    {
      "cell_type": "code",
      "source": [
        "#A palavra-chave  del também pode excluir completamente o dicionário:\n",
        "\n",
        "dic = {'Agaricus abruptibulbus':' KT951356',\n",
        "        'pais':'China',\n",
        "        'data': 2008,\n",
        "        'publicação':True\n",
        "}\n",
        "\n",
        "del dic\n",
        "\n",
        "print(dic)"
      ],
      "metadata": {
        "id": "2jNNWVT0P7Hq"
      },
      "execution_count": null,
      "outputs": []
    },
    {
      "cell_type": "code",
      "source": [
        "#O método clear()esvazia o dicionário:\n",
        "\n",
        "dic = {'Agaricus abruptibulbus':' KT951356',\n",
        "        'pais':'China',\n",
        "        'data': 2008,\n",
        "        'publicação':True\n",
        "}\n",
        "\n",
        "dic.clear()\n",
        "\n",
        "print(dic)"
      ],
      "metadata": {
        "colab": {
          "base_uri": "https://localhost:8080/"
        },
        "id": "yyKTLQklQFQa",
        "outputId": "8e109b0f-bf45-4c32-8283-7b12002beeeb"
      },
      "execution_count": null,
      "outputs": [
        {
          "output_type": "stream",
          "name": "stdout",
          "text": [
            "{}\n"
          ]
        }
      ]
    },
    {
      "cell_type": "markdown",
      "source": [
        "##**Dicionários aninhados** 👪\n",
        "\n",
        "Um dicionário pode conter dicionários, isso é chamado de dicionários aninhados.\n",
        "\n"
      ],
      "metadata": {
        "id": "RmGovTRfQXYd"
      }
    },
    {
      "cell_type": "code",
      "source": [
        "#Crie um dicionário que contenha três dicionários:\n",
        "microrganismos = {\n",
        "  \"fungos\" : {\n",
        "    \"taxon\" : \"Agaricus abruptibulbus\",\n",
        "     \"ano\" : 2004\n",
        "  },\n",
        "  \"bacteria\" : {\n",
        "    \"taxon\" : \"Pseudomonas aeruginosa\",\n",
        "    \"ano\" : 2007\n",
        "  },\n",
        "  \"virus\" : {\n",
        "    \"taxon\" : \"Cilevirus\",\n",
        "    \"ano\" : 2011\n",
        "  }\n",
        "}\n",
        "\n",
        "print(microrganismos)"
      ],
      "metadata": {
        "colab": {
          "base_uri": "https://localhost:8080/"
        },
        "id": "yd5jgXG6QW0X",
        "outputId": "46405df4-c076-41cf-fad5-72917fb4ea78"
      },
      "execution_count": null,
      "outputs": [
        {
          "output_type": "stream",
          "name": "stdout",
          "text": [
            "{'fungos': {'taxon': 'Agaricus abruptibulbus', 'ano': 2004}, 'bacteria': {'taxon': 'Pseudomonas aeruginosa', 'ano': 2007}, 'virus': {'taxon': 'Cilevirus', 'ano': 2011}}\n"
          ]
        }
      ]
    },
    {
      "cell_type": "code",
      "source": [
        "#Crie três dicionários e, em seguida, crie um dicionário que conterá os outros três dicionários:\n",
        "\n",
        "\n",
        "fungos = {\n",
        "    \"taxon\" : \"Agaricus abruptibulbus\",\n",
        "     \"ano\" : 2004\n",
        "},\n",
        "\n",
        "bacteria = {\n",
        "    \"taxon\" : \"Pseudomonas aeruginosa\",\n",
        "    \"ano\" : 2007\n",
        "},\n",
        "  \n",
        "virus =  {\n",
        "    \"taxon\" : \"Cilevirus\",\n",
        "    \"ano\" : 2011\n",
        "}\n",
        "\n",
        "microrganismos = {\n",
        "   'fungos' : fungos,\n",
        "   'bacteria' : bacteria,\n",
        "   'virus' : virus\n",
        "}\n",
        "\n",
        "print(microrganismos)"
      ],
      "metadata": {
        "id": "dIq8w4aHRqu8"
      },
      "execution_count": null,
      "outputs": []
    },
    {
      "cell_type": "markdown",
      "source": [
        "## Dicionário e Tuplas juntos 🙃\n",
        "\n",
        "Tuplas com Chaves de Dicionários"
      ],
      "metadata": {
        "id": "MNyA_Mike4fD"
      }
    },
    {
      "cell_type": "markdown",
      "source": [
        ""
      ],
      "metadata": {
        "id": "DJeesf1amJp6"
      }
    },
    {
      "cell_type": "code",
      "source": [
        "colecao = { \n",
        "    ('Basidiomycota', 'Agaricomycetes'): 'Peniophora aurantiaca', \n",
        "    ('Basidiomycota', 'Malasseziomycetes'): 'Malassezia restricta', \n",
        "    ('Ascomycota', 'Leotiomycetes'): 'Thelebolus sp'\n",
        "     }\n",
        "    "
      ],
      "metadata": {
        "id": "lhcjhhWFfTXW"
      },
      "execution_count": null,
      "outputs": []
    },
    {
      "cell_type": "code",
      "source": [
        "print(colecao.keys())"
      ],
      "metadata": {
        "colab": {
          "base_uri": "https://localhost:8080/"
        },
        "id": "3sOuBDDRlFxl",
        "outputId": "6b0ec3bf-9005-4991-d8af-3e4095721ac1"
      },
      "execution_count": null,
      "outputs": [
        {
          "output_type": "stream",
          "name": "stdout",
          "text": [
            "dict_keys([('Basidiomycota', 'Agaricomycetes'), ('Basidiomycota', 'Malasseziomycetes'), ('Ascomycota', 'Leotiomycetes')])\n"
          ]
        }
      ]
    },
    {
      "cell_type": "code",
      "source": [
        "print(colecao.values())"
      ],
      "metadata": {
        "id": "_luc1lPMlpkO"
      },
      "execution_count": null,
      "outputs": []
    },
    {
      "cell_type": "code",
      "source": [
        "colecao = { \n",
        "    'Basidiomycota': ('Peniophora aurantiaca', 'Malassezia restricta'),\n",
        "    'Ascomycota': ('Thelebolus sp', 'Pseudogymnoacus sp')\n",
        "     }"
      ],
      "metadata": {
        "id": "h9weSEwnf8jW"
      },
      "execution_count": null,
      "outputs": []
    },
    {
      "cell_type": "code",
      "source": [
        "print(colecao)"
      ],
      "metadata": {
        "id": "3hw2AwVggUSc"
      },
      "execution_count": null,
      "outputs": []
    },
    {
      "cell_type": "markdown",
      "source": [
        "## Mãos a Obra!!! 🤚\n"
      ],
      "metadata": {
        "id": "XwG5LdBRQU4s"
      }
    },
    {
      "cell_type": "code",
      "source": [
        "colecao = {}\n",
        "\n",
        "while True:\n",
        "    opcao = input(\"O que deseja realizar?\\n\" +\n",
        "            \"<I> - Para Inserir um microrganismo\\n\"+\n",
        "            \"<P> - Para Pesquisar um microrganismo\\n\"+\n",
        "            \"<E> - Para Excluir um microrganismo\\n\"+\n",
        "            \"<S> - Para sair digite S \\n: \").upper()\n",
        "\n",
        "    if opcao == \"I\":\n",
        "     taxon = input(\"Digite o taxón: \").upper()\n",
        "     data = input(\"Digite a data do isolamento: \")\n",
        "     local = input(\"Digite o local de coleta: \").upper()\n",
        "     colecao[taxon] = [data, local]\n",
        "     print('Inserido com sucesso! \\n')\n",
        "\n",
        "    elif opcao == \"P\":\n",
        "      pesquisa = input(\"Digite o táxon: \").upper()\n",
        "      if pesquisa in colecao:\n",
        "          data = colecao[pesquisa][0]\n",
        "          local = colecao[pesquisa][1]\n",
        "          print(f' micro-organismo : {pesquisa}\\n')\n",
        "          print(f' data de coleta : {data}\\n')\n",
        "          print(f' local de coleta : {local}\\n')\n",
        "      else: \n",
        "          print('Taxon não cadastrado \\n')\n",
        "     \n",
        "    elif opcao == \"E\":\n",
        "      excluir = input(\"Digite o táxon a ser excluído: \").upper()\n",
        "      if excluir in colecao:\n",
        "        colecao.pop(excluir)\n",
        "        print(f'{excluir} excluído com sucesso  \\n')\n",
        "      else: \n",
        "          print('Taxon não cadastrado \\n')\n",
        "        \n",
        "    elif opcao == \"S\":\n",
        "      break\n",
        "    else: \n",
        "      print('Opção invalida \\n')\n",
        "\n"
      ],
      "metadata": {
        "id": "czJ4U3JqV-Un"
      },
      "execution_count": null,
      "outputs": []
    },
    {
      "cell_type": "code",
      "source": [
        "print(colecao)"
      ],
      "metadata": {
        "id": "cytAVr_FYSEK"
      },
      "execution_count": null,
      "outputs": []
    }
  ]
}