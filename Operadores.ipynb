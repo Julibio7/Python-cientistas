{
  "nbformat": 4,
  "nbformat_minor": 0,
  "metadata": {
    "colab": {
      "name": "Operadores.ipynb",
      "provenance": [],
      "authorship_tag": "ABX9TyML71b8qvCqNXFz/5cN5Vfv",
      "include_colab_link": true
    },
    "kernelspec": {
      "name": "python3",
      "display_name": "Python 3"
    },
    "language_info": {
      "name": "python"
    }
  },
  "cells": [
    {
      "cell_type": "markdown",
      "metadata": {
        "id": "view-in-github",
        "colab_type": "text"
      },
      "source": [
        "<a href=\"https://colab.research.google.com/github/Julibio7/PythonCientistas/blob/main/Operadores.ipynb\" target=\"_parent\"><img src=\"https://colab.research.google.com/assets/colab-badge.svg\" alt=\"Open In Colab\"/></a>"
      ]
    },
    {
      "cell_type": "markdown",
      "source": [
        "# <center> **Python Básico**\n",
        "### <center> OPERADORES BÁSICOS EM PYTHON ⛏"
      ],
      "metadata": {
        "id": "h2qnSKbHCEnY"
      }
    },
    {
      "cell_type": "markdown",
      "source": [
        "___\n",
        "Existem vários operadores básicos em Python , pois ele é construído sobre lógica e várias operações podem ser aplicadas. Os operadores Python são divididos em oito categorias que você pode usar para fazer certas operações:\n",
        "___"
      ],
      "metadata": {
        "id": "KlSxwuEZCU0n"
      }
    },
    {
      "cell_type": "markdown",
      "source": [
        "> 1. Operador Básico: Operador Aritmético\n",
        "2. Operador Básico: Operador de Comparação\n",
        "3. Operador de Atribuição\n",
        "4. Operador lógico\n",
        "5. Operador bit a bit\n",
        "6. Operadores Especiais\n",
        "7. Operadores de associação"
      ],
      "metadata": {
        "id": "oog-5j6-Coxm"
      }
    },
    {
      "cell_type": "markdown",
      "source": [
        "##Operador Básico: Operador Aritmético\n",
        "Assim como o nome diz, os operadores aritméticos são usados ​​para fazer cálculos simples como adição, subtração, divisão, módulo, potência exponencial e multiplicação\n",
        "\n",
        "* adição `+`\n",
        "* subtração `-` \n",
        "* divisão `/\n",
        "* multiplicação `*`\n",
        "* exponenciação `**`\n",
        "\n",
        "**Hierarquia das Operações Aritméticas**\n",
        "\n",
        "Ao realizar as operações matématicas temos uma sequência das aperações a serem realizadas, que são:\n",
        "\n",
        "* Cálculos que estão entre parênteses:()\n",
        "* Exponenciação: **\n",
        "* Multiplicação, divisão(o que estiver primeiro): * /\n",
        "* Adição ou Subtração ( o que estiver primeiro): + ou -"
      ],
      "metadata": {
        "id": "0xoa5NgWC73C"
      }
    },
    {
      "cell_type": "code",
      "source": [
        "#Atribuindo valor as variáveis a e b\n",
        "a = 3\n",
        "b = 5\n",
        "  \n",
        "# Adição\n",
        "adição = a + b\n",
        "# Subtração\n",
        "subtração = a - b\n",
        "# Divisão\n",
        "divisão = a/b\n",
        "# Multiplicação  \n",
        "multiplicação = a * b\n",
        "# Potência Exponencial\n",
        "exponencial = a**b\n",
        "# Módulo\n",
        "módulo = a % b\n",
        "  \n",
        "# Imprimindo as variáveis\n",
        "print(adição) \n",
        "print(subtração)\n",
        "print(multiplicação) \n",
        "print(divisão) \n",
        "print(exponencial) \n",
        "print(módulo)"
      ],
      "metadata": {
        "id": "K_IgUIlwCgtc"
      },
      "execution_count": null,
      "outputs": []
    },
    {
      "cell_type": "markdown",
      "source": [
        "## Operadores Relacionais\n",
        "\n",
        "Os operadores relacionais:\n",
        "*  são utilizados para comparar caracteres, números, variáveis e expressões\n",
        "* ao fazer a comparação retornam o resultado verificando a natureza da saída como True ou False\n",
        "\n",
        "Os operadores relacionais utilizados nos algaritmos são:\n",
        "\n",
        "* Comparação `=`\n",
        "* Diferente de `<>`\n",
        "* Maior que `>`\n",
        "* Menor que `<`\n",
        "* Maior ou igual `>=`\n",
        "* Menor ou igual `<=`"
      ],
      "metadata": {
        "id": "pbYac4ilz18w"
      }
    },
    {
      "cell_type": "code",
      "source": [
        "# Atribuindo valor as variáveis x e y\n",
        "x = 10\n",
        "y = 4\n",
        "  \n",
        "# Sinal maior que, torna-se verdadeiro quando o operando esquerdo é maior que o operando direito\n",
        "print(x > y) \n",
        "  \n",
        "# Sinal menor que, torna-se verdadeiro quando o operando esquerdo é menor que o operando direito \n",
        "print(x < y) \n",
        "  \n",
        "# Sinal de igual , retorna verdadeiro quando ambos os operandos são iguais entre si\n",
        "print(x == y) \n",
        "  \n",
        "# Sinal diferente, torna-se true quando ambos os operandos não são iguais entre si\n",
        "print(x != y) \n",
        "  \n",
        "# Sinal de Maior ou igual, torna-se verdadeiro quando o operando esquerdo é maior ou igual ao operando direito\n",
        "print(x >= y)\n",
        "\n",
        "#Sinal menor ou igual a, torna-se verdadeiro quando o operando esquerdo é menor ou igual ao operando direito\n",
        "print(x <= y)"
      ],
      "metadata": {
        "id": "LF9nsjLT0eCw"
      },
      "execution_count": null,
      "outputs": []
    },
    {
      "cell_type": "markdown",
      "source": [
        "**Operador de Atribuição**\n",
        "\n",
        "Os operadores de atribuição são usados ​​para atribuir valores (operandos) às variáveis. Existem muitos operadores de atribuição usados ​​em python"
      ],
      "metadata": {
        "id": "eJoyZaxy1Y6B"
      }
    },
    {
      "cell_type": "code",
      "source": [
        "#Igual a, define a variável igual ao operando\n",
        "x = 5\n",
        "y = 1\n",
        "\n"
      ],
      "metadata": {
        "id": "EpPEKOyW1--8"
      },
      "execution_count": null,
      "outputs": []
    },
    {
      "cell_type": "markdown",
      "source": [
        "#Operador lógico\n",
        "\n",
        "Os operadores lógicos servem para combinar resultados de expressões, retornando se o resultado final é **verdadeiro (TRUE)** ou **falso (FALSE)**. \n",
        "\n",
        "Os operadores lógicos executam as funções **AND, NOT e OR** entre os operandos\n",
        "\n"
      ],
      "metadata": {
        "id": "qAXb5b3925vf"
      }
    },
    {
      "cell_type": "markdown",
      "source": [
        "São utilizados para estabelecer condições entre diferentes expressões, a partir de operadores como o “and”, “or” e “not”.\n",
        "\n",
        "Por exemplo, se uma série de afirmações forem verdadeiras, mas uma for falsa, o operador “and” vai classificar como falsa.\n",
        "\n",
        "X=10 e Y=14, logo x and y são >9. Verdadeiro\n",
        "\n",
        "X=10 e Z= 8, logo x and z são > 9. Falso \n",
        "\n",
        "\n",
        "\n",
        "[tabela da verdade](https://drive.google.com/file/d/11WHQ41BA8v4n20S8fdaAaLsKZ7LM8_NG/view?usp=sharing)\n",
        "\n",
        "<img src = \"https://drive.google.com/file/d/11WHQ41BA8v4n20S8fdaAaLsKZ7LM8_NG/view?usp=sharing\">\n"
      ],
      "metadata": {
        "id": "iOe6-2OK2_np"
      }
    },
    {
      "cell_type": "code",
      "source": [
        "#atribuir valor as variáveis x e y\n",
        "x = 10\n",
        "y = 14\n"
      ],
      "metadata": {
        "id": "_3AMzgk55OEo"
      },
      "execution_count": null,
      "outputs": []
    },
    {
      "cell_type": "code",
      "source": [
        "\t# x é menor que 5 e x é menor que 10?\n",
        "  #Retorna True se ambas as declarações forem verdadeiras\n",
        "  x < 5 and  x < 10\n"
      ],
      "metadata": {
        "id": "2Yczd48V5eeE"
      },
      "execution_count": null,
      "outputs": []
    },
    {
      "cell_type": "code",
      "source": [
        "\t# x é menor que 15 ou x é menor que 5?\n",
        "  #Retorna True se uma das declarações for verdadeira\n",
        "x < 15 or x < 14"
      ],
      "metadata": {
        "id": "Pn16MDm05s9a"
      },
      "execution_count": null,
      "outputs": []
    },
    {
      "cell_type": "code",
      "source": [
        "#Inverte o resultado, retorna False se o resultado for verdadeiro\n",
        "not(x < 15 and x < 14)"
      ],
      "metadata": {
        "id": "PrWGK4FB5-JA"
      },
      "execution_count": null,
      "outputs": []
    },
    {
      "cell_type": "markdown",
      "source": [
        "#Referência\n",
        "\n",
        "* [Python Tricks](https://python-tricks.com/basic-operators-in-python/)\n",
        "* [w3schools](https://www.w3schools.com/python/gloss_python_logical_operators.asp)"
      ],
      "metadata": {
        "id": "350vBqBT2psh"
      }
    },
    {
      "cell_type": "markdown",
      "source": [
        ""
      ],
      "metadata": {
        "id": "evWPech92pk8"
      }
    }
  ]
}