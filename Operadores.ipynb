{
  "nbformat": 4,
  "nbformat_minor": 0,
  "metadata": {
    "colab": {
      "name": "Operadores.ipynb",
      "provenance": [],
      "collapsed_sections": [],
      "authorship_tag": "ABX9TyP2C0ahnPH6Yu7i/67zUUl8",
      "include_colab_link": true
    },
    "kernelspec": {
      "name": "python3",
      "display_name": "Python 3"
    },
    "language_info": {
      "name": "python"
    }
  },
  "cells": [
    {
      "cell_type": "markdown",
      "metadata": {
        "id": "view-in-github",
        "colab_type": "text"
      },
      "source": [
        "<a href=\"https://colab.research.google.com/github/Julibio7/Python-cientistas/blob/main/Operadores.ipynb\" target=\"_parent\"><img src=\"https://colab.research.google.com/assets/colab-badge.svg\" alt=\"Open In Colab\"/></a>"
      ]
    },
    {
      "cell_type": "markdown",
      "source": [
        "# <center> **Python Básico**\n",
        "### <center> OPERADORES BÁSICOS EM PYTHON ⛏"
      ],
      "metadata": {
        "id": "h2qnSKbHCEnY"
      }
    },
    {
      "cell_type": "markdown",
      "source": [
        "___\n",
        "Existem vários operadores básicos em Python , pois ele é construído sobre lógica e várias operações podem ser aplicadas. Os operadores Python são divididos em oito categorias que você pode usar para fazer certas operações:\n",
        "___"
      ],
      "metadata": {
        "id": "KlSxwuEZCU0n"
      }
    },
    {
      "cell_type": "markdown",
      "source": [
        "> 1. Operador Básico: Operador Aritmético\n",
        "2. Operador Básico: Operador de Comparação\n",
        "3. Operador de Atribuição\n",
        "4. Operador lógico\n",
        "5. Operador bit a bit\n",
        "6. Operadores Especiais\n",
        "7. Operadores de associação"
      ],
      "metadata": {
        "id": "oog-5j6-Coxm"
      }
    },
    {
      "cell_type": "markdown",
      "source": [
        "##Operador Básico: Operador Aritmético\n",
        "Assim como o nome diz, os operadores aritméticos são usados ​​para fazer cálculos simples como adição, subtração, divisão, módulo, potência exponencial e multiplicação\n",
        "\n",
        "* adição `+`\n",
        "* subtração `-` \n",
        "* divisão `/\n",
        "* multiplicação `*`\n",
        "* exponenciação `**`\n",
        "\n",
        "**Hierarquia das Operações Aritméticas**\n",
        "\n",
        "Ao realizar as operações matématicas temos uma sequência das aperações a serem realizadas, que são:\n",
        "\n",
        "* Cálculos que estão entre parênteses:()\n",
        "* Exponenciação: **\n",
        "* Multiplicação, divisão(o que estiver primeiro): * /\n",
        "* Adição ou Subtração ( o que estiver primeiro): + ou -"
      ],
      "metadata": {
        "id": "0xoa5NgWC73C"
      }
    },
    {
      "cell_type": "code",
      "source": [
        "#Atribuindo valor as variáveis a e b\n",
        "a = 3\n",
        "b = 5\n",
        "  \n",
        "# Adição\n",
        "adição = a + b\n",
        "# Subtração\n",
        "subtração = a - b\n",
        "# Divisão\n",
        "divisão = a/b\n",
        "# Multiplicação  \n",
        "multiplicação = a * b\n",
        "# Potência Exponencial\n",
        "exponencial = a**b\n",
        "# Módulo\n",
        "módulo = a % b\n",
        "  \n",
        "# Imprimindo as variáveis\n",
        "print(adição) \n",
        "print(subtração)\n",
        "print(multiplicação) \n",
        "print(divisão) \n",
        "print(exponencial) \n",
        "print(módulo)"
      ],
      "metadata": {
        "id": "K_IgUIlwCgtc"
      },
      "execution_count": null,
      "outputs": []
    },
    {
      "cell_type": "markdown",
      "source": [
        "##**Expressões Relacionais**\n",
        "\n",
        "Uma condição na linguagem Python é definida como uma expressão que pode ser `True` ou `False`.\n",
        "\n",
        "A este tipo de expressão dá-se o nome de expressão relacional ou comparação.\n",
        "\n",
        "Por exemplo,  10 > 5 uma expressão relacional que possui valor verdadeiro (`True`). \n",
        "\n",
        "E se 10 < 1 é uma expressão  que possui valor falso (`False`).\n",
        "\n",
        "Os operadores (`<`, `>`)  são chamados de operadores relacionais pois possibilitam saber qual a relação existente entre seus dois operandos.\n",
        "\n",
        "Os operadores relacionais utilizados  são:\n",
        "\n",
        "* Comparação `=`\n",
        "* Diferente de `<>`\n",
        "* Maior que `>`\n",
        "* Menor que `<`\n",
        "* Maior ou igual `>=`\n",
        "* Menor ou igual `<=`\n",
        "\n"
      ],
      "metadata": {
        "id": "pbYac4ilz18w"
      }
    },
    {
      "cell_type": "markdown",
      "source": [
        "| Operação |     Descrição       |\n",
        "|----------|---------------------|\n",
        "| a == b   | a igual a b         |\n",
        "| a != b   | a diferente de b    |\n",
        "| a < b    | a menor do que b    |\n",
        "| a > b    | a maior do que b    |\n",
        "| a <= b   | a menor ou igual a b|\n",
        "| a >= b   | a maior ou igual a b|\n"
      ],
      "metadata": {
        "id": "bxU5VOIvtmRU"
      }
    },
    {
      "cell_type": "code",
      "source": [
        "# Atribuindo valor as variáveis x e y\n",
        "x = 10\n",
        "y = 4\n",
        "  \n",
        "# Sinal maior que, torna-se verdadeiro quando o operando esquerdo é maior que o operando direito\n",
        "print(x > y) \n",
        "  \n",
        "# Sinal menor que, torna-se verdadeiro quando o operando esquerdo é menor que o operando direito \n",
        "print(x < y) \n",
        "  \n",
        "# Sinal de igual , retorna verdadeiro quando ambos os operandos são iguais entre si\n",
        "print(x == y) \n",
        "  \n",
        "# Sinal diferente, torna-se true quando ambos os operandos não são iguais entre si\n",
        "print(x != y) \n",
        "  \n",
        "# Sinal de Maior ou igual, torna-se verdadeiro quando o operando esquerdo é maior ou igual ao operando direito\n",
        "print(x >= y)\n",
        "\n",
        "#Sinal menor ou igual a, torna-se verdadeiro quando o operando esquerdo é menor ou igual ao operando direito\n",
        "print(x <= y)"
      ],
      "metadata": {
        "id": "LF9nsjLT0eCw"
      },
      "execution_count": null,
      "outputs": []
    },
    {
      "cell_type": "markdown",
      "source": [
        "##**Operador de Atribuição**\n",
        "\n",
        "Os operadores de atribuição são usados ​​para atribuir valores (operandos) às variáveis. Existem muitos operadores de atribuição usados ​​em python"
      ],
      "metadata": {
        "id": "eJoyZaxy1Y6B"
      }
    },
    {
      "cell_type": "code",
      "source": [
        "#Igual a, define a variável igual ao operando\n",
        "x = 5\n",
        "y = 1\n",
        "\n"
      ],
      "metadata": {
        "id": "EpPEKOyW1--8"
      },
      "execution_count": null,
      "outputs": []
    },
    {
      "cell_type": "markdown",
      "source": [
        "##**Expressões Lógicas**\n",
        "\n",
        "Os operadores lógicos servem para combinar resultados de expressões, retornando se o resultado final é **verdadeiro (TRUE)** ou **falso (FALSE)**. \n",
        "\n",
        "Os operadores lógicos executam as funções **AND, NOT e OR** entre os operandos\n",
        "\n",
        "\n",
        "\n"
      ],
      "metadata": {
        "id": "qAXb5b3925vf"
      }
    },
    {
      "cell_type": "markdown",
      "source": [
        "**tabela da verdade para os operadores `and`e `or`**\n",
        "\n",
        "| A    | B   | and | or  |\n",
        "|------|-----|-----|-----|\n",
        "|True  |True |True |True |\n",
        "|True  |False|False|True |\n",
        "|False |True |False|True |\n",
        "|False |False|False|False|\n",
        "\n",
        "**Tabela da verdade para operador NOT\n",
        "\n",
        "| A    | not  |\n",
        "|------|------|\n",
        "|True  | False|\n",
        "|False |True  |\n",
        "\n"
      ],
      "metadata": {
        "id": "EQOKjuXzfZ9O"
      }
    },
    {
      "cell_type": "markdown",
      "source": [
        "São utilizados para estabelecer condições entre diferentes expressões, a partir de operadores como o `and`, `or` e `not`.\n",
        "___\n",
        "🔶\n",
        "**AND** \n",
        "\n",
        "O operador AND (‘e’ em português) resulta em True (verdadeiro) quando os dois operandos são verdadeiros.\n",
        "\n",
        "Se várias afirmações forem verdadeiras, mas uma for falsa, o operador `and` vai classificar como falsa. \n",
        "\n",
        "\n",
        "X = 10 e Y = 14, logo x and y são > 9 ➡  Verdadeiro\n",
        "\n",
        "X = 10 e Z = 8, logo x and z são > 9  ➡ Falso \n",
        "\n",
        "\n",
        "\n"
      ],
      "metadata": {
        "id": "iOe6-2OK2_np"
      }
    },
    {
      "cell_type": "code",
      "source": [
        "#atribuir valor as variáveis x e y\n",
        "x = 10\n",
        "y = 14\n",
        "z = 8\n"
      ],
      "metadata": {
        "id": "_3AMzgk55OEo"
      },
      "execution_count": 2,
      "outputs": []
    },
    {
      "cell_type": "code",
      "source": [
        "# vamos praticar o exemplo acima\n",
        " \n",
        "x > 9 and y > 9"
      ],
      "metadata": {
        "id": "QG8wNemmjbS8"
      },
      "execution_count": null,
      "outputs": []
    },
    {
      "cell_type": "code",
      "source": [
        "x > 9 and z > 9"
      ],
      "metadata": {
        "id": "_b-g_Qx4j0gl"
      },
      "execution_count": null,
      "outputs": []
    },
    {
      "cell_type": "code",
      "source": [
        "\t# x é menor que 5 e x é menor que 10?\n",
        "  #Retorna True se ambas as declarações forem verdadeiras\n",
        "  x < 5 and  x < 10\n"
      ],
      "metadata": {
        "id": "2Yczd48V5eeE"
      },
      "execution_count": null,
      "outputs": []
    },
    {
      "cell_type": "markdown",
      "source": [
        "🔶 **OR**\n",
        "\n",
        "O operador `OR` (‘ou’ em português) resulta em True (verdadeiro) quando pelo menos um dos operandos é verdadeiro."
      ],
      "metadata": {
        "id": "-Pzcm0lCbxfr"
      }
    },
    {
      "cell_type": "code",
      "source": [
        "\t# x é menor que 15 ou x é menor que 14?\n",
        "  #Retorna True se uma das declarações for verdadeira\n",
        "x < 15 or x < 14"
      ],
      "metadata": {
        "id": "Pn16MDm05s9a"
      },
      "execution_count": null,
      "outputs": []
    },
    {
      "cell_type": "markdown",
      "source": [
        "🔶 **NOT**\n",
        "\n",
        "O operador `NOT` (‘não/negação’ em português) é um operador unário. Seu resultado é sempre o inverso (a negação) do operando."
      ],
      "metadata": {
        "id": "gJweWOb0cCw0"
      }
    },
    {
      "cell_type": "code",
      "source": [
        "#Inverte o resultado, retorna False se o resultado for verdadeiro\n",
        "not(x < 15 and x < 14)"
      ],
      "metadata": {
        "id": "PrWGK4FB5-JA"
      },
      "execution_count": null,
      "outputs": []
    },
    {
      "cell_type": "markdown",
      "source": [
        "##**Operadores de associação Python**\n",
        "\n",
        "Um operador de associação em Python pode ser definido como um operador usado para validar a associação de um valor. Este operador é usado para testar associações em variáveis ​​como strings, inteiros e tuplas.\n",
        "\n",
        "⏹\n",
        "**IN**\n",
        "\n",
        "O operador in em Python é usado para verificar se o valor existe em uma variável ou não. Quando avaliado, se o operador encontrar um valor, ele retornará true, caso contrário, false. Para entender melhor, dê uma olhada no exemplo abaixo.\n",
        "\n"
      ],
      "metadata": {
        "id": "JArD0ZlqdByy"
      }
    },
    {
      "cell_type": "code",
      "source": [
        "# vamos descobrir se a palavra \"fungos\" está contida na strings atribuida a variável a\n",
        "a = 'Os fungos são hoje representados por mais de 100.000 espécies'\n",
        "\n",
        "'fungos' in a "
      ],
      "metadata": {
        "colab": {
          "base_uri": "https://localhost:8080/"
        },
        "id": "mYVCdM_yeGOk",
        "outputId": "b5b44482-29b8-4b56-c0eb-d6d64bd893e7"
      },
      "execution_count": 7,
      "outputs": [
        {
          "output_type": "execute_result",
          "data": {
            "text/plain": [
              "True"
            ]
          },
          "metadata": {},
          "execution_count": 7
        }
      ]
    },
    {
      "cell_type": "code",
      "source": [
        "microrganismos = ['Aspergillus fumigatus', 'Penicillium roqueforti', 'Saccharomyces cerevisiae', 'Pseudogymnoascus sp', ' Geomyces sp', 'Penicillium sp']\n",
        "\n",
        "fungo = 'Pseudogymnoascus sp'\n",
        "levedura = 'Candida'\n",
        "\n",
        "print(levedura in microrganismos)\n",
        "print(fungo in microrganismos)\n"
      ],
      "metadata": {
        "id": "Ddudq2DzfczV"
      },
      "execution_count": null,
      "outputs": []
    },
    {
      "cell_type": "code",
      "source": [
        "fungo = 'Pseudogymnoascus sp'"
      ],
      "metadata": {
        "id": "_zbNwUachmCU"
      },
      "execution_count": 13,
      "outputs": []
    },
    {
      "cell_type": "markdown",
      "source": [
        "##**Mãos a obra!** 🧱 👷"
      ],
      "metadata": {
        "id": "UZfhAgHaV5SJ"
      }
    },
    {
      "cell_type": "markdown",
      "source": [
        "Abaixo segue uma sequência de primers utilizados para identificação taxonomica de fungos. \n",
        "\n",
        "Vamos praticar um pouco do que aprendemos"
      ],
      "metadata": {
        "id": "9hP8mCnhlZfE"
      }
    },
    {
      "cell_type": "code",
      "source": [
        "ITS1 = 'TCCGTAGGTGAACCTGCGG'\n",
        "ITS1f = 'CTTGGTCATTTAGAGGAAGTAA'\n",
        "ITS5 =  'GGAAGTAAAAGTCGTAACAAGG'\n",
        "ITS2 = 'GCTGCGTTCTTCATCGATGC'"
      ],
      "metadata": {
        "id": "Vcu7i4dgkFTZ"
      },
      "execution_count": 22,
      "outputs": []
    },
    {
      "cell_type": "code",
      "source": [
        "# Será que o primer ITS1 e ITS1F são iguais?\n",
        "ITS1 == ITS1f"
      ],
      "metadata": {
        "id": "SdMmxHv1k_F2"
      },
      "execution_count": null,
      "outputs": []
    },
    {
      "cell_type": "markdown",
      "source": [
        "Vamos realizar a trimagem da sequência abaixo. \n",
        "Primeiro vamos verificar se existe primers"
      ],
      "metadata": {
        "id": "DkM6I7hEl_0Z"
      }
    },
    {
      "cell_type": "code",
      "source": [
        "seq = 'TTTCCGTAGGTGAACCTGCGGAAGGATCATTACAGTAGTCGCCTGGGTTGCCGCAAGGCCTCCCGGGTAACCTACCACCCTTTGTTTATTACACTTTGTTGCTTTGGCAGGCCTGCCCTCGGGCTGCTGGCTCCGGCCGGCGAGCGCTTGCCAGAGGACCTAAACTCTGTTTGTCTATACTGTCTGAGTACTATATAATAGTTAAAACTTTCAACAACGGATCTCTTGGTTCTGGCATCGATGAAGAACGCAGCGAAATGCGATAAGTAATGTGAATTGCAGAATTCAGTGAATCATCGAATCTTTGAACGCACATTGCGCCCCCTGGTATTCCGGGGGGCATGCCTGTCCGAGCGTCATTACAACCCTCAAGCTCAGCTTGGTATTGGGCCCCGCCGACCCGGCGGGCCCTAAAGTCAGTGGCGGTGCCGTCCGGCTCCGAGCGTAGTAATTCTTCTCGCTCTGGAGGTCCGGTCGTGTGCTCGCCAGCAACCCCCAATTTTTTTCAGGTTGACCTCGGATCAGGTAGGGATACCCGCTGAACTTAAGCTGCGTTCTTCATCGATGC'"
      ],
      "metadata": {
        "id": "E-FvEY1ll9dd"
      },
      "execution_count": 24,
      "outputs": []
    },
    {
      "cell_type": "code",
      "source": [
        "#verificar a presença do primer ITS5\n",
        "\n",
        "ITS5 in seq"
      ],
      "metadata": {
        "id": "Kex_ukYrmqHT"
      },
      "execution_count": null,
      "outputs": []
    },
    {
      "cell_type": "code",
      "source": [
        "#verificar a presença do primer ITS2\n",
        "ITS2 in seq "
      ],
      "metadata": {
        "id": "5MZ7frxwm5Kk"
      },
      "execution_count": null,
      "outputs": []
    },
    {
      "cell_type": "code",
      "source": [
        ""
      ],
      "metadata": {
        "id": "b-oi6AEGnB4_"
      },
      "execution_count": null,
      "outputs": []
    },
    {
      "cell_type": "markdown",
      "source": [
        "#Referência\n",
        "\n",
        "* [Python Tricks](https://python-tricks.com/basic-operators-in-python/)\n",
        "* [w3schools](https://www.w3schools.com/python/gloss_python_logical_operators.asp)"
      ],
      "metadata": {
        "id": "350vBqBT2psh"
      }
    }
  ]
}