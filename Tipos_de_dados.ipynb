{
  "nbformat": 4,
  "nbformat_minor": 0,
  "metadata": {
    "colab": {
      "name": "Tipos_de_dados.ipynb",
      "provenance": [],
      "authorship_tag": "ABX9TyNqxjzWgkhl/8+HXA/DhVxq",
      "include_colab_link": true
    },
    "kernelspec": {
      "name": "python3",
      "display_name": "Python 3"
    },
    "language_info": {
      "name": "python"
    }
  },
  "cells": [
    {
      "cell_type": "markdown",
      "metadata": {
        "id": "view-in-github",
        "colab_type": "text"
      },
      "source": [
        "<a href=\"https://colab.research.google.com/github/Julibio7/PythonCientistas/blob/main/Tipos_de_dados.ipynb\" target=\"_parent\"><img src=\"https://colab.research.google.com/assets/colab-badge.svg\" alt=\"Open In Colab\"/></a>"
      ]
    },
    {
      "cell_type": "markdown",
      "source": [
        "# <center> Os tipos de dados padrão do Python são:\n",
        "\n",
        "**Objetivo**\n",
        "\n",
        "✅Conhecer os tipos de dados:\n",
        "* Inteiro (int)\n",
        "* Ponto Flutuante ou Decimal (float)\n",
        "* Tipo Complexo (complex)\n",
        "* String (str)\n",
        "* Boolean (bool)\n",
        "\n",
        "✅ Tipos de estrutura de dados:\n",
        "* List (list)\n",
        "* Tuple\n",
        "* Dictionary (dic)\n",
        "\n",
        "✅ Conversão entre tipo de dados\n"
      ],
      "metadata": {
        "id": "8VBoT9Gr57R2"
      }
    },
    {
      "cell_type": "markdown",
      "source": [
        "## Tipo Inteiro (int)\n",
        "\n",
        "O tipo inteiro é um tipo composto por caracteres numéricos inteiros.\n",
        "\n",
        "É um tipo usado para um número que pode ser escrito sem um componente decimal, podendo ser positivo ou negativo.\n",
        "\n",
        "Por exemplo, 21, 4, 0, e −2048 são números inteiros, enquanto 9.75, 1/2, 1.5 não são.\n",
        "\n",
        "Exemplos:"
      ],
      "metadata": {
        "id": "T3QbgApQ6Cit"
      }
    },
    {
      "cell_type": "code",
      "execution_count": null,
      "metadata": {
        "id": "ewFn48-t51Ml"
      },
      "outputs": [],
      "source": [
        "ano = 2022\n",
        "idade = 50\n",
        "\n",
        "#use a função print para imprimir e junto a função type para ver o tipo \n",
        "print(type(ano))\n",
        "print(type(idade))"
      ]
    },
    {
      "cell_type": "markdown",
      "source": [
        "## Ponto Flutuante ou Decimal (float)\n",
        "É um tipo composto por caracteres numéricos decimais.\n",
        "\n",
        "O famoso ponto flutuante é um tipo usado para números racionais (números que podem ser representados por uma fração) informalmente conhecido como “número quebrado”.\n",
        "\n",
        "Exemplos:"
      ],
      "metadata": {
        "id": "b6LpfX086OON"
      }
    },
    {
      "cell_type": "code",
      "source": [
        "altura = 1.80\n",
        "peso = 73.55\n",
        "\n",
        "print(type(peso))\n",
        "print(type(altura))"
      ],
      "metadata": {
        "id": "wQtG17Nz6R8u"
      },
      "execution_count": null,
      "outputs": []
    },
    {
      "cell_type": "markdown",
      "source": [
        "## String (str)\n",
        "É um conjunto de caracteres dispostos numa determinada ordem, geralmente utilizada para representar palavras, frases ou textos.\n",
        "\n",
        "Exemplos:"
      ],
      "metadata": {
        "id": "ZKmagiV86Unc"
      }
    },
    {
      "cell_type": "code",
      "source": [
        "nome = 'Juliana'\n",
        "profissao = 'Professora'\n",
        "\n",
        "print(type(profissao))\n",
        "print(type(nome))"
      ],
      "metadata": {
        "id": "ORFqknUv6Yif"
      },
      "execution_count": null,
      "outputs": []
    },
    {
      "cell_type": "markdown",
      "source": [
        "Pode ser utilizado \"Aspas duplas\" ou 'aspas simples'"
      ],
      "metadata": {
        "id": "ONeJzUvp6itT"
      }
    },
    {
      "cell_type": "code",
      "source": [
        "x = \"Cientistas\"\n",
        "# é o mesmo que:\n",
        "x = 'Cientistas'"
      ],
      "metadata": {
        "id": "hDqmJdmo6eL-"
      },
      "execution_count": null,
      "outputs": []
    },
    {
      "cell_type": "markdown",
      "source": [
        "## Boolean (bool)\n",
        "Tipo de dado lógico que pode assumir apenas dois valores: falso ou verdadeiro (False ou True em Python).\n",
        "\n",
        "Na lógica computacional, podem ser considerados como 0 ou 1.\n",
        "\n",
        "Exemplos:"
      ],
      "metadata": {
        "id": "yLySSyAJ6qIC"
      }
    },
    {
      "cell_type": "code",
      "source": [
        "fim_de_semana = True\n",
        "feriado = False\n",
        "\n",
        "print(type(fim_de_semana))\n",
        "print(type(feriado))"
      ],
      "metadata": {
        "id": "ihjA4jUb6wct"
      },
      "execution_count": null,
      "outputs": []
    },
    {
      "cell_type": "markdown",
      "source": [
        "##Listas (list)\n",
        "Tipo de dado muito importante e utilizado no dia a dia do desenvolvedor Python!\n",
        "\n",
        "Listas agrupam um conjunto de elementos variados, podendo conter: inteiros, floats, strings, outras listas e outros tipos.\n",
        "\n",
        "Elas são definidas utilizando-se colchetes para delimitar a lista e vírgulas para separar os elementos, veja alguns exemplo abaixo:"
      ],
      "metadata": {
        "id": "4pdGrV1u6xYo"
      }
    },
    {
      "cell_type": "code",
      "source": [
        "alunos = ['Amanda', 'Ana', 'Bruno', 'João']\n",
        "notas = [10, 8.5, 7.8, 8.0] \n",
        "\n",
        "print(type(alunos))\n",
        "print(type(notas))"
      ],
      "metadata": {
        "id": "ZXmT9LzN639P"
      },
      "execution_count": null,
      "outputs": []
    },
    {
      "cell_type": "markdown",
      "source": [
        "A lista é **mutável**, sendo assim é possível adionar e apagar valores"
      ],
      "metadata": {
        "id": "zGnLvFrYog6i"
      }
    },
    {
      "cell_type": "markdown",
      "source": [
        "Para adionar valores vamos utilizar a função `append()`"
      ],
      "metadata": {
        "id": "ABEYQ9GqoxgV"
      }
    },
    {
      "cell_type": "code",
      "source": [
        "alunos = ['Amanda', 'Ana', 'Raquel', 'João'] #definir a variável alunos\n",
        "\n",
        "alunos.append('Irene')\n",
        "\n",
        "print(alunos)"
      ],
      "metadata": {
        "id": "ZF585cTyowt5"
      },
      "execution_count": null,
      "outputs": []
    },
    {
      "cell_type": "markdown",
      "source": [
        "'eu sei o que quero e onde quero' - \n",
        "\n",
        "Ao utilizar a função `insert() eu consigo \n",
        "insert"
      ],
      "metadata": {
        "id": "O_Uda-kGpZ1D"
      }
    },
    {
      "cell_type": "code",
      "source": [
        "alunos = ['Amanda', 'Ana', 'Raquel', 'João']"
      ],
      "metadata": {
        "id": "OzcSgVL3or4x"
      },
      "execution_count": null,
      "outputs": []
    },
    {
      "cell_type": "code",
      "source": [
        "alunos.insert(0, 'Tereza')"
      ],
      "metadata": {
        "id": "l-1ZLI11uup2"
      },
      "execution_count": null,
      "outputs": []
    },
    {
      "cell_type": "code",
      "source": [
        "print(alunos)"
      ],
      "metadata": {
        "id": "FZN8X9bIu-_Q"
      },
      "execution_count": null,
      "outputs": []
    },
    {
      "cell_type": "markdown",
      "source": [
        "# Tuplas\n",
        "\n",
        "Tuplas são usadas para armazenar vários itens em uma única variável.\n",
        "\n",
        "Uma tupla é uma coleção ordenada e imutável .\n",
        "\n",
        "Tuplas são escritas com `()`."
      ],
      "metadata": {
        "id": "PtELHWVmeYrK"
      }
    },
    {
      "cell_type": "code",
      "source": [
        "uma_tupla = ('Python', 'Java', 'R')"
      ],
      "metadata": {
        "id": "fPt2Fl44e2rj"
      },
      "execution_count": null,
      "outputs": []
    },
    {
      "cell_type": "code",
      "source": [
        "print(uma_tupla)"
      ],
      "metadata": {
        "id": "rnxjI3KxfFMf"
      },
      "execution_count": null,
      "outputs": []
    },
    {
      "cell_type": "code",
      "source": [
        "print(type(uma_tupla))"
      ],
      "metadata": {
        "id": "T8EVwWnafKSK"
      },
      "execution_count": null,
      "outputs": []
    },
    {
      "cell_type": "markdown",
      "source": [
        "**Itens de Tupla**\n",
        "\n",
        "Os itens de tupla são ordenados, imutáveis ​​e permitem valores duplicados.\n",
        "\n",
        "Os itens de tupla são indexados, o primeiro item possui índice `[0]`, o segundo item possui índice `[1]`etc."
      ],
      "metadata": {
        "id": "UkdH6FOQfZoJ"
      }
    },
    {
      "cell_type": "markdown",
      "source": [
        "**Permitir duplicatas**\n",
        "\n",
        "Como as tuplas são indexadas, elas podem ter itens com o mesmo valor:"
      ],
      "metadata": {
        "id": "10ilGVdPfrF5"
      }
    },
    {
      "cell_type": "code",
      "source": [
        "outra_tupla = ('Python', 'Java', 'R', 'Python')"
      ],
      "metadata": {
        "id": "3tcznmpAfuo8"
      },
      "execution_count": null,
      "outputs": []
    },
    {
      "cell_type": "code",
      "source": [
        "print(outra_tupla)"
      ],
      "metadata": {
        "id": "llhDb3Yjf1Dx"
      },
      "execution_count": null,
      "outputs": []
    },
    {
      "cell_type": "markdown",
      "source": [
        "**Para determinar quantos itens uma tupla possui, use a `len()`função:**"
      ],
      "metadata": {
        "id": "ufFBz3YYgAyZ"
      }
    },
    {
      "cell_type": "code",
      "source": [
        "outra_tupla = ('Python', 'Java', 'R', 'Python')"
      ],
      "metadata": {
        "id": "4zxKGgd3gN-H"
      },
      "execution_count": null,
      "outputs": []
    },
    {
      "cell_type": "code",
      "source": [
        "print(len(outra_tupla))"
      ],
      "metadata": {
        "id": "iIYCkBIxgQIk"
      },
      "execution_count": null,
      "outputs": []
    },
    {
      "cell_type": "markdown",
      "source": [
        "Os itens de tupla podem ser de **qualquer tipo de dados**"
      ],
      "metadata": {
        "id": "bIrvR1yOgbPP"
      }
    },
    {
      "cell_type": "markdown",
      "source": [
        "##Conversão entre tipos de dados\n",
        "\n"
      ],
      "metadata": {
        "id": "E2GmQml7o0iG"
      }
    },
    {
      "cell_type": "code",
      "source": [
        "a = \"3490\"    # a é uma string \"3490\"\n",
        "b = int(a)    # b é um inteiro 3490"
      ],
      "metadata": {
        "id": "6ApjQNYipJPz"
      },
      "execution_count": null,
      "outputs": []
    },
    {
      "cell_type": "code",
      "source": [
        "type(b)"
      ],
      "metadata": {
        "id": "kTcb4mPUpTUB"
      },
      "execution_count": null,
      "outputs": []
    },
    {
      "cell_type": "markdown",
      "source": [
        "Exemplos de uso de conversão de dados\n",
        "\n",
        "Se não podemos realizar  strings matematicamente, podemos converter a string \"3490\"em um inteiro 3490 e depois fazer contas com isso?"
      ],
      "metadata": {
        "id": "i5OmdNBvp045"
      }
    },
    {
      "cell_type": "code",
      "source": [
        "var1 = \"3490\"  \n",
        "    \n",
        "print(var1 + 5)  "
      ],
      "metadata": {
        "id": "U0IkOZXiqWrA"
      },
      "execution_count": null,
      "outputs": []
    },
    {
      "cell_type": "code",
      "source": [
        "var1 = \"3490\"  \n",
        "var2 = int(var1)   \n",
        "    \n",
        "print(var2 + 5)  "
      ],
      "metadata": {
        "id": "KtrOLVdcqqju"
      },
      "execution_count": null,
      "outputs": []
    },
    {
      "cell_type": "code",
      "source": [
        ""
      ],
      "metadata": {
        "id": "RBDJ9_tNqRE4"
      },
      "execution_count": null,
      "outputs": []
    },
    {
      "cell_type": "markdown",
      "source": [
        "###Mãos a Obra\n",
        "\n",
        "\n",
        "Agora vamos treinar as habilidades adquiridas 🤓\n",
        "\n",
        "DESAFIO : **Insira dois números e imprima a soma**\n",
        "\n",
        "\n",
        ">_Lembre-se de usar as quatro etapas de resolução de problemas para resolver esses problemas: entender o problema  elaborar um plano e  executá-lo_\n",
        "\n",
        "Etapa de resolução de problemas: conceber um plano .\n",
        "\n",
        "Nós sabemos:\n",
        "\n",
        "* inserir strings utilizando metodo de entrada `input()`\n",
        "* converter strings em números\n",
        "* somar números\n",
        "* imprimir coisas utilizando o `print()`\n",
        "\n",
        "Para começar, vamos apenas escrever um esboço das etapas individuais que o programa deve descrever em uma linguagem chamada _pseudocódigo_.\n",
        "\n",
        " Pensar em como resolver problemas é 80% do que um desenvolvedor de software é pago para fazer, então você pode praticar agora mesmo.\n",
        "\n",
        "O que nós sabemos? Que ferramentas temos à nossa disposição? Que recursos? Como faço para juntar tudo isso para resolver esse problema, como resolver um quebra-cabeça?\n",
        "\n"
      ],
      "metadata": {
        "id": "-U8aEgOIrQ39"
      }
    },
    {
      "cell_type": "markdown",
      "source": [
        "Aqui está um pseudocódigo para executar o desafio:\n",
        "\n",
        "```\n",
        "ler string do teclado e atribuir a variável x\n",
        "converter x para int e armazená-lo de volta em x \n",
        "ler string do teclado na variável y\n",
        "converter y para int e armazená-lo de volta em y        \n",
        "imprima a soma de x + y\n",
        "```"
      ],
      "metadata": {
        "id": "BmYjwxL5H6CK"
      }
    },
    {
      "cell_type": "markdown",
      "source": [
        "Agora vamos converter cada uma dessas linhas em Python"
      ],
      "metadata": {
        "id": "uEzGYJbELZIZ"
      }
    },
    {
      "cell_type": "code",
      "source": [
        "# Lê a string do teclado atribuindo a variável x\n",
        "x = input(\"Digite um número: \")\n",
        "\n",
        "# Converte x para int e armazena de volta em x\n",
        "x = int(x)\n",
        "\n",
        "# Lê a string do teclado atribuindo a variável y\n",
        "y = input(\"Digite outro número: \")\n",
        "\n",
        "# Converte y para int e armazena de volta em y \n",
        "y = int(y)\n",
        "\n",
        "# Imprime a soma de x + y\n",
        "print(\"A soma dos dois números é:\", x + y)"
      ],
      "metadata": {
        "id": "IJh82169HudN"
      },
      "execution_count": null,
      "outputs": []
    },
    {
      "cell_type": "markdown",
      "source": [
        "## Resumo\n",
        "\n",
        "Nessa aula abordamos\n",
        "\n",
        "* direrentes tipos de dados\n",
        "* como converter os tipos de dados\n",
        "* praticamos as habilidades adquiridas utilizando métodos de entrada saída, tipo de dados e operações matemáticas. "
      ],
      "metadata": {
        "id": "1Uf1QZEYPgjp"
      }
    },
    {
      "cell_type": "markdown",
      "source": [
        "##Agora é com você! 🤓"
      ],
      "metadata": {
        "id": "ovRJUclAMakn"
      }
    },
    {
      "cell_type": "markdown",
      "source": [
        "1. Faça uma versão do código de soma de dois números que funcione com floats em vez de int. \n"
      ],
      "metadata": {
        "id": "SRYqOofjNOG5"
      }
    },
    {
      "cell_type": "code",
      "source": [
        ""
      ],
      "metadata": {
        "id": "Ph_nXkRyOm-e"
      },
      "execution_count": null,
      "outputs": []
    },
    {
      "cell_type": "markdown",
      "source": [
        "2. Faça um programa para imprimir a soma e a diferença entre dois números inteiros. "
      ],
      "metadata": {
        "id": "AxBSLingPODK"
      }
    },
    {
      "cell_type": "code",
      "source": [
        ""
      ],
      "metadata": {
        "id": "7HkjoWwGOlSa"
      },
      "execution_count": null,
      "outputs": []
    },
    {
      "cell_type": "markdown",
      "source": [
        "3. "
      ],
      "metadata": {
        "id": "lnOm3mINPPNF"
      }
    }
  ]
}